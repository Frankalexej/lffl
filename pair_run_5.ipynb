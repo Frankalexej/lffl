{
 "cells": [
  {
   "cell_type": "markdown",
   "metadata": {},
   "source": [
    "# Model Run: Pair learning\n",
    "Version 1  \n",
    "Low\n",
    "\n",
    "Version 2  \n",
    "Pregenerate list pair dataset\n",
    "\n",
    "Version 3  \n",
    "Using contrastive loss. "
   ]
  },
  {
   "cell_type": "markdown",
   "metadata": {},
   "source": [
    "## Import Libs"
   ]
  },
  {
   "cell_type": "code",
   "execution_count": 1,
   "metadata": {},
   "outputs": [],
   "source": [
    "import torch\n",
    "from torch import nn\n",
    "from torch import optim\n",
    "from torch.utils.data import DataLoader, random_split\n",
    "import pandas as pd\n",
    "import numpy as np\n",
    "import matplotlib.pyplot as plt\n",
    "from sklearn.metrics import precision_score, recall_score, f1_score\n",
    "import torch.nn.functional as F\n",
    "\n",
    "\n",
    "from model_model import SiameseNetworkV2\n",
    "from model_configs import ModelDimConfigs, TrainingConfigs\n",
    "from misc_tools import get_timestamp\n",
    "from model_dataset import MelSpecTransform, DS_Tools\n",
    "from model_dataset import PairRecDatasetPregen as ThisDataset\n",
    "from model_loss import ContrastiveLoss, calculate_mean_ci\n",
    "from model_filter import XpassFilter\n",
    "from paths import *\n",
    "from misc_progress_bar import draw_progress_bar\n",
    "from misc_recorder import *"
   ]
  },
  {
   "cell_type": "markdown",
   "metadata": {},
   "source": [
    "## Configure READ"
   ]
  },
  {
   "cell_type": "code",
   "execution_count": 2,
   "metadata": {},
   "outputs": [],
   "source": [
    "READ = False"
   ]
  },
  {
   "cell_type": "markdown",
   "metadata": {},
   "source": [
    "## Get Timestamp"
   ]
  },
  {
   "cell_type": "code",
   "execution_count": 3,
   "metadata": {},
   "outputs": [
    {
     "name": "stdout",
     "output_type": "stream",
     "text": [
      "pair-low-1120221328\n"
     ]
    }
   ],
   "source": [
    "if READ: \n",
    "    ts = \"1113221926\"\n",
    "else: \n",
    "    ts = str(get_timestamp())\n",
    "    ts = \"1120221328\"\n",
    "\n",
    "train_name = \"pair-low\"\n",
    "model_save_dir = os.path.join(model_save_, f\"{train_name}-{ts}\")\n",
    "mk(model_save_dir)\n",
    "print(f\"{train_name}-{ts}\")"
   ]
  },
  {
   "cell_type": "code",
   "execution_count": 4,
   "metadata": {},
   "outputs": [],
   "source": [
    "stop_epoch = \"99\"\n",
    "save_trainhist_name = \"train.hst\"\n",
    "save_valhist_name = \"val.hst\"\n",
    "# save_valprec_name = \"valprec.hst\"\n",
    "# save_valrec_name = \"valrec.hst\"\n",
    "# save_valf_name = \"valf.hst\"\n",
    "# val_same_name = \"valsame.csv\"\n",
    "# val_diff_name = \"valdiff.csv\"\n",
    "\n",
    "val_pos_name = \"valpos.hst\"\n",
    "val_neg_name = \"valneg.hst\""
   ]
  },
  {
   "cell_type": "markdown",
   "metadata": {},
   "source": [
    "## Prepare Loss Recording"
   ]
  },
  {
   "cell_type": "code",
   "execution_count": 5,
   "metadata": {},
   "outputs": [],
   "source": [
    "train_losses = ListRecorder(os.path.join(model_save_dir, save_trainhist_name))\n",
    "valid_losses = ListRecorder(os.path.join(model_save_dir, save_valhist_name))\n",
    "\n",
    "# valid_same = DfRecorder(os.path.join(model_save_dir, val_same_name))\n",
    "# valid_diff = DfRecorder(os.path.join(model_save_dir, val_diff_name))\n",
    "# valid_precs = ListRecorder(os.path.join(model_save_dir, save_valprec_name))\n",
    "# valid_recs = ListRecorder(os.path.join(model_save_dir, save_valrec_name))\n",
    "# valid_fs = ListRecorder(os.path.join(model_save_dir, save_valf_name))\n",
    "\n",
    "valid_pos = ListRecorder(os.path.join(model_save_dir, val_pos_name))\n",
    "valid_neg = ListRecorder(os.path.join(model_save_dir, val_neg_name))"
   ]
  },
  {
   "cell_type": "markdown",
   "metadata": {},
   "source": [
    "## Prepare Dataset"
   ]
  },
  {
   "cell_type": "code",
   "execution_count": 7,
   "metadata": {},
   "outputs": [
    {
     "name": "stdout",
     "output_type": "stream",
     "text": [
      "800 200\n"
     ]
    }
   ],
   "source": [
    "mytrans = MelSpecTransform(sample_rate=TrainingConfigs.REC_SAMPLE_RATE, \n",
    "                            n_fft=TrainingConfigs.N_FFT, \n",
    "                            n_mels=TrainingConfigs.N_MELS, \n",
    "                            filter=XpassFilter(cut_off_upper=500))\n",
    "ds = ThisDataset(train_cut_audio_, os.path.join(src_, \"guide_mod.csv\"), \n",
    "                 list_save_dir=model_save_dir, \n",
    "                 total_number=1000, transform=mytrans)\n",
    "\n",
    "if not READ: \n",
    "    # use_len = int(0.01 * len(ds))\n",
    "    # remain_len = len(ds) - use_len\n",
    "    # use_ds, remain_ds = random_split(ds, [use_len, remain_len])\n",
    "    use_ds = ds\n",
    "\n",
    "    train_len = int(0.8 * len(use_ds))\n",
    "    valid_len = len(use_ds) - train_len\n",
    "\n",
    "    # Randomly split the dataset into train and validation sets\n",
    "    train_ds, valid_ds = random_split(use_ds, [train_len, valid_len])\n",
    "\n",
    "    # NOTE: we don't need to save the cut-small subset, because after cutting-small, \n",
    "    # the saved train and valid separations will reflect this\n",
    "    DS_Tools.save_indices(os.path.join(model_save_dir, \"train.data\"), train_ds.indices)\n",
    "    DS_Tools.save_indices(os.path.join(model_save_dir, \"valid.data\"), valid_ds.indices)\n",
    "else: \n",
    "    train_ds_indices = DS_Tools.read_indices(os.path.join(model_save_dir, \"train.data\"))\n",
    "    valid_ds_indices = DS_Tools.read_indices(os.path.join(model_save_dir, \"valid.data\"))\n",
    "\n",
    "    train_ds = torch.utils.data.Subset(ds, train_ds_indices)\n",
    "    valid_ds = torch.utils.data.Subset(ds, valid_ds_indices)\n",
    "\n",
    "train_loader = DataLoader(train_ds, batch_size=TrainingConfigs.BATCH_SIZE, \n",
    "                          shuffle=True, \n",
    "                          num_workers=TrainingConfigs.LOADER_WORKER, \n",
    "                          collate_fn=ThisDataset.collate_fn)\n",
    "train_num = len(train_loader.dataset)\n",
    "\n",
    "valid_loader = DataLoader(valid_ds, batch_size=TrainingConfigs.BATCH_SIZE, \n",
    "                          shuffle=False, \n",
    "                          num_workers=TrainingConfigs.LOADER_WORKER, \n",
    "                          collate_fn=ThisDataset.collate_fn)\n",
    "valid_num = len(valid_loader.dataset)\n",
    "print(train_num, valid_num)"
   ]
  },
  {
   "cell_type": "markdown",
   "metadata": {},
   "source": [
    "## Init Model"
   ]
  },
  {
   "cell_type": "code",
   "execution_count": 8,
   "metadata": {},
   "outputs": [],
   "source": [
    "device = torch.device('cuda' if torch.cuda.is_available() else 'cpu')\n",
    "# criterion = nn.MSELoss()\n",
    "criterion = ContrastiveLoss(margin=1.5)\n",
    "# NOTE: no need to mask the loss, because we don't do reconstruction. \n",
    "\n",
    "dimconf = ModelDimConfigs(\n",
    "        rnn_in_size=TrainingConfigs.N_MELS, \n",
    "        lin_in_size_1=16, \n",
    "        lin_in_size_2=4, \n",
    "        lin_out_size_2=1\n",
    "    )\n",
    "\n",
    "model = SiameseNetworkV2(\n",
    "    dimconf=dimconf\n",
    ")\n",
    "model.to(device)\n",
    "optimizer = optim.Adam(model.parameters(), lr=1e-3)\n",
    "\n",
    "model_str = str(model)\n",
    "model_txt_path = os.path.join(model_save_dir, \"model.txt\")\n",
    "\n",
    "with open(model_txt_path, \"w\") as f:\n",
    "    f.write(model_str)"
   ]
  },
  {
   "cell_type": "code",
   "execution_count": 9,
   "metadata": {},
   "outputs": [
    {
     "data": {
      "text/plain": [
       "SiameseNetworkV2(\n",
       "  (rnn): SelfPackLSTM(\n",
       "    (rnn): LSTM(64, 16, num_layers=2, batch_first=True)\n",
       "    (extract): LastElementExtractor()\n",
       "  )\n",
       ")"
      ]
     },
     "execution_count": 9,
     "metadata": {},
     "output_type": "execute_result"
    }
   ],
   "source": [
    "model"
   ]
  },
  {
   "cell_type": "markdown",
   "metadata": {},
   "source": [
    "## Load Model if READ"
   ]
  },
  {
   "cell_type": "code",
   "execution_count": 10,
   "metadata": {},
   "outputs": [],
   "source": [
    "if READ: \n",
    "    valid_losses.read()\n",
    "    train_losses.read()\n",
    "\n",
    "    model_raw_name = f\"{stop_epoch}\"\n",
    "    model_name = model_raw_name + \".pt\"\n",
    "    model_path = os.path.join(model_save_dir, model_name)\n",
    "    state = torch.load(model_path)\n",
    "\n",
    "    model.load_state_dict(state)\n",
    "    model.to(device)"
   ]
  },
  {
   "cell_type": "code",
   "execution_count": 11,
   "metadata": {},
   "outputs": [],
   "source": [
    "EPOCHS = 30\n",
    "BASE = 0\n",
    "\n",
    "THRESHOLD = 0.3"
   ]
  },
  {
   "cell_type": "code",
   "execution_count": 12,
   "metadata": {},
   "outputs": [],
   "source": [
    "def evaluate_pair(output1,output2,target,threshold):\n",
    "    euclidean_distance = F.pairwise_distance(output1, output2)\n",
    "    # if target == 1:\n",
    "    #     return euclidean_distance > threshold\n",
    "    # else:\n",
    "    #     return euclidean_distance <= threshold\n",
    "    cond = euclidean_distance<threshold\n",
    "    # print(cond)\n",
    "    pos_sum = 0\n",
    "    neg_sum = 0\n",
    "    pos_acc = 0\n",
    "    neg_acc = 0\n",
    "\n",
    "    for i in range(len(cond)):\n",
    "        if target[i]:\n",
    "            neg_sum+=1\n",
    "            if not cond[i]:\n",
    "                neg_acc+=1\n",
    "        if not target[i]:\n",
    "            pos_sum+=1\n",
    "            if cond[i]:\n",
    "                pos_acc+=1\n",
    "\n",
    "    return pos_acc,pos_sum,neg_acc,neg_sum\n",
    "\n",
    "\n",
    "def draw_learning_curve_and_accuracy(losses, accs, epoch=\"\", save=False, save_name=\"\"): \n",
    "    plt.clf()\n",
    "    fig, (ax1, ax2) = plt.subplots(1, 2, figsize=(12, 4))\n",
    "    train_losses, valid_losses, best_val_loss = losses\n",
    "    valid_pos, valid_neg = accs\n",
    "\n",
    "    # Plot Loss on the left subplot\n",
    "    ax1.plot(train_losses, label='Train')\n",
    "    ax1.plot(valid_losses, label='Valid')\n",
    "    ax1.axvline(x=best_val_loss, color='r', linestyle='--', label=f'Best: {best_val_loss}')\n",
    "    ax1.set_title(\"Learning Curve Loss\" + f\" {epoch}\")\n",
    "    ax1.legend(loc=\"upper right\")\n",
    "\n",
    "    # Plot Accuracy on the right subplot\n",
    "    ax2.plot(valid_pos, label='Pos')\n",
    "    ax2.plot(valid_neg, label='Neg')\n",
    "    ax2.set_title('Learning Curve Accuracy' + f\" {epoch}\")\n",
    "    ax2.legend(loc=\"lower right\")\n",
    "\n",
    "    # Display the plots\n",
    "    plt.tight_layout()\n",
    "    plt.xlabel(\"Epoch\")\n",
    "    display.clear_output(wait=True)\n",
    "    display.display(plt.gcf())\n",
    "    if save: \n",
    "        plt.savefig(save_name)"
   ]
  },
  {
   "cell_type": "code",
   "execution_count": 19,
   "metadata": {},
   "outputs": [],
   "source": [
    "def train(): \n",
    "    best_valid_loss = 1e9\n",
    "    best_valid_loss_epoch = 0\n",
    "    for epoch in range(BASE, BASE + EPOCHS):\n",
    "        model.train()\n",
    "        train_loss = 0.\n",
    "        train_num = len(train_loader)    # train_loader\n",
    "        for idx, ((x_1, x_1_lens), (x_2, x_2_lens), y) in enumerate(train_loader):\n",
    "            optimizer.zero_grad()\n",
    "            \n",
    "            x_1 = x_1.to(device)\n",
    "            x_2 = x_2.to(device)\n",
    "            y = torch.tensor(y, device=device, dtype=torch.float32)\n",
    "\n",
    "            o1, o2 = model((x_1, x_2), (x_1_lens, x_2_lens))\n",
    "            # y_hat = y_hat.squeeze(dim=1)\n",
    "            loss = criterion(o1, o2, y)\n",
    "            train_loss += loss.item()\n",
    "\n",
    "            loss.backward()\n",
    "            \n",
    "            # torch.nn.utils.clip_grad_norm_(model.parameters(), clip_value)\n",
    "            # 这个函数计算的是全局梯度范数\n",
    "            # torch.nn.utils.clip_grad_norm(parameters=model.parameters(), max_norm=5, norm_type=2)\n",
    "            torch.nn.utils.clip_grad_norm_(parameters=model.parameters(), max_norm=5, norm_type=2)\n",
    "            # parameters: an iterable of Variables that will have gradients normalized\n",
    "            # max_norm: max norm of the gradients(阈值设定)\n",
    "            # norm_type: type of the used p-norm. Can be'inf'for infinity norm(定义范数类型)\n",
    "\n",
    "            optimizer.step()\n",
    "\n",
    "            draw_progress_bar(idx, train_num, title=\"Train\")\n",
    "\n",
    "        train_losses.append(train_loss / train_num)\n",
    "\n",
    "        last_model_name = f\"{epoch}.pt\"\n",
    "        torch.save(model.state_dict(), os.path.join(model_save_dir, last_model_name))\n",
    "\n",
    "        model.eval()\n",
    "        valid_loss = 0.\n",
    "        valid_num = len(valid_loader)\n",
    "        val_pos_accuracy = 0\n",
    "        val_neg_accuracy = 0\n",
    "        num_pos = 0\n",
    "        num_neg = 0\n",
    "        for idx, ((x_1, x_1_lens), (x_2, x_2_lens), y) in enumerate(valid_loader):\n",
    "            x_1 = x_1.to(device)\n",
    "            x_2 = x_2.to(device)\n",
    "            y = torch.tensor(y, device=device, dtype=torch.float32)\n",
    "\n",
    "            o1, o2 = model((x_1, x_2), (x_1_lens, x_2_lens))\n",
    "            # y_hat = y_hat.squeeze(dim=1)\n",
    "            loss = criterion(o1, o2, y)\n",
    "            valid_loss += loss.item()\n",
    "\n",
    "            pos_acc,pos_sum,neg_acc,neg_sum = evaluate_pair(o1, o2, y, THRESHOLD)\n",
    "            val_pos_accuracy+=pos_acc\n",
    "            val_neg_accuracy+=neg_acc\n",
    "            num_pos+=pos_sum\n",
    "            num_neg+=neg_sum\n",
    "            # euclidean_distance = F.pairwise_distance(o1, o2, keepdim = False)\n",
    "\n",
    "            # pred = model.predict_on_output(o1, o2, threshold=THRESHOLD)\n",
    "\n",
    "            # valid_preds += pred.cpu().tolist()\n",
    "            # valid_targets += y.cpu().tolist()\n",
    "\n",
    "            draw_progress_bar(idx, valid_num, title=\"Valid\")\n",
    "\n",
    "        avg_valid_loss = valid_loss / valid_num\n",
    "        valid_losses.append(avg_valid_loss)\n",
    "        val_pos_accuracy /= num_pos\n",
    "        val_neg_accuracy /= num_neg\n",
    "\n",
    "        valid_pos.append(val_pos_accuracy)\n",
    "        valid_neg.append(val_neg_accuracy)\n",
    "        \n",
    "        if avg_valid_loss < best_valid_loss: \n",
    "            best_valid_loss = avg_valid_loss\n",
    "            best_valid_loss_epoch = epoch\n",
    "\n",
    "        draw_learning_curve_and_accuracy(losses=(train_losses.get(), valid_losses.get(), best_valid_loss_epoch), \n",
    "                                         accs=(valid_pos.get(), valid_neg.get()),\n",
    "                                         epoch=str(epoch))\n",
    "        train_losses.save()\n",
    "        valid_losses.save()\n",
    "        valid_pos.save()\n",
    "        valid_neg.save()\n",
    "    \n",
    "    return best_valid_loss_epoch"
   ]
  },
  {
   "cell_type": "code",
   "execution_count": 21,
   "metadata": {},
   "outputs": [
    {
     "data": {
      "text/plain": [
       "([0.8469387755102041,\n",
       "  0.6938775510204082,\n",
       "  0.45918367346938777,\n",
       "  0.3163265306122449,\n",
       "  0.22448979591836735,\n",
       "  0.17346938775510204,\n",
       "  0.1326530612244898,\n",
       "  0.11224489795918367,\n",
       "  0.05102040816326531,\n",
       "  0.04081632653061224,\n",
       "  0.04081632653061224,\n",
       "  0.04081632653061224,\n",
       "  0.030612244897959183,\n",
       "  0.02040816326530612,\n",
       "  0.02040816326530612,\n",
       "  0.02040816326530612,\n",
       "  0.01020408163265306,\n",
       "  0.01020408163265306,\n",
       "  0.01020408163265306,\n",
       "  0.01020408163265306,\n",
       "  0.01020408163265306,\n",
       "  0.01020408163265306,\n",
       "  0.01020408163265306,\n",
       "  0.01020408163265306,\n",
       "  0.01020408163265306,\n",
       "  0.01020408163265306,\n",
       "  0.02040816326530612,\n",
       "  0.02040816326530612,\n",
       "  0.02040816326530612,\n",
       "  0.02040816326530612,\n",
       "  0.02040816326530612,\n",
       "  0.02040816326530612],\n",
       " [0.10784313725490197,\n",
       "  0.20588235294117646,\n",
       "  0.4215686274509804,\n",
       "  0.6078431372549019,\n",
       "  0.7450980392156863,\n",
       "  0.7941176470588235,\n",
       "  0.8529411764705882,\n",
       "  0.8921568627450981,\n",
       "  0.9313725490196079,\n",
       "  0.9509803921568627,\n",
       "  0.9509803921568627,\n",
       "  0.9607843137254902,\n",
       "  0.9607843137254902,\n",
       "  0.9705882352941176,\n",
       "  0.9705882352941176,\n",
       "  0.9607843137254902,\n",
       "  0.9705882352941176,\n",
       "  0.9803921568627451,\n",
       "  0.9803921568627451,\n",
       "  0.9803921568627451,\n",
       "  0.9803921568627451,\n",
       "  0.9803921568627451,\n",
       "  0.9803921568627451,\n",
       "  0.9705882352941176,\n",
       "  0.9803921568627451,\n",
       "  0.9803921568627451,\n",
       "  0.9803921568627451,\n",
       "  0.9803921568627451,\n",
       "  0.9803921568627451,\n",
       "  0.9803921568627451,\n",
       "  0.9803921568627451,\n",
       "  0.9803921568627451])"
      ]
     },
     "execution_count": 21,
     "metadata": {},
     "output_type": "execute_result"
    }
   ],
   "source": [
    "valid_pos.get(), valid_neg.get()"
   ]
  },
  {
   "cell_type": "code",
   "execution_count": 20,
   "metadata": {},
   "outputs": [
    {
     "data": {
      "image/png": "[encoded data removed]",
      "text/plain": [
       "<Figure size 1200x400 with 2 Axes>"
      ]
     },
     "metadata": {},
     "output_type": "display_data"
    },
    {
     "data": {
      "text/plain": [
       "<Figure size 640x480 with 0 Axes>"
      ]
     },
     "metadata": {},
     "output_type": "display_data"
    },
    {
     "data": {
      "text/plain": [
       "<Figure size 1200x400 with 0 Axes>"
      ]
     },
     "metadata": {},
     "output_type": "display_data"
    },
    {
     "data": {
      "text/plain": [
       "<Figure size 1200x400 with 0 Axes>"
      ]
     },
     "metadata": {},
     "output_type": "display_data"
    },
    {
     "data": {
      "text/plain": [
       "<Figure size 1200x400 with 0 Axes>"
      ]
     },
     "metadata": {},
     "output_type": "display_data"
    },
    {
     "data": {
      "text/plain": [
       "<Figure size 1200x400 with 0 Axes>"
      ]
     },
     "metadata": {},
     "output_type": "display_data"
    },
    {
     "data": {
      "text/plain": [
       "<Figure size 1200x400 with 0 Axes>"
      ]
     },
     "metadata": {},
     "output_type": "display_data"
    },
    {
     "data": {
      "text/plain": [
       "<Figure size 1200x400 with 0 Axes>"
      ]
     },
     "metadata": {},
     "output_type": "display_data"
    },
    {
     "data": {
      "text/plain": [
       "<Figure size 1200x400 with 0 Axes>"
      ]
     },
     "metadata": {},
     "output_type": "display_data"
    },
    {
     "data": {
      "text/plain": [
       "<Figure size 1200x400 with 0 Axes>"
      ]
     },
     "metadata": {},
     "output_type": "display_data"
    },
    {
     "data": {
      "text/plain": [
       "<Figure size 1200x400 with 0 Axes>"
      ]
     },
     "metadata": {},
     "output_type": "display_data"
    },
    {
     "data": {
      "text/plain": [
       "<Figure size 1200x400 with 0 Axes>"
      ]
     },
     "metadata": {},
     "output_type": "display_data"
    },
    {
     "data": {
      "text/plain": [
       "<Figure size 1200x400 with 0 Axes>"
      ]
     },
     "metadata": {},
     "output_type": "display_data"
    },
    {
     "data": {
      "text/plain": [
       "<Figure size 1200x400 with 0 Axes>"
      ]
     },
     "metadata": {},
     "output_type": "display_data"
    },
    {
     "data": {
      "text/plain": [
       "<Figure size 1200x400 with 0 Axes>"
      ]
     },
     "metadata": {},
     "output_type": "display_data"
    },
    {
     "data": {
      "text/plain": [
       "<Figure size 1200x400 with 0 Axes>"
      ]
     },
     "metadata": {},
     "output_type": "display_data"
    },
    {
     "data": {
      "text/plain": [
       "<Figure size 1200x400 with 0 Axes>"
      ]
     },
     "metadata": {},
     "output_type": "display_data"
    },
    {
     "data": {
      "text/plain": [
       "<Figure size 1200x400 with 0 Axes>"
      ]
     },
     "metadata": {},
     "output_type": "display_data"
    },
    {
     "data": {
      "text/plain": [
       "<Figure size 1200x400 with 0 Axes>"
      ]
     },
     "metadata": {},
     "output_type": "display_data"
    },
    {
     "data": {
      "text/plain": [
       "<Figure size 1200x400 with 0 Axes>"
      ]
     },
     "metadata": {},
     "output_type": "display_data"
    },
    {
     "data": {
      "text/plain": [
       "<Figure size 1200x400 with 0 Axes>"
      ]
     },
     "metadata": {},
     "output_type": "display_data"
    },
    {
     "data": {
      "text/plain": [
       "<Figure size 1200x400 with 0 Axes>"
      ]
     },
     "metadata": {},
     "output_type": "display_data"
    },
    {
     "data": {
      "text/plain": [
       "<Figure size 1200x400 with 0 Axes>"
      ]
     },
     "metadata": {},
     "output_type": "display_data"
    },
    {
     "data": {
      "text/plain": [
       "<Figure size 1200x400 with 0 Axes>"
      ]
     },
     "metadata": {},
     "output_type": "display_data"
    },
    {
     "data": {
      "text/plain": [
       "<Figure size 1200x400 with 0 Axes>"
      ]
     },
     "metadata": {},
     "output_type": "display_data"
    },
    {
     "data": {
      "text/plain": [
       "<Figure size 1200x400 with 0 Axes>"
      ]
     },
     "metadata": {},
     "output_type": "display_data"
    },
    {
     "data": {
      "text/plain": [
       "<Figure size 1200x400 with 0 Axes>"
      ]
     },
     "metadata": {},
     "output_type": "display_data"
    },
    {
     "data": {
      "text/plain": [
       "<Figure size 1200x400 with 0 Axes>"
      ]
     },
     "metadata": {},
     "output_type": "display_data"
    },
    {
     "data": {
      "text/plain": [
       "<Figure size 1200x400 with 0 Axes>"
      ]
     },
     "metadata": {},
     "output_type": "display_data"
    },
    {
     "data": {
      "text/plain": [
       "<Figure size 1200x400 with 0 Axes>"
      ]
     },
     "metadata": {},
     "output_type": "display_data"
    },
    {
     "data": {
      "text/plain": [
       "<Figure size 1200x400 with 0 Axes>"
      ]
     },
     "metadata": {},
     "output_type": "display_data"
    },
    {
     "data": {
      "text/plain": [
       "<Figure size 1200x400 with 0 Axes>"
      ]
     },
     "metadata": {},
     "output_type": "display_data"
    },
    {
     "data": {
      "image/png": "[encoded data removed]",
      "text/plain": [
       "<Figure size 1200x400 with 2 Axes>"
      ]
     },
     "metadata": {},
     "output_type": "display_data"
    }
   ],
   "source": [
    "if __name__ == \"__main__\": \n",
    "    best_valid_loss_epoch = train()\n",
    "    draw_learning_curve_and_accuracy(losses=(train_losses.get(), valid_losses.get(), best_valid_loss_epoch), \n",
    "                                         accs=(valid_pos.get(), valid_neg.get()),\n",
    "                                         epoch=str(BASE + EPOCHS - 1), \n",
    "                                         save=True,\n",
    "                                         save_name=f\"{model_save_dir}/vis.png\")"
   ]
  },
  {
   "cell_type": "code",
   "execution_count": null,
   "metadata": {},
   "outputs": [],
   "source": []
  }
 ],
 "metadata": {
  "kernelspec": {
   "display_name": "lffl",
   "language": "python",
   "name": "python3"
  },
  "language_info": {
   "codemirror_mode": {
    "name": "ipython",
    "version": 3
   },
   "file_extension": ".py",
   "mimetype": "text/x-python",
   "name": "python",
   "nbconvert_exporter": "python",
   "pygments_lexer": "ipython3",
   "version": "3.11.5"
  }
 },
 "nbformat": 4,
 "nbformat_minor": 2
}

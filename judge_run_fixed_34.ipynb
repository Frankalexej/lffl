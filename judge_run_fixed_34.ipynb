{
 "cells": [
  {
   "cell_type": "markdown",
   "metadata": {},
   "source": [
    "# Model Run\n",
    "Version 1: linear  \n",
    "Version 2: CNN (Sound directly)  \n",
    "Version 3: CNN (Mel)  \n",
    "Version 3.1: CNN (Mel) Modifications  \n",
    "Version 3.2: Small dataset (IY, AE, OW) test  \n",
    "Version 3.4: Increase model complexity for that. "
   ]
  },
  {
   "cell_type": "markdown",
   "metadata": {},
   "source": [
    "## Import Libs"
   ]
  },
  {
   "cell_type": "code",
   "execution_count": 1,
   "metadata": {},
   "outputs": [],
   "source": [
    "import torch\n",
    "from torch import nn\n",
    "from torch import optim\n",
    "from torch.utils.data import DataLoader, random_split\n",
    "import torchaudio\n",
    "import pandas as pd\n",
    "import numpy as np\n",
    "import matplotlib.pyplot as plt\n",
    "import random\n",
    "from torchinfo import summary\n",
    "import torch.nn.functional as F\n",
    "from torch.nn import init\n",
    "\n",
    "\n",
    "from model_model import SelfPackLSTM\n",
    "from model_configs import ModelDimConfigs, TrainingConfigs\n",
    "from misc_tools import get_timestamp\n",
    "from model_dataset import DS_Tools, Padder, TokenMap, NormalizerKeepShape\n",
    "from model_dataset import SingleRecSelectBalanceDatasetPrecombine as ThisDataset\n",
    "from model_filter import XpassFilter\n",
    "from paths import *\n",
    "from ssd_paths import *\n",
    "from misc_progress_bar import draw_progress_bar\n",
    "from misc_recorder import *"
   ]
  },
  {
   "cell_type": "markdown",
   "metadata": {},
   "source": [
    "## Configure READ"
   ]
  },
  {
   "cell_type": "code",
   "execution_count": 2,
   "metadata": {},
   "outputs": [],
   "source": [
    "READ = False"
   ]
  },
  {
   "cell_type": "markdown",
   "metadata": {},
   "source": [
    "## Get Timestamp"
   ]
  },
  {
   "cell_type": "code",
   "execution_count": 3,
   "metadata": {},
   "outputs": [
    {
     "name": "stdout",
     "output_type": "stream",
     "text": [
      "01_JOM-1205223332\n"
     ]
    }
   ],
   "source": [
    "if READ: \n",
    "    ts = \"\"\n",
    "else: \n",
    "    ts = str(get_timestamp())\n",
    "    # ts = \"1205203554\"\n",
    "\n",
    "train_name = \"01_JOM\"\n",
    "model_save_dir = os.path.join(model_save_, f\"{train_name}-{ts}\")\n",
    "print(f\"{train_name}-{ts}\")\n",
    "mk(model_save_dir)"
   ]
  },
  {
   "cell_type": "code",
   "execution_count": 4,
   "metadata": {},
   "outputs": [],
   "source": [
    "stop_epoch = \"149\"\n",
    "save_trainhist_name = \"train.hst\"\n",
    "save_valhist_name = \"val.hst\"\n",
    "save_valacc_name = \"valacc.hst\"\n",
    "save_trainacc_name = \"trainacc.hst\""
   ]
  },
  {
   "cell_type": "markdown",
   "metadata": {},
   "source": [
    "## Prepare Loss Recording"
   ]
  },
  {
   "cell_type": "code",
   "execution_count": 5,
   "metadata": {},
   "outputs": [],
   "source": [
    "train_losses = ListRecorder(os.path.join(model_save_dir, save_trainhist_name))\n",
    "valid_losses = ListRecorder(os.path.join(model_save_dir, save_valhist_name))\n",
    "\n",
    "valid_accs = ListRecorder(os.path.join(model_save_dir, save_valacc_name))\n",
    "train_accs = ListRecorder(os.path.join(model_save_dir, save_trainacc_name))"
   ]
  },
  {
   "cell_type": "markdown",
   "metadata": {},
   "source": [
    "## Prepare Dataset"
   ]
  },
  {
   "cell_type": "code",
   "execution_count": 11,
   "metadata": {},
   "outputs": [],
   "source": [
    "# select = [\"DH\", \"M\", \"Z\", \"K\"]\n",
    "# select = [\"N\", \"T\", \"D\", \"S\", \"R\", \"L\", \"DH\"]\n",
    "# [\"AY\", \"EY\", \"AO\"]\n",
    "select = [\"IY\", \"EH\", \"ER\", \"AE\", \"AY\", \"EY\", \"AO\", \"AA\", \"UW\", \"OW\", \"AW\", \"UH\"]\n",
    "\n",
    "mytrans = nn.Sequential(\n",
    "    Padder(sample_rate=TrainingConfigs.REC_SAMPLE_RATE, pad_len_ms=250, noise_level=1e-4), \n",
    "    torchaudio.transforms.MelSpectrogram(TrainingConfigs.REC_SAMPLE_RATE, \n",
    "                                         n_mels=TrainingConfigs.N_MELS, \n",
    "                                         n_fft=TrainingConfigs.N_FFT, \n",
    "                                         power=2), \n",
    "    torchaudio.transforms.AmplitudeToDB(stype=\"power\", top_db=80), \n",
    "    NormalizerKeepShape(NormalizerKeepShape.norm_mvn)\n",
    ")\n",
    "\n",
    "with open(os.path.join(src_, \"no-stress-seg.dict\"), \"rb\") as file:\n",
    "    # Load the object from the file\n",
    "    mylist = pickle.load(file)\n",
    "\n",
    "# select = mylist\n",
    "\n",
    "# Now you can use the loaded object\n",
    "mymap = TokenMap(mylist)\n",
    "train_ds = ThisDataset(strain_cut_audio_, \n",
    "                       os.path.join(suse_, \"guide_train.csv\"), \n",
    "                       select=select, \n",
    "                       mapper=mymap, \n",
    "                       transform=mytrans)\n",
    "valid_ds = ThisDataset(strain_cut_audio_, \n",
    "                       os.path.join(suse_, \"guide_validation.csv\"), \n",
    "                       select=select, \n",
    "                       mapper=mymap,\n",
    "                       transform=mytrans)\n",
    "use_proportion = 0.2\n",
    "\n",
    "if not READ: \n",
    "    # train data\n",
    "    use_len = int(use_proportion * len(train_ds))\n",
    "    remain_len = len(train_ds) - use_len\n",
    "    use_train_ds, remain_ds = random_split(train_ds, [use_len, remain_len])\n",
    "\n",
    "    # valid data\n",
    "    use_len = int(use_proportion * len(valid_ds))\n",
    "    remain_len = len(valid_ds) - use_len\n",
    "    use_valid_ds, remain_ds = random_split(valid_ds, [use_len, remain_len])\n",
    "\n",
    "    # NOTE: we don't need to save the cut-small subset, because after cutting-small, \n",
    "    # the saved train and valid separations will reflect this\n",
    "    DS_Tools.save_indices(os.path.join(model_save_dir, \"train.use\"), use_train_ds.indices)\n",
    "    DS_Tools.save_indices(os.path.join(model_save_dir, \"valid.use\"), use_valid_ds.indices)\n",
    "else: \n",
    "    train_ds_indices = DS_Tools.read_indices(os.path.join(model_save_dir, \"train.use\"))\n",
    "    valid_ds_indices = DS_Tools.read_indices(os.path.join(model_save_dir, \"valid.use\"))\n",
    "\n",
    "    use_train_ds = torch.utils.data.Subset(train_ds, train_ds_indices)\n",
    "    use_valid_ds = torch.utils.data.Subset(valid_ds, valid_ds_indices)\n",
    "\n",
    "train_loader = DataLoader(use_train_ds, batch_size=TrainingConfigs.BATCH_SIZE, \n",
    "                          shuffle=True, \n",
    "                          num_workers=TrainingConfigs.LOADER_WORKER)\n",
    "train_num = len(train_loader.dataset)\n",
    "\n",
    "valid_loader = DataLoader(use_valid_ds, batch_size=TrainingConfigs.BATCH_SIZE, \n",
    "                          shuffle=False, \n",
    "                          num_workers=TrainingConfigs.LOADER_WORKER)\n",
    "valid_num = len(valid_loader.dataset)"
   ]
  },
  {
   "cell_type": "code",
   "execution_count": 12,
   "metadata": {},
   "outputs": [
    {
     "data": {
      "text/plain": [
       "(85056, 12804, 12)"
      ]
     },
     "execution_count": 12,
     "metadata": {},
     "output_type": "execute_result"
    }
   ],
   "source": [
    "train_num, valid_num, train_ds.mapper.token_num()"
   ]
  },
  {
   "cell_type": "code",
   "execution_count": 13,
   "metadata": {},
   "outputs": [],
   "source": [
    "# Load sample data from train_loader\n",
    "sample_data = next(iter(valid_loader))\n",
    "xx_pad, seg = sample_data"
   ]
  },
  {
   "cell_type": "code",
   "execution_count": 14,
   "metadata": {},
   "outputs": [
    {
     "data": {
      "image/png": "[encoded data removed]",
      "text/plain": [
       "<Figure size 1200x800 with 7 Axes>"
      ]
     },
     "metadata": {},
     "output_type": "display_data"
    }
   ],
   "source": [
    "# Set the random seed for reproducibility\n",
    "# random.seed(101)\n",
    "# Generate six random indices\n",
    "random_indices = random.sample(range(len(xx_pad)), 6)\n",
    "\n",
    "# Plot the spectrograms and mark the corresponding seg\n",
    "fig, axes = plt.subplots(2, 3, figsize=(12, 8))\n",
    "axes = axes.flatten()\n",
    "\n",
    "for i, idx in enumerate(random_indices):\n",
    "    spectrogram = xx_pad[idx]\n",
    "    segment = seg[idx]\n",
    "    \n",
    "    ax = axes[i]\n",
    "    img = ax.imshow(spectrogram[0], aspect='auto', origin=\"lower\")\n",
    "    # ax.axvline(x=segment, color='red', linestyle='--')\n",
    "    # ax.axvline(x=segment[1], color='red', linestyle='--')\n",
    "    ax.set_title(f'Spectrogram {segment}')\n",
    "    ax.set_xlabel('Time')\n",
    "    ax.set_ylabel('Frequency')\n",
    "plt.tight_layout()\n",
    "plt.colorbar(img,ax=axes)\n",
    "plt.show()"
   ]
  },
  {
   "cell_type": "markdown",
   "metadata": {},
   "source": [
    "## Init Model"
   ]
  },
  {
   "cell_type": "code",
   "execution_count": 15,
   "metadata": {},
   "outputs": [],
   "source": [
    "# class JudgeNetwork(nn.Module):\n",
    "#     def __init__(self, dimconf:ModelDimConfigs):\n",
    "#         super().__init__()\n",
    "#         conv_layers = []\n",
    "\n",
    "#         self.conv1 = nn.Conv2d(1, 8, kernel_size=(5, 5), stride=(2, 2), padding=(2, 2))\n",
    "#         self.relu1 = nn.ReLU()\n",
    "#         self.bn1 = nn.BatchNorm2d(8)\n",
    "#         init.kaiming_normal_(self.conv1.weight, a=0.1)\n",
    "#         self.conv1.bias.data.zero_()\n",
    "#         conv_layers += [self.conv1, self.relu1, self.bn1]\n",
    "\n",
    "#         # Adjust the other convolutional blocks accordingly\n",
    "\n",
    "#         self.conv2 = nn.Conv2d(8, 16, kernel_size=(3, 3), stride=(2, 2), padding=(1, 1))\n",
    "#         self.relu2 = nn.ReLU()\n",
    "#         self.bn2 = nn.BatchNorm2d(16)\n",
    "#         init.kaiming_normal_(self.conv2.weight, a=0.1)\n",
    "#         self.conv2.bias.data.zero_()\n",
    "#         conv_layers += [self.conv2, self.relu2, self.bn2]\n",
    "\n",
    "#         # Adjust the other convolutional blocks accordingly\n",
    "\n",
    "#         self.conv3 = nn.Conv2d(16, 32, kernel_size=(3, 3), stride=(2, 2), padding=(1, 1))\n",
    "#         self.relu3 = nn.ReLU()\n",
    "#         self.bn3 = nn.BatchNorm2d(32)\n",
    "#         init.kaiming_normal_(self.conv3.weight, a=0.1)\n",
    "#         self.conv3.bias.data.zero_()\n",
    "#         conv_layers += [self.conv3, self.relu3, self.bn3]\n",
    "\n",
    "#         self.conv4 = nn.Conv2d(32, 64, kernel_size=(3, 3), stride=(2, 2), padding=(1, 1))\n",
    "#         self.relu4 = nn.ReLU()\n",
    "#         self.bn4 = nn.BatchNorm2d(64)\n",
    "#         init.kaiming_normal_(self.conv4.weight, a=0.1)\n",
    "#         self.conv4.bias.data.zero_()\n",
    "#         conv_layers += [self.conv4, self.relu4, self.bn4]\n",
    "\n",
    "#         self.ap = nn.AdaptiveAvgPool2d(output_size=1)\n",
    "#         self.lin = nn.Linear(in_features=64, out_features=39)\n",
    "\n",
    "#         self.conv = nn.Sequential(*conv_layers)\n",
    "\n",
    "#     def forward(self, x):\n",
    "#         x = self.conv(x)\n",
    "#         x = self.ap(x)\n",
    "#         x = x.view(x.shape[0], -1)\n",
    "#         x = self.lin(x)\n",
    "#         return x\n",
    "\n",
    "#     def predict_on_output(self, output): \n",
    "#         output = nn.Softmax(dim=1)(output)\n",
    "#         preds = torch.argmax(output, dim=1)\n",
    "#         return preds"
   ]
  },
  {
   "cell_type": "code",
   "execution_count": 16,
   "metadata": {},
   "outputs": [],
   "source": [
    "# ti = torch.rand((16, 1, 64, 21))\n",
    "#             nn.Conv2d(64, 256, kernel_size=(3, 3), stride=1), \n",
    "#             nn.ReLU(), \n",
    "#             nn.BatchNorm2d(256), \n",
    "#             nn.MaxPool2d(kernel_size=2),  "
   ]
  },
  {
   "cell_type": "code",
   "execution_count": 17,
   "metadata": {},
   "outputs": [],
   "source": [
    "# nn.Sequential(\n",
    "#             nn.Conv2d(1, 16, kernel_size=7, stride=1, padding=3), \n",
    "#             nn.ReLU(), \n",
    "#             nn.BatchNorm2d(16), \n",
    "#             nn.MaxPool2d(kernel_size=2, stride=2), \n",
    "#             nn.Conv2d(16, 64, kernel_size=5, stride=1, padding=2), \n",
    "#             nn.ReLU(), \n",
    "#             nn.BatchNorm2d(64), \n",
    "#             nn.MaxPool2d(kernel_size=2, stride=2), \n",
    "#             nn.Conv2d(64, 256, kernel_size=3, stride=1, padding=1), \n",
    "#             nn.ReLU(), \n",
    "#             nn.BatchNorm2d(256), \n",
    "#             nn.MaxPool2d(kernel_size=2, stride=2)\n",
    "#         )(ti).shape"
   ]
  },
  {
   "cell_type": "code",
   "execution_count": 18,
   "metadata": {},
   "outputs": [],
   "source": [
    "conv_1 = nn.Sequential(\n",
    "    nn.Conv2d(1, 32, kernel_size=7, stride=1, padding=3), \n",
    "    nn.BatchNorm2d(32), \n",
    "    nn.ReLU(), \n",
    "    nn.MaxPool2d(kernel_size=2, stride=2),\n",
    ")\n",
    "conv_2 = nn.Sequential(\n",
    "    nn.Conv2d(32, 32, kernel_size=3, stride=1, padding=1), \n",
    "    nn.BatchNorm2d(32), \n",
    "    nn.ReLU(), \n",
    "    nn.Conv2d(32, 32, kernel_size=3, stride=1, padding=1), \n",
    "    nn.BatchNorm2d(32), \n",
    ")\n",
    "conv_3 = nn.Sequential(\n",
    "    nn.Conv2d(32, 128, kernel_size=3, stride=1, padding=1), \n",
    "    nn.BatchNorm2d(128), \n",
    "    nn.ReLU(), \n",
    "    nn.MaxPool2d(kernel_size=2, stride=2),\n",
    ")\n",
    "\n",
    "conv_4 = nn.Sequential(\n",
    "    nn.Conv2d(128, 128, kernel_size=3, stride=1, padding=1), \n",
    "    nn.BatchNorm2d(128), \n",
    "    nn.ReLU(), \n",
    "    nn.Conv2d(128, 128, kernel_size=3, stride=1, padding=1), \n",
    ")\n",
    "conv_5 = nn.Sequential(\n",
    "    nn.Conv2d(128, 512, kernel_size=3, stride=1, padding=1), \n",
    "    nn.BatchNorm2d(512), \n",
    "    nn.ReLU(), \n",
    "    nn.MaxPool2d(kernel_size=2, stride=2),\n",
    ")"
   ]
  },
  {
   "cell_type": "code",
   "execution_count": 19,
   "metadata": {},
   "outputs": [
    {
     "data": {
      "text/plain": [
       "==========================================================================================\n",
       "Layer (type:depth-idx)                   Output Shape              Param #\n",
       "==========================================================================================\n",
       "Sequential                               [128, 512, 8, 2]          --\n",
       "├─Sequential: 1-1                        [128, 32, 32, 10]         --\n",
       "│    └─Conv2d: 2-1                       [128, 32, 64, 21]         1,600\n",
       "│    └─BatchNorm2d: 2-2                  [128, 32, 64, 21]         64\n",
       "│    └─ReLU: 2-3                         [128, 32, 64, 21]         --\n",
       "│    └─MaxPool2d: 2-4                    [128, 32, 32, 10]         --\n",
       "├─Sequential: 1-2                        [128, 32, 32, 10]         --\n",
       "│    └─Conv2d: 2-5                       [128, 32, 32, 10]         9,248\n",
       "│    └─BatchNorm2d: 2-6                  [128, 32, 32, 10]         64\n",
       "│    └─ReLU: 2-7                         [128, 32, 32, 10]         --\n",
       "│    └─Conv2d: 2-8                       [128, 32, 32, 10]         9,248\n",
       "│    └─BatchNorm2d: 2-9                  [128, 32, 32, 10]         64\n",
       "├─Sequential: 1-3                        [128, 128, 16, 5]         --\n",
       "│    └─Conv2d: 2-10                      [128, 128, 32, 10]        36,992\n",
       "│    └─BatchNorm2d: 2-11                 [128, 128, 32, 10]        256\n",
       "│    └─ReLU: 2-12                        [128, 128, 32, 10]        --\n",
       "│    └─MaxPool2d: 2-13                   [128, 128, 16, 5]         --\n",
       "├─Sequential: 1-4                        [128, 128, 16, 5]         --\n",
       "│    └─Conv2d: 2-14                      [128, 128, 16, 5]         147,584\n",
       "│    └─BatchNorm2d: 2-15                 [128, 128, 16, 5]         256\n",
       "│    └─ReLU: 2-16                        [128, 128, 16, 5]         --\n",
       "│    └─Conv2d: 2-17                      [128, 128, 16, 5]         147,584\n",
       "├─Sequential: 1-5                        [128, 512, 8, 2]          --\n",
       "│    └─Conv2d: 2-18                      [128, 512, 16, 5]         590,336\n",
       "│    └─BatchNorm2d: 2-19                 [128, 512, 16, 5]         1,024\n",
       "│    └─ReLU: 2-20                        [128, 512, 16, 5]         --\n",
       "│    └─MaxPool2d: 2-21                   [128, 512, 8, 2]          --\n",
       "==========================================================================================\n",
       "Total params: 944,320\n",
       "Trainable params: 944,320\n",
       "Non-trainable params: 0\n",
       "Total mult-adds (Units.GIGABYTES): 11.62\n",
       "==========================================================================================\n",
       "Input size (MB): 0.69\n",
       "Forward/backward pass size (MB): 329.25\n",
       "Params size (MB): 3.78\n",
       "Estimated Total Size (MB): 333.72\n",
       "=========================================================================================="
      ]
     },
     "execution_count": 19,
     "metadata": {},
     "output_type": "execute_result"
    }
   ],
   "source": [
    "summary(nn.Sequential(\n",
    "    conv_1,\n",
    "    conv_2,\n",
    "    conv_3,\n",
    "    conv_4,\n",
    "    conv_5,\n",
    "        ), input_size=(128, 1, 64, 21))"
   ]
  },
  {
   "cell_type": "code",
   "execution_count": 20,
   "metadata": {},
   "outputs": [
    {
     "data": {
      "text/plain": [
       "==========================================================================================\n",
       "Layer (type:depth-idx)                   Output Shape              Param #\n",
       "==========================================================================================\n",
       "Sequential                               [128, 16, 64, 21]         --\n",
       "├─Conv2d: 1-1                            [128, 8, 64, 21]          400\n",
       "├─BatchNorm2d: 1-2                       [128, 8, 64, 21]          16\n",
       "├─ReLU: 1-3                              [128, 8, 64, 21]          --\n",
       "├─Conv2d: 1-4                            [128, 16, 64, 21]         3,216\n",
       "├─BatchNorm2d: 1-5                       [128, 16, 64, 21]         32\n",
       "==========================================================================================\n",
       "Total params: 3,664\n",
       "Trainable params: 3,664\n",
       "Non-trainable params: 0\n",
       "Total mult-adds (Units.MEGABYTES): 622.07\n",
       "==========================================================================================\n",
       "Input size (MB): 0.69\n",
       "Forward/backward pass size (MB): 66.06\n",
       "Params size (MB): 0.01\n",
       "Estimated Total Size (MB): 66.76\n",
       "=========================================================================================="
      ]
     },
     "execution_count": 20,
     "metadata": {},
     "output_type": "execute_result"
    }
   ],
   "source": [
    "summary(nn.Sequential(\n",
    "            nn.Conv2d(1, 8, kernel_size=7, stride=1, padding=3), \n",
    "            nn.BatchNorm2d(8), \n",
    "            nn.ReLU(), \n",
    "            nn.Conv2d(8, 16, kernel_size=5, stride=1, padding=2), \n",
    "            nn.BatchNorm2d(16), \n",
    "        ), input_size=(128, 1, 64, 21))"
   ]
  },
  {
   "cell_type": "code",
   "execution_count": 21,
   "metadata": {},
   "outputs": [
    {
     "data": {
      "text/plain": [
       "'\\n            nn.Conv2d(1, 16, kernel_size=3, stride=1, padding=1), \\n            nn.BatchNorm2d(16), \\n            nn.ReLU(), \\n            nn.MaxPool2d(kernel_size=2, stride=2), \\n            nn.Conv2d(16, 64, kernel_size=3, stride=1, padding=1), \\n            nn.BatchNorm2d(64), \\n            nn.ReLU(), \\n            nn.MaxPool2d(kernel_size=2, stride=2), \\n            nn.Conv2d(64, 256, kernel_size=3, stride=1, padding=1), \\n            nn.BatchNorm2d(256), \\n            nn.ReLU(), \\n            nn.MaxPool2d(kernel_size=2, stride=2)\\n'"
      ]
     },
     "execution_count": 21,
     "metadata": {},
     "output_type": "execute_result"
    }
   ],
   "source": [
    "\"\"\"\n",
    "            nn.Conv2d(1, 16, kernel_size=3, stride=1, padding=1), \n",
    "            nn.BatchNorm2d(16), \n",
    "            nn.ReLU(), \n",
    "            nn.MaxPool2d(kernel_size=2, stride=2), \n",
    "            nn.Conv2d(16, 64, kernel_size=3, stride=1, padding=1), \n",
    "            nn.BatchNorm2d(64), \n",
    "            nn.ReLU(), \n",
    "            nn.MaxPool2d(kernel_size=2, stride=2), \n",
    "            nn.Conv2d(64, 256, kernel_size=3, stride=1, padding=1), \n",
    "            nn.BatchNorm2d(256), \n",
    "            nn.ReLU(), \n",
    "            nn.MaxPool2d(kernel_size=2, stride=2)\n",
    "\"\"\""
   ]
  },
  {
   "cell_type": "code",
   "execution_count": 22,
   "metadata": {},
   "outputs": [],
   "source": [
    "class JudgeNetwork(nn.Module):\n",
    "    def __init__(self):\n",
    "        super().__init__()\n",
    "        self.act = nn.ReLU()\n",
    "        \n",
    "        self.conv_1 = nn.Sequential(\n",
    "            nn.Conv2d(1, 32, kernel_size=7, stride=1, padding=3), \n",
    "            nn.BatchNorm2d(32), \n",
    "            nn.ReLU(), \n",
    "            nn.MaxPool2d(kernel_size=2, stride=2),\n",
    "        )\n",
    "        self.conv_2 = nn.Sequential(\n",
    "            nn.Conv2d(32, 32, kernel_size=3, stride=1, padding=1), \n",
    "            nn.BatchNorm2d(32), \n",
    "            nn.ReLU(), \n",
    "            nn.Conv2d(32, 32, kernel_size=3, stride=1, padding=1), \n",
    "            nn.BatchNorm2d(32), \n",
    "        )\n",
    "        self.conv_3 = nn.Sequential(\n",
    "            nn.Conv2d(32, 128, kernel_size=3, stride=1, padding=1), \n",
    "            nn.BatchNorm2d(128), \n",
    "            nn.ReLU(), \n",
    "            nn.MaxPool2d(kernel_size=2, stride=2),\n",
    "        )\n",
    "\n",
    "        self.conv_4 = nn.Sequential(\n",
    "            nn.Conv2d(128, 128, kernel_size=3, stride=1, padding=1), \n",
    "            nn.BatchNorm2d(128), \n",
    "            nn.ReLU(), \n",
    "            nn.Conv2d(128, 128, kernel_size=3, stride=1, padding=1), \n",
    "            nn.BatchNorm2d(128), \n",
    "        )\n",
    "\n",
    "        self.conv_5 = nn.Sequential(\n",
    "            nn.Conv2d(128, 512, kernel_size=3, stride=1, padding=1), \n",
    "            nn.BatchNorm2d(512), \n",
    "            nn.ReLU(), \n",
    "            nn.MaxPool2d(kernel_size=2, stride=2),\n",
    "        )\n",
    "\n",
    "        self.ap = nn.AdaptiveAvgPool2d(output_size=1)\n",
    "        self.lin_1 = nn.Sequential(\n",
    "            nn.Linear(512, 64), \n",
    "            nn.Dropout(0.7), \n",
    "            nn.BatchNorm1d(64),\n",
    "            nn.ReLU(),\n",
    "        )\n",
    "        # self.lin = nn.Linear(in_features=256, out_features=39)\n",
    "        self.lin_2 = nn.Sequential(\n",
    "            nn.Linear(64, len(select)), \n",
    "            # nn.Sigmoid(), \n",
    "        )\n",
    "\n",
    "        # self.conv.apply(self.init_conv_weights)\n",
    "        # self.lin.apply(self.init_lin_weights)\n",
    "\n",
    "    def init_lin_weights(self, m):\n",
    "        if isinstance(m, nn.Linear):\n",
    "            # torch.nn.init.xavier_normal_(m.weight)\n",
    "            torch.nn.init.kaiming_normal_(m.weight, a=0.1)\n",
    "            m.bias.data.fill_(0.01)\n",
    "    \n",
    "    def init_conv_weights(self, m):\n",
    "        if isinstance(m, nn.Conv2d):\n",
    "            torch.nn.init.kaiming_normal_(m.weight, a=0.1)\n",
    "            m.bias.data.zero_()\n",
    "\n",
    "    def forward(self, x):\n",
    "        x = self.conv_1(x)\n",
    "        x = self.act(self.conv_2(x) + x)\n",
    "        x = self.conv_3(x)\n",
    "        x = self.act(self.conv_4(x) + x)\n",
    "        x = self.conv_5(x)\n",
    "        x = self.ap(x)\n",
    "        x = x.view(x.shape[0], -1)\n",
    "        x = self.lin_1(x)\n",
    "        x = self.lin_2(x)\n",
    "        return x\n",
    "\n",
    "    def predict_on_output(self, output): \n",
    "        output = nn.Softmax(dim=1)(output)\n",
    "        preds = torch.argmax(output, dim=1)\n",
    "        return preds"
   ]
  },
  {
   "cell_type": "code",
   "execution_count": 23,
   "metadata": {},
   "outputs": [],
   "source": [
    "device = torch.device('cuda' if torch.cuda.is_available() else 'cpu')\n",
    "criterion = nn.CrossEntropyLoss()\n",
    "# NOTE: no need to mask the loss, because we don't do reconstruction. \n",
    "\n",
    "# dimconf = ModelDimConfigs(\n",
    "#         rnn_in_size=TrainingConfigs.N_MELS, \n",
    "#         lin_in_size_1=256, \n",
    "#         lin_in_size_2=ds.mapper.token_num(), \n",
    "#         lin_out_size_2=ds.mapper.token_num()\n",
    "#     )\n",
    "\n",
    "model = JudgeNetwork()\n",
    "model.to(device)\n",
    "optimizer = optim.Adam(model.parameters(), lr=1e-3)\n",
    "\n",
    "model_str = str(model)\n",
    "model_txt_path = os.path.join(model_save_dir, \"model.txt\")\n",
    "\n",
    "with open(model_txt_path, \"w\") as f:\n",
    "    f.write(model_str)"
   ]
  },
  {
   "cell_type": "code",
   "execution_count": 24,
   "metadata": {},
   "outputs": [
    {
     "name": "stdout",
     "output_type": "stream",
     "text": [
      "==========================================================================================\n",
      "Layer (type:depth-idx)                   Output Shape              Param #\n",
      "==========================================================================================\n",
      "JudgeNetwork                             [128, 12]                 --\n",
      "├─Sequential: 1-1                        [128, 32, 32, 10]         --\n",
      "│    └─Conv2d: 2-1                       [128, 32, 64, 21]         1,600\n",
      "│    └─BatchNorm2d: 2-2                  [128, 32, 64, 21]         64\n",
      "│    └─ReLU: 2-3                         [128, 32, 64, 21]         --\n",
      "│    └─MaxPool2d: 2-4                    [128, 32, 32, 10]         --\n",
      "├─Sequential: 1-2                        [128, 32, 32, 10]         --\n",
      "│    └─Conv2d: 2-5                       [128, 32, 32, 10]         9,248\n",
      "│    └─BatchNorm2d: 2-6                  [128, 32, 32, 10]         64\n",
      "│    └─ReLU: 2-7                         [128, 32, 32, 10]         --\n",
      "│    └─Conv2d: 2-8                       [128, 32, 32, 10]         9,248\n",
      "│    └─BatchNorm2d: 2-9                  [128, 32, 32, 10]         64\n",
      "├─ReLU: 1-3                              [128, 32, 32, 10]         --\n",
      "├─Sequential: 1-4                        [128, 128, 16, 5]         --\n",
      "│    └─Conv2d: 2-10                      [128, 128, 32, 10]        36,992\n",
      "│    └─BatchNorm2d: 2-11                 [128, 128, 32, 10]        256\n",
      "│    └─ReLU: 2-12                        [128, 128, 32, 10]        --\n",
      "│    └─MaxPool2d: 2-13                   [128, 128, 16, 5]         --\n",
      "├─Sequential: 1-5                        [128, 128, 16, 5]         --\n",
      "│    └─Conv2d: 2-14                      [128, 128, 16, 5]         147,584\n",
      "│    └─BatchNorm2d: 2-15                 [128, 128, 16, 5]         256\n",
      "│    └─ReLU: 2-16                        [128, 128, 16, 5]         --\n",
      "│    └─Conv2d: 2-17                      [128, 128, 16, 5]         147,584\n",
      "│    └─BatchNorm2d: 2-18                 [128, 128, 16, 5]         256\n",
      "├─ReLU: 1-6                              [128, 128, 16, 5]         --\n",
      "├─Sequential: 1-7                        [128, 512, 8, 2]          --\n",
      "│    └─Conv2d: 2-19                      [128, 512, 16, 5]         590,336\n",
      "│    └─BatchNorm2d: 2-20                 [128, 512, 16, 5]         1,024\n",
      "│    └─ReLU: 2-21                        [128, 512, 16, 5]         --\n",
      "│    └─MaxPool2d: 2-22                   [128, 512, 8, 2]          --\n",
      "├─AdaptiveAvgPool2d: 1-8                 [128, 512, 1, 1]          --\n",
      "├─Sequential: 1-9                        [128, 64]                 --\n",
      "│    └─Linear: 2-23                      [128, 64]                 32,832\n",
      "│    └─Dropout: 2-24                     [128, 64]                 --\n",
      "│    └─BatchNorm1d: 2-25                 [128, 64]                 128\n",
      "│    └─ReLU: 2-26                        [128, 64]                 --\n",
      "├─Sequential: 1-10                       [128, 12]                 --\n",
      "│    └─Linear: 2-27                      [128, 12]                 780\n",
      "==========================================================================================\n",
      "Total params: 978,316\n",
      "Trainable params: 978,316\n",
      "Non-trainable params: 0\n",
      "Total mult-adds (Units.GIGABYTES): 11.62\n",
      "==========================================================================================\n",
      "Input size (MB): 0.69\n",
      "Forward/backward pass size (MB): 339.88\n",
      "Params size (MB): 3.91\n",
      "Estimated Total Size (MB): 344.48\n",
      "==========================================================================================\n"
     ]
    }
   ],
   "source": [
    "print(str(summary(model, input_size=(128, 1, 64, 21))))"
   ]
  },
  {
   "cell_type": "code",
   "execution_count": 25,
   "metadata": {},
   "outputs": [
    {
     "data": {
      "text/plain": [
       "JudgeNetwork(\n",
       "  (act): ReLU()\n",
       "  (conv_1): Sequential(\n",
       "    (0): Conv2d(1, 32, kernel_size=(7, 7), stride=(1, 1), padding=(3, 3))\n",
       "    (1): BatchNorm2d(32, eps=1e-05, momentum=0.1, affine=True, track_running_stats=True)\n",
       "    (2): ReLU()\n",
       "    (3): MaxPool2d(kernel_size=2, stride=2, padding=0, dilation=1, ceil_mode=False)\n",
       "  )\n",
       "  (conv_2): Sequential(\n",
       "    (0): Conv2d(32, 32, kernel_size=(3, 3), stride=(1, 1), padding=(1, 1))\n",
       "    (1): BatchNorm2d(32, eps=1e-05, momentum=0.1, affine=True, track_running_stats=True)\n",
       "    (2): ReLU()\n",
       "    (3): Conv2d(32, 32, kernel_size=(3, 3), stride=(1, 1), padding=(1, 1))\n",
       "    (4): BatchNorm2d(32, eps=1e-05, momentum=0.1, affine=True, track_running_stats=True)\n",
       "  )\n",
       "  (conv_3): Sequential(\n",
       "    (0): Conv2d(32, 128, kernel_size=(3, 3), stride=(1, 1), padding=(1, 1))\n",
       "    (1): BatchNorm2d(128, eps=1e-05, momentum=0.1, affine=True, track_running_stats=True)\n",
       "    (2): ReLU()\n",
       "    (3): MaxPool2d(kernel_size=2, stride=2, padding=0, dilation=1, ceil_mode=False)\n",
       "  )\n",
       "  (conv_4): Sequential(\n",
       "    (0): Conv2d(128, 128, kernel_size=(3, 3), stride=(1, 1), padding=(1, 1))\n",
       "    (1): BatchNorm2d(128, eps=1e-05, momentum=0.1, affine=True, track_running_stats=True)\n",
       "    (2): ReLU()\n",
       "    (3): Conv2d(128, 128, kernel_size=(3, 3), stride=(1, 1), padding=(1, 1))\n",
       "    (4): BatchNorm2d(128, eps=1e-05, momentum=0.1, affine=True, track_running_stats=True)\n",
       "  )\n",
       "  (conv_5): Sequential(\n",
       "    (0): Conv2d(128, 512, kernel_size=(3, 3), stride=(1, 1), padding=(1, 1))\n",
       "    (1): BatchNorm2d(512, eps=1e-05, momentum=0.1, affine=True, track_running_stats=True)\n",
       "    (2): ReLU()\n",
       "    (3): MaxPool2d(kernel_size=2, stride=2, padding=0, dilation=1, ceil_mode=False)\n",
       "  )\n",
       "  (ap): AdaptiveAvgPool2d(output_size=1)\n",
       "  (lin_1): Sequential(\n",
       "    (0): Linear(in_features=512, out_features=64, bias=True)\n",
       "    (1): Dropout(p=0.7, inplace=False)\n",
       "    (2): BatchNorm1d(64, eps=1e-05, momentum=0.1, affine=True, track_running_stats=True)\n",
       "    (3): ReLU()\n",
       "  )\n",
       "  (lin_2): Sequential(\n",
       "    (0): Linear(in_features=64, out_features=12, bias=True)\n",
       "  )\n",
       ")"
      ]
     },
     "execution_count": 25,
     "metadata": {},
     "output_type": "execute_result"
    }
   ],
   "source": [
    "model"
   ]
  },
  {
   "cell_type": "markdown",
   "metadata": {},
   "source": [
    "## Load Model if READ"
   ]
  },
  {
   "cell_type": "code",
   "execution_count": 26,
   "metadata": {},
   "outputs": [],
   "source": [
    "def draw_learning_curve_and_accuracy(losses, accs, epoch=\"\", best_val=None, save=False, save_name=\"\"): \n",
    "    plt.clf()\n",
    "    fig, (ax1, ax2) = plt.subplots(1, 2, figsize=(12, 4))\n",
    "    train_losses, valid_losses, best_val_loss = losses\n",
    "    train_accs, valid_accs = accs\n",
    "\n",
    "    # Plot Loss on the left subplot\n",
    "    ax1.plot(train_losses, label='Train')\n",
    "    ax1.plot(valid_losses, label='Valid')\n",
    "    # ax1.axvline(x=best_val_loss, color='r', linestyle='--', label=f'Best: {best_val_loss}')\n",
    "    ax1.set_title(\"Learning Curve Loss\" + f\" {epoch}\")\n",
    "    ax1.legend(loc=\"upper right\")\n",
    "    ax1.set_xlabel(\"Epoch\" + f\" (Best: {best_val_loss})\")\n",
    "\n",
    "    # Plot Accuracy on the right subplot\n",
    "    ax2.plot(train_accs, label='Train')\n",
    "    ax2.plot(valid_accs, label='Valid')\n",
    "    if best_val: \n",
    "        ax2.axhline(y=best_val, color='r', linestyle='--', label=f'Best: {best_val:.3f}')\n",
    "    ax2.set_title('Learning Curve Accuracy' + f\" {epoch}\")\n",
    "    ax2.legend(loc=\"lower right\")\n",
    "    ax2.set_xlabel(\"Epoch\" + f\" (Best: {best_val_loss})\")\n",
    "\n",
    "    # Display the plots\n",
    "    plt.tight_layout()\n",
    "    # plt.xlabel(\"Epoch\")\n",
    "    display.clear_output(wait=True)\n",
    "    display.display(plt.gcf())\n",
    "    if save: \n",
    "        plt.savefig(save_name)"
   ]
  },
  {
   "cell_type": "code",
   "execution_count": 27,
   "metadata": {},
   "outputs": [],
   "source": [
    "if READ: \n",
    "    valid_losses.read()\n",
    "    train_losses.read()\n",
    "\n",
    "    model_raw_name = f\"{stop_epoch}\"\n",
    "    model_name = model_raw_name + \".pt\"\n",
    "    model_path = os.path.join(model_save_dir, model_name)\n",
    "    state = torch.load(model_path)\n",
    "\n",
    "    model.load_state_dict(state)\n",
    "    model.to(device)"
   ]
  },
  {
   "cell_type": "code",
   "execution_count": 28,
   "metadata": {},
   "outputs": [],
   "source": [
    "best_valid_loss = 1e9\n",
    "best_valid_loss_epoch = 0"
   ]
  },
  {
   "cell_type": "code",
   "execution_count": 29,
   "metadata": {},
   "outputs": [],
   "source": [
    "EPOCHS = 50\n",
    "BASE = 0"
   ]
  },
  {
   "cell_type": "code",
   "execution_count": 30,
   "metadata": {},
   "outputs": [],
   "source": [
    "def train(best_valid_loss, best_valid_loss_epoch): \n",
    "    for epoch in range(BASE, BASE + EPOCHS):\n",
    "        model.train()\n",
    "        train_loss = 0.\n",
    "        train_num = len(train_loader)    # train_loader\n",
    "        train_correct = 0\n",
    "        train_total = 0\n",
    "        for idx, (x, y) in enumerate(train_loader):\n",
    "            optimizer.zero_grad()\n",
    "            \n",
    "            x = x.to(device)\n",
    "            y = torch.tensor(y, device=device)\n",
    "\n",
    "            y_hat = model(x)\n",
    "            loss = criterion(y_hat, y)\n",
    "            train_loss += loss.item()\n",
    "\n",
    "            loss.backward()\n",
    "            \n",
    "            # torch.nn.utils.clip_grad_norm_(model.parameters(), clip_value)\n",
    "            # 这个函数计算的是全局梯度范数\n",
    "            # torch.nn.utils.clip_grad_norm(parameters=model.parameters(), max_norm=5, norm_type=2)\n",
    "            torch.nn.utils.clip_grad_norm_(parameters=model.parameters(), max_norm=5, norm_type=2)\n",
    "            # parameters: an iterable of Variables that will have gradients normalized\n",
    "            # max_norm: max norm of the gradients(阈值设定)\n",
    "            # norm_type: type of the used p-norm. Can be'inf'for infinity norm(定义范数类型)\n",
    "\n",
    "            optimizer.step()\n",
    "            pred = model.predict_on_output(y_hat)\n",
    "\n",
    "            train_total += y_hat.size(0)\n",
    "            train_correct += (pred == y).sum().item()\n",
    "\n",
    "            draw_progress_bar(idx, train_num, title=\"Train\")\n",
    "\n",
    "        train_losses.append(train_loss / train_num)\n",
    "        train_accs.append(train_correct / train_total)\n",
    "\n",
    "        last_model_name = f\"{epoch}.pt\"\n",
    "        torch.save(model.state_dict(), os.path.join(model_save_dir, last_model_name))\n",
    "\n",
    "        model.eval()\n",
    "        valid_loss = 0.\n",
    "        valid_num = len(valid_loader)\n",
    "        valid_correct = 0\n",
    "        valid_total = 0\n",
    "        for idx, (x, y) in enumerate(valid_loader):\n",
    "            x = x.to(device)\n",
    "            y = torch.tensor(y, device=device)\n",
    "\n",
    "            y_hat = model(x)\n",
    "            loss = criterion(y_hat, y)\n",
    "            valid_loss += loss.item()\n",
    "\n",
    "            pred = model.predict_on_output(y_hat)\n",
    "\n",
    "            valid_total += y_hat.size(0)\n",
    "            valid_correct += (pred == y).sum().item()\n",
    "\n",
    "            # draw_progress_bar(idx, valid_num, title=\"Valid\")\n",
    "\n",
    "        avg_valid_loss = valid_loss / valid_num\n",
    "        valid_losses.append(avg_valid_loss)\n",
    "        valid_accs.append(valid_correct / valid_total)\n",
    "        if avg_valid_loss < best_valid_loss: \n",
    "            best_valid_loss = avg_valid_loss\n",
    "            best_valid_loss_epoch = epoch\n",
    "\n",
    "        draw_learning_curve_and_accuracy(losses=(train_losses.get(), valid_losses.get(), best_valid_loss_epoch), \n",
    "                                         accs=(train_accs.get(), valid_accs.get()), \n",
    "                                         epoch=str(epoch))\n",
    "        train_losses.save()\n",
    "        valid_losses.save()\n",
    "        train_accs.save()\n",
    "        valid_accs.save()\n",
    "\n",
    "    return best_valid_loss, best_valid_loss_epoch"
   ]
  },
  {
   "cell_type": "markdown",
   "metadata": {},
   "source": [
    "# I think increasing model complexity does not change the picture"
   ]
  },
  {
   "cell_type": "code",
   "execution_count": 31,
   "metadata": {},
   "outputs": [
    {
     "data": {
      "image/png": "[encoded data removed]",
      "text/plain": [
       "<Figure size 1200x400 with 2 Axes>"
      ]
     },
     "metadata": {},
     "output_type": "display_data"
    },
    {
     "data": {
      "text/plain": [
       "<Figure size 640x480 with 0 Axes>"
      ]
     },
     "metadata": {},
     "output_type": "display_data"
    },
    {
     "data": {
      "text/plain": [
       "<Figure size 1200x400 with 0 Axes>"
      ]
     },
     "metadata": {},
     "output_type": "display_data"
    },
    {
     "data": {
      "text/plain": [
       "<Figure size 1200x400 with 0 Axes>"
      ]
     },
     "metadata": {},
     "output_type": "display_data"
    },
    {
     "data": {
      "text/plain": [
       "<Figure size 1200x400 with 0 Axes>"
      ]
     },
     "metadata": {},
     "output_type": "display_data"
    },
    {
     "data": {
      "text/plain": [
       "<Figure size 1200x400 with 0 Axes>"
      ]
     },
     "metadata": {},
     "output_type": "display_data"
    },
    {
     "data": {
      "text/plain": [
       "<Figure size 1200x400 with 0 Axes>"
      ]
     },
     "metadata": {},
     "output_type": "display_data"
    },
    {
     "data": {
      "text/plain": [
       "<Figure size 1200x400 with 0 Axes>"
      ]
     },
     "metadata": {},
     "output_type": "display_data"
    },
    {
     "data": {
      "text/plain": [
       "<Figure size 1200x400 with 0 Axes>"
      ]
     },
     "metadata": {},
     "output_type": "display_data"
    },
    {
     "data": {
      "text/plain": [
       "<Figure size 1200x400 with 0 Axes>"
      ]
     },
     "metadata": {},
     "output_type": "display_data"
    },
    {
     "data": {
      "text/plain": [
       "<Figure size 1200x400 with 0 Axes>"
      ]
     },
     "metadata": {},
     "output_type": "display_data"
    },
    {
     "data": {
      "text/plain": [
       "<Figure size 1200x400 with 0 Axes>"
      ]
     },
     "metadata": {},
     "output_type": "display_data"
    },
    {
     "data": {
      "text/plain": [
       "<Figure size 1200x400 with 0 Axes>"
      ]
     },
     "metadata": {},
     "output_type": "display_data"
    },
    {
     "data": {
      "text/plain": [
       "<Figure size 1200x400 with 0 Axes>"
      ]
     },
     "metadata": {},
     "output_type": "display_data"
    },
    {
     "data": {
      "text/plain": [
       "<Figure size 1200x400 with 0 Axes>"
      ]
     },
     "metadata": {},
     "output_type": "display_data"
    },
    {
     "data": {
      "text/plain": [
       "<Figure size 1200x400 with 0 Axes>"
      ]
     },
     "metadata": {},
     "output_type": "display_data"
    },
    {
     "data": {
      "text/plain": [
       "<Figure size 1200x400 with 0 Axes>"
      ]
     },
     "metadata": {},
     "output_type": "display_data"
    },
    {
     "data": {
      "text/plain": [
       "<Figure size 1200x400 with 0 Axes>"
      ]
     },
     "metadata": {},
     "output_type": "display_data"
    },
    {
     "data": {
      "text/plain": [
       "<Figure size 1200x400 with 0 Axes>"
      ]
     },
     "metadata": {},
     "output_type": "display_data"
    },
    {
     "data": {
      "text/plain": [
       "<Figure size 1200x400 with 0 Axes>"
      ]
     },
     "metadata": {},
     "output_type": "display_data"
    },
    {
     "data": {
      "text/plain": [
       "<Figure size 1200x400 with 0 Axes>"
      ]
     },
     "metadata": {},
     "output_type": "display_data"
    },
    {
     "data": {
      "text/plain": [
       "<Figure size 1200x400 with 0 Axes>"
      ]
     },
     "metadata": {},
     "output_type": "display_data"
    },
    {
     "data": {
      "text/plain": [
       "<Figure size 1200x400 with 0 Axes>"
      ]
     },
     "metadata": {},
     "output_type": "display_data"
    },
    {
     "data": {
      "text/plain": [
       "<Figure size 1200x400 with 0 Axes>"
      ]
     },
     "metadata": {},
     "output_type": "display_data"
    },
    {
     "data": {
      "text/plain": [
       "<Figure size 1200x400 with 0 Axes>"
      ]
     },
     "metadata": {},
     "output_type": "display_data"
    },
    {
     "data": {
      "text/plain": [
       "<Figure size 1200x400 with 0 Axes>"
      ]
     },
     "metadata": {},
     "output_type": "display_data"
    },
    {
     "data": {
      "text/plain": [
       "<Figure size 1200x400 with 0 Axes>"
      ]
     },
     "metadata": {},
     "output_type": "display_data"
    },
    {
     "data": {
      "text/plain": [
       "<Figure size 1200x400 with 0 Axes>"
      ]
     },
     "metadata": {},
     "output_type": "display_data"
    },
    {
     "data": {
      "text/plain": [
       "<Figure size 1200x400 with 0 Axes>"
      ]
     },
     "metadata": {},
     "output_type": "display_data"
    },
    {
     "data": {
      "text/plain": [
       "<Figure size 1200x400 with 0 Axes>"
      ]
     },
     "metadata": {},
     "output_type": "display_data"
    },
    {
     "data": {
      "text/plain": [
       "<Figure size 1200x400 with 0 Axes>"
      ]
     },
     "metadata": {},
     "output_type": "display_data"
    },
    {
     "data": {
      "text/plain": [
       "<Figure size 1200x400 with 0 Axes>"
      ]
     },
     "metadata": {},
     "output_type": "display_data"
    },
    {
     "data": {
      "text/plain": [
       "<Figure size 1200x400 with 0 Axes>"
      ]
     },
     "metadata": {},
     "output_type": "display_data"
    },
    {
     "data": {
      "text/plain": [
       "<Figure size 1200x400 with 0 Axes>"
      ]
     },
     "metadata": {},
     "output_type": "display_data"
    },
    {
     "data": {
      "text/plain": [
       "<Figure size 1200x400 with 0 Axes>"
      ]
     },
     "metadata": {},
     "output_type": "display_data"
    },
    {
     "data": {
      "text/plain": [
       "<Figure size 1200x400 with 0 Axes>"
      ]
     },
     "metadata": {},
     "output_type": "display_data"
    },
    {
     "data": {
      "text/plain": [
       "<Figure size 1200x400 with 0 Axes>"
      ]
     },
     "metadata": {},
     "output_type": "display_data"
    },
    {
     "data": {
      "text/plain": [
       "<Figure size 1200x400 with 0 Axes>"
      ]
     },
     "metadata": {},
     "output_type": "display_data"
    },
    {
     "data": {
      "text/plain": [
       "<Figure size 1200x400 with 0 Axes>"
      ]
     },
     "metadata": {},
     "output_type": "display_data"
    },
    {
     "data": {
      "text/plain": [
       "<Figure size 1200x400 with 0 Axes>"
      ]
     },
     "metadata": {},
     "output_type": "display_data"
    },
    {
     "data": {
      "text/plain": [
       "<Figure size 1200x400 with 0 Axes>"
      ]
     },
     "metadata": {},
     "output_type": "display_data"
    },
    {
     "data": {
      "text/plain": [
       "<Figure size 1200x400 with 0 Axes>"
      ]
     },
     "metadata": {},
     "output_type": "display_data"
    },
    {
     "data": {
      "text/plain": [
       "<Figure size 1200x400 with 0 Axes>"
      ]
     },
     "metadata": {},
     "output_type": "display_data"
    },
    {
     "data": {
      "text/plain": [
       "<Figure size 1200x400 with 0 Axes>"
      ]
     },
     "metadata": {},
     "output_type": "display_data"
    },
    {
     "data": {
      "text/plain": [
       "<Figure size 1200x400 with 0 Axes>"
      ]
     },
     "metadata": {},
     "output_type": "display_data"
    },
    {
     "data": {
      "text/plain": [
       "<Figure size 1200x400 with 0 Axes>"
      ]
     },
     "metadata": {},
     "output_type": "display_data"
    },
    {
     "data": {
      "text/plain": [
       "<Figure size 1200x400 with 0 Axes>"
      ]
     },
     "metadata": {},
     "output_type": "display_data"
    },
    {
     "data": {
      "text/plain": [
       "<Figure size 1200x400 with 0 Axes>"
      ]
     },
     "metadata": {},
     "output_type": "display_data"
    },
    {
     "data": {
      "text/plain": [
       "<Figure size 1200x400 with 0 Axes>"
      ]
     },
     "metadata": {},
     "output_type": "display_data"
    },
    {
     "data": {
      "text/plain": [
       "<Figure size 1200x400 with 0 Axes>"
      ]
     },
     "metadata": {},
     "output_type": "display_data"
    },
    {
     "data": {
      "text/plain": [
       "<Figure size 1200x400 with 0 Axes>"
      ]
     },
     "metadata": {},
     "output_type": "display_data"
    },
    {
     "data": {
      "text/plain": [
       "<Figure size 1200x400 with 0 Axes>"
      ]
     },
     "metadata": {},
     "output_type": "display_data"
    },
    {
     "data": {
      "image/png": "[encoded data removed]",
      "text/plain": [
       "<Figure size 1200x400 with 2 Axes>"
      ]
     },
     "metadata": {},
     "output_type": "display_data"
    }
   ],
   "source": [
    "if __name__ == \"__main__\": \n",
    "    best_valid_loss, best_valid_loss_epoch = train(best_valid_loss, best_valid_loss_epoch)\n",
    "    draw_learning_curve_and_accuracy(losses=(train_losses.get(), valid_losses.get(), best_valid_loss_epoch), \n",
    "                                    accs=(train_accs.get(), valid_accs.get()), \n",
    "                                    epoch=str(BASE + EPOCHS - 1), \n",
    "                                    best_val=valid_accs.get()[best_valid_loss_epoch], \n",
    "                                    save=True, \n",
    "                                    save_name=f\"{model_save_dir}/vis.png\")"
   ]
  },
  {
   "cell_type": "markdown",
   "metadata": {},
   "source": [
    "## Check F1"
   ]
  },
  {
   "cell_type": "markdown",
   "metadata": {},
   "source": [
    "### Load Best model"
   ]
  },
  {
   "cell_type": "code",
   "execution_count": 37,
   "metadata": {},
   "outputs": [
    {
     "data": {
      "text/plain": [
       "JudgeNetwork(\n",
       "  (conv): Sequential(\n",
       "    (0): Conv2d(1, 8, kernel_size=(7, 7), stride=(1, 1), padding=(3, 3))\n",
       "    (1): BatchNorm2d(8, eps=1e-05, momentum=0.1, affine=True, track_running_stats=True)\n",
       "    (2): ReLU()\n",
       "    (3): MaxPool2d(kernel_size=2, stride=2, padding=0, dilation=1, ceil_mode=False)\n",
       "    (4): Conv2d(8, 16, kernel_size=(5, 5), stride=(1, 1), padding=(2, 2))\n",
       "    (5): BatchNorm2d(16, eps=1e-05, momentum=0.1, affine=True, track_running_stats=True)\n",
       "    (6): ReLU()\n",
       "    (7): MaxPool2d(kernel_size=2, stride=2, padding=0, dilation=1, ceil_mode=False)\n",
       "    (8): Conv2d(16, 32, kernel_size=(3, 3), stride=(1, 1), padding=(1, 1))\n",
       "    (9): BatchNorm2d(32, eps=1e-05, momentum=0.1, affine=True, track_running_stats=True)\n",
       "    (10): ReLU()\n",
       "    (11): MaxPool2d(kernel_size=2, stride=2, padding=0, dilation=1, ceil_mode=False)\n",
       "    (12): Conv2d(32, 64, kernel_size=(3, 3), stride=(1, 1), padding=(1, 1))\n",
       "    (13): BatchNorm2d(64, eps=1e-05, momentum=0.1, affine=True, track_running_stats=True)\n",
       "    (14): ReLU()\n",
       "  )\n",
       "  (lin_1): Sequential(\n",
       "    (0): Linear(in_features=1024, out_features=64, bias=True)\n",
       "    (1): Dropout(p=0.7, inplace=False)\n",
       "    (2): BatchNorm1d(64, eps=1e-05, momentum=0.1, affine=True, track_running_stats=True)\n",
       "    (3): ReLU()\n",
       "  )\n",
       "  (lin_2): Sequential(\n",
       "    (0): Linear(in_features=64, out_features=39, bias=True)\n",
       "  )\n",
       ")"
      ]
     },
     "execution_count": 37,
     "metadata": {},
     "output_type": "execute_result"
    }
   ],
   "source": [
    "model_raw_name = f\"{best_valid_loss_epoch}\"\n",
    "model_name = model_raw_name + \".pt\"\n",
    "model_path = os.path.join(model_save_dir, model_name)\n",
    "state = torch.load(model_path)\n",
    "\n",
    "model.load_state_dict(state)\n",
    "model.to(device)"
   ]
  },
  {
   "cell_type": "code",
   "execution_count": 38,
   "metadata": {},
   "outputs": [],
   "source": [
    "from sklearn.metrics import precision_score, recall_score, f1_score"
   ]
  },
  {
   "cell_type": "code",
   "execution_count": 39,
   "metadata": {},
   "outputs": [
    {
     "name": "stderr",
     "output_type": "stream",
     "text": [
      "/tmp/ipykernel_2115559/2045211559.py:7: UserWarning: To copy construct from a tensor, it is recommended to use sourceTensor.clone().detach() or sourceTensor.clone().detach().requires_grad_(True), rather than torch.tensor(sourceTensor).\n",
      "  y = torch.tensor(y, device=device)\n"
     ]
    }
   ],
   "source": [
    "model.eval()\n",
    "true_labels = []\n",
    "predicted_labels = []\n",
    "with torch.no_grad():\n",
    "    for idx, (x, y) in enumerate(valid_loader):\n",
    "        x = x.to(device)\n",
    "        y = torch.tensor(y, device=device)\n",
    "        y_hat = model(x)\n",
    "        pred = model.predict_on_output(y_hat)\n",
    "        true_labels += y.tolist()\n",
    "        predicted_labels += pred.tolist()"
   ]
  },
  {
   "cell_type": "code",
   "execution_count": 40,
   "metadata": {},
   "outputs": [
    {
     "name": "stdout",
     "output_type": "stream",
     "text": [
      "Precision: 0.5977156062973024\n",
      "Recall: 0.5834124723013612\n",
      "F1 Score: 0.5856532985364677\n"
     ]
    }
   ],
   "source": [
    "# Calculate precision\n",
    "precision = precision_score(true_labels, predicted_labels, average=\"weighted\")\n",
    "\n",
    "# Calculate recall\n",
    "recall = recall_score(true_labels, predicted_labels, average=\"weighted\")\n",
    "\n",
    "# Calculate F1 score\n",
    "f1 = f1_score(true_labels, predicted_labels, average=\"weighted\")\n",
    "\n",
    "# Print the results\n",
    "print(\"Precision:\", precision)\n",
    "print(\"Recall:\", recall)\n",
    "print(\"F1 Score:\", f1)"
   ]
  },
  {
   "cell_type": "code",
   "execution_count": null,
   "metadata": {},
   "outputs": [],
   "source": []
  },
  {
   "cell_type": "markdown",
   "metadata": {},
   "source": [
    "# IMPORTANT: it is not strange that we have higher validation accuracy than training if we use Dropout, because it will randomly de-functionalize part of the neurons for training but it will not do anything during validation. "
   ]
  }
 ],
 "metadata": {
  "kernelspec": {
   "display_name": "lffl",
   "language": "python",
   "name": "python3"
  },
  "language_info": {
   "codemirror_mode": {
    "name": "ipython",
    "version": 3
   },
   "file_extension": ".py",
   "mimetype": "text/x-python",
   "name": "python",
   "nbconvert_exporter": "python",
   "pygments_lexer": "ipython3",
   "version": "3.11.5"
  }
 },
 "nbformat": 4,
 "nbformat_minor": 2
}

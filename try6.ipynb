{
 "cells": [
  {
   "cell_type": "code",
   "execution_count": 1,
   "metadata": {},
   "outputs": [],
   "source": [
    "import torch\n",
    "from torch.utils.data import DataLoader, TensorDataset"
   ]
  },
  {
   "cell_type": "code",
   "execution_count": 3,
   "metadata": {},
   "outputs": [
    {
     "name": "stdout",
     "output_type": "stream",
     "text": [
      "tensor([0, 1, 1, 1, 0, 1, 1, 1, 0, 1, 0, 0, 1, 0, 0, 0])\n",
      "tensor([0, 1, 1, 1])\n",
      "tensor([0, 1, 1, 1])\n",
      "tensor([0, 1, 0, 0])\n",
      "tensor([1, 0, 0, 0])\n"
     ]
    }
   ],
   "source": [
    "# Assuming you have a dataset (features and labels) stored as tensors\n",
    "features = torch.randn(16, 10)  # Example: 128 samples with 10 features each\n",
    "labels = torch.randint(0, 2, (16,))  # Example: Binary labels\n",
    "\n",
    "# Create a PyTorch TensorDataset\n",
    "dataset = TensorDataset(features, labels)\n",
    "\n",
    "# Create a DataLoader without shuffling\n",
    "batch_size = 4\n",
    "dataloader = DataLoader(dataset, batch_size=batch_size, shuffle=False)\n",
    "print(labels)\n",
    "\n",
    "# Iterate through batches\n",
    "for batch_idx, (batch_features, batch_labels) in enumerate(dataloader):\n",
    "    # print(f\"Batch {batch_idx + 1}: Features shape {batch_features.shape}, Labels shape {batch_labels.shape}\")\n",
    "    print(batch_labels)\n"
   ]
  },
  {
   "cell_type": "code",
   "execution_count": 1,
   "metadata": {},
   "outputs": [],
   "source": [
    "import os\n",
    "import pickle\n",
    "from paths import *\n",
    "from ssd_paths import *"
   ]
  },
  {
   "cell_type": "code",
   "execution_count": 2,
   "metadata": {},
   "outputs": [],
   "source": [
    "with open(os.path.join(src_, \"no-stress-seg.dict\"), \"rb\") as file:\n",
    "    # Load the object from the file\n",
    "    mylist = pickle.load(file)"
   ]
  }
 ],
 "metadata": {
  "kernelspec": {
   "display_name": "lffl",
   "language": "python",
   "name": "python3"
  },
  "language_info": {
   "codemirror_mode": {
    "name": "ipython",
    "version": 3
   },
   "file_extension": ".py",
   "mimetype": "text/x-python",
   "name": "python",
   "nbconvert_exporter": "python",
   "pygments_lexer": "ipython3",
   "version": "3.11.5"
  }
 },
 "nbformat": 4,
 "nbformat_minor": 2
}

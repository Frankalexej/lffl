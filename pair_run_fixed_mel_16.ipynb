{
 "cells": [
  {
   "cell_type": "markdown",
   "metadata": {},
   "source": [
    "# Model Run: Pair learning (Fixed length)\n",
    "Version 1  \n",
    "CNN + Mel.db.global-minmax\n",
    "\n",
    "Version 2  \n",
    "\n",
    "\n",
    "Version 3  \n",
    "CNN + rawaudio\n",
    "\n",
    "Version 6  \n",
    "CNN + rawaudio + separate speakers\n",
    "\n",
    "Version 8  \n",
    "Further adjustments done to model to tackle overfitting\n",
    "\n",
    "Version 8+  \n",
    "Trying Melspectrogram, see whether it helps. \n",
    "\n",
    "Version 9  \n",
    "Exclude AH, sp, spn, sil. \n",
    "\n",
    "Version 10  \n",
    "I found that perhaps the difference in significance came from the difference in sample size, so this time try two things: use a subset of training set with the size of original validation set to check if the same data with smaller size can reach significance. Also, try to make validation set same size as training set. \n",
    "\n",
    "Version 12  \n",
    "Try smaller size and different pos/neg ratio\n",
    "\n",
    "Version 16  \n",
    "Small size. Try try"
   ]
  },
  {
   "cell_type": "markdown",
   "metadata": {},
   "source": [
    "## Import Libs"
   ]
  },
  {
   "cell_type": "code",
   "execution_count": 1,
   "metadata": {},
   "outputs": [
    {
     "name": "stderr",
     "output_type": "stream",
     "text": [
      "/home/ldlmdl/anaconda3/envs/nlffl/lib/python3.11/site-packages/tqdm/auto.py:21: TqdmWarning: IProgress not found. Please update jupyter and ipywidgets. See https://ipywidgets.readthedocs.io/en/stable/user_install.html\n",
      "  from .autonotebook import tqdm as notebook_tqdm\n"
     ]
    }
   ],
   "source": [
    "import torch\n",
    "from torch import nn\n",
    "from torch import optim\n",
    "from torch.utils.data import DataLoader, random_split\n",
    "import pandas as pd\n",
    "import numpy as np\n",
    "import matplotlib.pyplot as plt\n",
    "from sklearn.metrics import precision_score, recall_score, f1_score\n",
    "import torch.nn.functional as F\n",
    "# import torchmetrics.functional as tmf\n",
    "from torchaudio.transforms import MelSpectrogram, AmplitudeToDB, TimeMasking, FrequencyMasking\n",
    "import random\n",
    "from torchinfo import summary\n",
    "from umap import UMAP\n",
    "\n",
    "\n",
    "from model_model import SiameseNetworkV2\n",
    "from model_configs import ModelDimConfigs, TrainingConfigs\n",
    "from misc_tools import get_timestamp\n",
    "from model_dataset import Padder, DS_Tools, NormalizerKeepShape\n",
    "from model_dataset import PairRecDatasetPregenPrecombineSelect as ThisDataset\n",
    "from model_loss import ContrastiveLoss, calculate_mean_ci\n",
    "from model_filter import XpassFilter\n",
    "from paths import *\n",
    "from ssd_paths import *\n",
    "from misc_progress_bar import draw_progress_bar\n",
    "from misc_recorder import *"
   ]
  },
  {
   "cell_type": "markdown",
   "metadata": {},
   "source": [
    "## Configure READ"
   ]
  },
  {
   "cell_type": "code",
   "execution_count": 2,
   "metadata": {},
   "outputs": [],
   "source": [
    "READ = False"
   ]
  },
  {
   "cell_type": "markdown",
   "metadata": {},
   "source": [
    "## Get Timestamp"
   ]
  },
  {
   "cell_type": "code",
   "execution_count": 3,
   "metadata": {},
   "outputs": [
    {
     "name": "stdout",
     "output_type": "stream",
     "text": [
      "00_CPOM-1206151926\n"
     ]
    }
   ],
   "source": [
    "if READ: \n",
    "    ts = \"1113221926\"\n",
    "else: \n",
    "    ts = str(get_timestamp())\n",
    "    ts = \"1206151926\"\n",
    "\n",
    "train_name = \"00_CPOM\"\n",
    "model_save_dir = os.path.join(model_save_, f\"{train_name}-{ts}\")\n",
    "mk(model_save_dir)\n",
    "print(f\"{train_name}-{ts}\")"
   ]
  },
  {
   "cell_type": "code",
   "execution_count": 4,
   "metadata": {},
   "outputs": [],
   "source": [
    "stop_epoch = \"99\"\n",
    "save_trainhist_name = \"train.hst\"\n",
    "save_valhist_name = \"val.hst\"\n",
    "# save_valprec_name = \"valprec.hst\"\n",
    "# save_valrec_name = \"valrec.hst\"\n",
    "# save_valf_name = \"valf.hst\"\n",
    "val_same_name = \"valsame.csv\"\n",
    "val_diff_name = \"valdiff.csv\"\n",
    "train_same_name = \"trainsame.csv\"\n",
    "train_diff_name = \"traindiff.csv\"\n",
    "\n",
    "# val_pos_name = \"valpos.hst\"\n",
    "# val_neg_name = \"valneg.hst\""
   ]
  },
  {
   "cell_type": "markdown",
   "metadata": {},
   "source": [
    "## Prepare Loss Recording"
   ]
  },
  {
   "cell_type": "code",
   "execution_count": 5,
   "metadata": {},
   "outputs": [],
   "source": [
    "train_losses = ListRecorder(os.path.join(model_save_dir, save_trainhist_name))\n",
    "valid_losses = ListRecorder(os.path.join(model_save_dir, save_valhist_name))\n",
    "\n",
    "valid_same = DfRecorder(os.path.join(model_save_dir, val_same_name))\n",
    "valid_diff = DfRecorder(os.path.join(model_save_dir, val_diff_name))\n",
    "train_same = DfRecorder(os.path.join(model_save_dir, train_same_name))\n",
    "train_diff = DfRecorder(os.path.join(model_save_dir, train_diff_name))\n",
    "# valid_precs = ListRecorder(os.path.join(model_save_dir, save_valprec_name))\n",
    "# valid_recs = ListRecorder(os.path.join(model_save_dir, save_valrec_name))\n",
    "# valid_fs = ListRecorder(os.path.join(model_save_dir, save_valf_name))\n",
    "\n",
    "# valid_pos = ListRecorder(os.path.join(model_save_dir, val_pos_name))\n",
    "# valid_neg = ListRecorder(os.path.join(model_save_dir, val_neg_name))"
   ]
  },
  {
   "cell_type": "markdown",
   "metadata": {},
   "source": [
    "## Notes"
   ]
  },
  {
   "cell_type": "code",
   "execution_count": 6,
   "metadata": {},
   "outputs": [],
   "source": [
    "note = \"\"\"\n",
    "Changing ratio and batch size\n",
    "\"\"\"\n",
    "\n",
    "# Specify the file path and name\n",
    "file_path = os.path.join(model_save_dir, \"note.txt\")\n",
    "\n",
    "# Open the file in write mode\n",
    "with open(file_path, \"w\") as file:\n",
    "    # Write the note to the file\n",
    "    file.write(note)\n"
   ]
  },
  {
   "cell_type": "markdown",
   "metadata": {},
   "source": [
    "## Prepare Dataset"
   ]
  },
  {
   "cell_type": "code",
   "execution_count": 7,
   "metadata": {},
   "outputs": [],
   "source": [
    "LOAD = True"
   ]
  },
  {
   "cell_type": "code",
   "execution_count": 8,
   "metadata": {},
   "outputs": [
    {
     "name": "stdout",
     "output_type": "stream",
     "text": [
      "30000 6000\n"
     ]
    }
   ],
   "source": [
    "# mytrans = MelSpecTransform(sample_rate=TrainingConfigs.REC_SAMPLE_RATE, \n",
    "#                             n_fft=TrainingConfigs.N_FFT, \n",
    "#                             n_mels=TrainingConfigs.N_MELS, \n",
    "#                             filter=XpassFilter(cut_off_upper=500))\n",
    "# select = [\"AY\", \"EY\", \"AO\"]\n",
    "with open(os.path.join(src_, \"no-stress-seg.dict\"), \"rb\") as file:\n",
    "    # Load the object from the file\n",
    "    mylist = pickle.load(file)\n",
    "\n",
    "select = mylist\n",
    "mytrans = nn.Sequential(\n",
    "    Padder(sample_rate=TrainingConfigs.REC_SAMPLE_RATE, pad_len_ms=250, noise_level=1e-4), \n",
    "    MelSpectrogram(sample_rate=TrainingConfigs.REC_SAMPLE_RATE, \n",
    "                   n_mels=TrainingConfigs.N_MELS, \n",
    "                   n_fft=TrainingConfigs.N_FFT, power=2), \n",
    "    # TimeMasking(time_mask_param=5), \n",
    "    # FrequencyMasking(freq_mask_param=16), \n",
    "    AmplitudeToDB(stype=\"power\", top_db=80), \n",
    "    NormalizerKeepShape(NormalizerKeepShape.norm_mvn)\n",
    ")\n",
    "train_ds = ThisDataset(strain_cut_audio_, os.path.join(suse_, \"guide_train.csv\"), \n",
    "                 list_save_dir=os.path.join(model_save_dir, \"train_paired_list.csv\"), \n",
    "                 select=select, \n",
    "                 total_number=30000, positive_every=21, \n",
    "                 transform=mytrans, \n",
    "                 whether_load_from=LOAD, \n",
    "                 load_from=os.path.join(model_save_dir, \"train_paired_list.csv\"))\n",
    "\n",
    "valid_ds = ThisDataset(strain_cut_audio_, os.path.join(suse_, \"guide_validation.csv\"), \n",
    "                 list_save_dir=os.path.join(model_save_dir, \"valid_paired_list.csv\"), \n",
    "                 total_number=6000, positive_every=21, \n",
    "                 select=select, \n",
    "                 transform=mytrans, \n",
    "                 whether_load_from=LOAD,\n",
    "                 load_from=os.path.join(model_save_dir, \"valid_paired_list.csv\"))\n",
    "\n",
    "# use_len = int(0.7 * len(ori_train_ds))\n",
    "# remain_len = len(ori_train_ds) - use_len\n",
    "# train_ds, valid_ds = random_split(ori_train_ds, [use_len, remain_len])\n",
    "\n",
    "# if not READ: \n",
    "#     # use_len = int(0.01 * len(ds))\n",
    "#     # remain_len = len(ds) - use_len\n",
    "#     # use_ds, remain_ds = random_split(ds, [use_len, remain_len])\n",
    "#     # use_ds = ds\n",
    "\n",
    "#     # train_len = int(0.8 * len(use_ds))\n",
    "#     # valid_len = len(use_ds) - train_len\n",
    "\n",
    "#     # Randomly split the dataset into train and validation sets\n",
    "#     # train_ds, valid_ds = random_split(use_ds, [train_len, valid_len])\n",
    "\n",
    "#     # NOTE: we don't need to save the cut-small subset, because after cutting-small, \n",
    "#     # the saved train and valid separations will reflect this\n",
    "#     DS_Tools.save_indices(os.path.join(model_save_dir, \"train.data\"), train_ds.indices)\n",
    "#     DS_Tools.save_indices(os.path.join(model_save_dir, \"valid.data\"), valid_ds.indices)\n",
    "# else: \n",
    "#     train_ds_indices = DS_Tools.read_indices(os.path.join(model_save_dir, \"train.data\"))\n",
    "#     valid_ds_indices = DS_Tools.read_indices(os.path.join(model_save_dir, \"valid.data\"))\n",
    "\n",
    "#     train_ds = torch.utils.data.Subset(ds, train_ds_indices)\n",
    "#     valid_ds = torch.utils.data.Subset(ds, valid_ds_indices)\n",
    "\n",
    "# TrainingConfigs.BATCH_SIZE\n",
    "BATCH_SIZE = 128\n",
    "\n",
    "train_loader = DataLoader(train_ds, batch_size=BATCH_SIZE, \n",
    "                          shuffle=True, \n",
    "                          num_workers=TrainingConfigs.LOADER_WORKER) # collate_fn=ThisDataset.collate_fn)\n",
    "train_num = len(train_loader.dataset)\n",
    "\n",
    "valid_loader = DataLoader(valid_ds, batch_size=BATCH_SIZE, \n",
    "                          shuffle=False, \n",
    "                          num_workers=TrainingConfigs.LOADER_WORKER) # collate_fn=ThisDataset.collate_fn)\n",
    "valid_num = len(valid_loader.dataset)\n",
    "print(train_num, valid_num)"
   ]
  },
  {
   "cell_type": "code",
   "execution_count": 9,
   "metadata": {},
   "outputs": [
    {
     "data": {
      "text/html": [
       "<div>\n",
       "<style scoped>\n",
       "    .dataframe tbody tr th:only-of-type {\n",
       "        vertical-align: middle;\n",
       "    }\n",
       "\n",
       "    .dataframe tbody tr th {\n",
       "        vertical-align: top;\n",
       "    }\n",
       "\n",
       "    .dataframe thead th {\n",
       "        text-align: right;\n",
       "    }\n",
       "</style>\n",
       "<table border=\"1\" class=\"dataframe\">\n",
       "  <thead>\n",
       "    <tr style=\"text-align: right;\">\n",
       "      <th></th>\n",
       "      <th>path_1</th>\n",
       "      <th>path_2</th>\n",
       "      <th>target</th>\n",
       "      <th>label_1</th>\n",
       "      <th>label_2</th>\n",
       "    </tr>\n",
       "  </thead>\n",
       "  <tbody>\n",
       "    <tr>\n",
       "      <th>0</th>\n",
       "      <td>/media/ldlmdl/A2AAE4B1AAE482E1/SSD_Documents/l...</td>\n",
       "      <td>/media/ldlmdl/A2AAE4B1AAE482E1/SSD_Documents/l...</td>\n",
       "      <td>1.0</td>\n",
       "      <td>CH</td>\n",
       "      <td>CH</td>\n",
       "    </tr>\n",
       "    <tr>\n",
       "      <th>1</th>\n",
       "      <td>/media/ldlmdl/A2AAE4B1AAE482E1/SSD_Documents/l...</td>\n",
       "      <td>/media/ldlmdl/A2AAE4B1AAE482E1/SSD_Documents/l...</td>\n",
       "      <td>0.0</td>\n",
       "      <td>L</td>\n",
       "      <td>HH</td>\n",
       "    </tr>\n",
       "    <tr>\n",
       "      <th>2</th>\n",
       "      <td>/media/ldlmdl/A2AAE4B1AAE482E1/SSD_Documents/l...</td>\n",
       "      <td>/media/ldlmdl/A2AAE4B1AAE482E1/SSD_Documents/l...</td>\n",
       "      <td>0.0</td>\n",
       "      <td>ER</td>\n",
       "      <td>T</td>\n",
       "    </tr>\n",
       "    <tr>\n",
       "      <th>3</th>\n",
       "      <td>/media/ldlmdl/A2AAE4B1AAE482E1/SSD_Documents/l...</td>\n",
       "      <td>/media/ldlmdl/A2AAE4B1AAE482E1/SSD_Documents/l...</td>\n",
       "      <td>0.0</td>\n",
       "      <td>IH</td>\n",
       "      <td>OY</td>\n",
       "    </tr>\n",
       "    <tr>\n",
       "      <th>4</th>\n",
       "      <td>/media/ldlmdl/A2AAE4B1AAE482E1/SSD_Documents/l...</td>\n",
       "      <td>/media/ldlmdl/A2AAE4B1AAE482E1/SSD_Documents/l...</td>\n",
       "      <td>0.0</td>\n",
       "      <td>AA</td>\n",
       "      <td>AE</td>\n",
       "    </tr>\n",
       "    <tr>\n",
       "      <th>...</th>\n",
       "      <td>...</td>\n",
       "      <td>...</td>\n",
       "      <td>...</td>\n",
       "      <td>...</td>\n",
       "      <td>...</td>\n",
       "    </tr>\n",
       "    <tr>\n",
       "      <th>29995</th>\n",
       "      <td>/media/ldlmdl/A2AAE4B1AAE482E1/SSD_Documents/l...</td>\n",
       "      <td>/media/ldlmdl/A2AAE4B1AAE482E1/SSD_Documents/l...</td>\n",
       "      <td>0.0</td>\n",
       "      <td>OY</td>\n",
       "      <td>D</td>\n",
       "    </tr>\n",
       "    <tr>\n",
       "      <th>29996</th>\n",
       "      <td>/media/ldlmdl/A2AAE4B1AAE482E1/SSD_Documents/l...</td>\n",
       "      <td>/media/ldlmdl/A2AAE4B1AAE482E1/SSD_Documents/l...</td>\n",
       "      <td>0.0</td>\n",
       "      <td>K</td>\n",
       "      <td>D</td>\n",
       "    </tr>\n",
       "    <tr>\n",
       "      <th>29997</th>\n",
       "      <td>/media/ldlmdl/A2AAE4B1AAE482E1/SSD_Documents/l...</td>\n",
       "      <td>/media/ldlmdl/A2AAE4B1AAE482E1/SSD_Documents/l...</td>\n",
       "      <td>0.0</td>\n",
       "      <td>DH</td>\n",
       "      <td>AE</td>\n",
       "    </tr>\n",
       "    <tr>\n",
       "      <th>29998</th>\n",
       "      <td>/media/ldlmdl/A2AAE4B1AAE482E1/SSD_Documents/l...</td>\n",
       "      <td>/media/ldlmdl/A2AAE4B1AAE482E1/SSD_Documents/l...</td>\n",
       "      <td>0.0</td>\n",
       "      <td>S</td>\n",
       "      <td>UH</td>\n",
       "    </tr>\n",
       "    <tr>\n",
       "      <th>29999</th>\n",
       "      <td>/media/ldlmdl/A2AAE4B1AAE482E1/SSD_Documents/l...</td>\n",
       "      <td>/media/ldlmdl/A2AAE4B1AAE482E1/SSD_Documents/l...</td>\n",
       "      <td>0.0</td>\n",
       "      <td>Y</td>\n",
       "      <td>AH</td>\n",
       "    </tr>\n",
       "  </tbody>\n",
       "</table>\n",
       "<p>30000 rows × 5 columns</p>\n",
       "</div>"
      ],
      "text/plain": [
       "                                                  path_1  \\\n",
       "0      /media/ldlmdl/A2AAE4B1AAE482E1/SSD_Documents/l...   \n",
       "1      /media/ldlmdl/A2AAE4B1AAE482E1/SSD_Documents/l...   \n",
       "2      /media/ldlmdl/A2AAE4B1AAE482E1/SSD_Documents/l...   \n",
       "3      /media/ldlmdl/A2AAE4B1AAE482E1/SSD_Documents/l...   \n",
       "4      /media/ldlmdl/A2AAE4B1AAE482E1/SSD_Documents/l...   \n",
       "...                                                  ...   \n",
       "29995  /media/ldlmdl/A2AAE4B1AAE482E1/SSD_Documents/l...   \n",
       "29996  /media/ldlmdl/A2AAE4B1AAE482E1/SSD_Documents/l...   \n",
       "29997  /media/ldlmdl/A2AAE4B1AAE482E1/SSD_Documents/l...   \n",
       "29998  /media/ldlmdl/A2AAE4B1AAE482E1/SSD_Documents/l...   \n",
       "29999  /media/ldlmdl/A2AAE4B1AAE482E1/SSD_Documents/l...   \n",
       "\n",
       "                                                  path_2  target label_1  \\\n",
       "0      /media/ldlmdl/A2AAE4B1AAE482E1/SSD_Documents/l...     1.0      CH   \n",
       "1      /media/ldlmdl/A2AAE4B1AAE482E1/SSD_Documents/l...     0.0       L   \n",
       "2      /media/ldlmdl/A2AAE4B1AAE482E1/SSD_Documents/l...     0.0      ER   \n",
       "3      /media/ldlmdl/A2AAE4B1AAE482E1/SSD_Documents/l...     0.0      IH   \n",
       "4      /media/ldlmdl/A2AAE4B1AAE482E1/SSD_Documents/l...     0.0      AA   \n",
       "...                                                  ...     ...     ...   \n",
       "29995  /media/ldlmdl/A2AAE4B1AAE482E1/SSD_Documents/l...     0.0      OY   \n",
       "29996  /media/ldlmdl/A2AAE4B1AAE482E1/SSD_Documents/l...     0.0       K   \n",
       "29997  /media/ldlmdl/A2AAE4B1AAE482E1/SSD_Documents/l...     0.0      DH   \n",
       "29998  /media/ldlmdl/A2AAE4B1AAE482E1/SSD_Documents/l...     0.0       S   \n",
       "29999  /media/ldlmdl/A2AAE4B1AAE482E1/SSD_Documents/l...     0.0       Y   \n",
       "\n",
       "      label_2  \n",
       "0          CH  \n",
       "1          HH  \n",
       "2           T  \n",
       "3          OY  \n",
       "4          AE  \n",
       "...       ...  \n",
       "29995       D  \n",
       "29996       D  \n",
       "29997      AE  \n",
       "29998      UH  \n",
       "29999      AH  \n",
       "\n",
       "[30000 rows x 5 columns]"
      ]
     },
     "execution_count": 9,
     "metadata": {},
     "output_type": "execute_result"
    }
   ],
   "source": [
    "train_ds.paired_audio"
   ]
  },
  {
   "cell_type": "code",
   "execution_count": 10,
   "metadata": {},
   "outputs": [],
   "source": [
    "from misc_tools import MyAudio\n",
    "import torchaudio"
   ]
  },
  {
   "cell_type": "code",
   "execution_count": 11,
   "metadata": {},
   "outputs": [
    {
     "data": {
      "text/html": [
       "\n",
       "                <audio  controls=\"controls\" >\n",
       "                    <source src=\"data:audio/wav;base64,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\" type=\"audio/wav\" />\n",
       "                    Your browser does not support the audio element.\n",
       "                </audio>\n",
       "              "
      ],
      "text/plain": [
       "<IPython.lib.display.Audio object>"
      ]
     },
     "metadata": {},
     "output_type": "display_data"
    },
    {
     "data": {
      "text/html": [
       "\n",
       "                <audio  controls=\"controls\" >\n",
       "                    <source src=\"data:audio/wav;base64,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\" type=\"audio/wav\" />\n",
       "                    Your browser does not support the audio element.\n",
       "                </audio>\n",
       "              "
      ],
      "text/plain": [
       "<IPython.lib.display.Audio object>"
      ]
     },
     "metadata": {},
     "output_type": "display_data"
    },
    {
     "name": "stdout",
     "output_type": "stream",
     "text": [
      "V EY 0.0\n"
     ]
    }
   ],
   "source": [
    "idx = random.randint(0, len(train_ds))\n",
    "x, sr = torchaudio.load(train_ds.paired_audio[\"path_1\"][idx])\n",
    "y, sr = torchaudio.load(train_ds.paired_audio[\"path_2\"][idx])\n",
    "MyAudio.play_audio_torch(x, sr)\n",
    "MyAudio.play_audio_torch(y, sr)\n",
    "print(train_ds.paired_audio[\"label_1\"][idx], train_ds.paired_audio[\"label_2\"][idx], train_ds.paired_audio[\"target\"][idx])"
   ]
  },
  {
   "cell_type": "code",
   "execution_count": 12,
   "metadata": {},
   "outputs": [],
   "source": [
    "# # Load sample data from train_loader\n",
    "# sample_data = next(iter(valid_loader))\n",
    "# x_1, x_2, seg = sample_data\n",
    "\n",
    "# # Set the random seed for reproducibility\n",
    "# # random.seed(101)\n",
    "# # Generate six random indices\n",
    "# random_indices = random.sample(range(len(x_1)), 6)\n",
    "\n",
    "# # Plot the spectrograms and mark the corresponding seg\n",
    "# fig, axes = plt.subplots(2, 3, figsize=(12, 8))\n",
    "# axes = axes.flatten()\n",
    "\n",
    "# for i, idx in enumerate(random_indices):\n",
    "#     spectrogram = x_1[idx]\n",
    "#     segment = seg[idx]\n",
    "    \n",
    "#     ax = axes[i]\n",
    "#     img = ax.plot(spectrogram[0].numpy())\n",
    "#     # ax.axvline(x=segment, color='red', linestyle='--')\n",
    "#     # ax.axvline(x=segment[1], coloFalser='red', linestyle='--')\n",
    "#     ax.set_title(f'Spectrogram {segment}')\n",
    "#     ax.set_xlabel('Time')\n",
    "#     ax.set_ylabel('Amplitude')\n",
    "# plt.tight_layout()\n",
    "# # plt.colorbar(img,ax=axes)\n",
    "# plt.show()"
   ]
  },
  {
   "cell_type": "code",
   "execution_count": 13,
   "metadata": {},
   "outputs": [
    {
     "data": {
      "image/png": "[encoded data removed]",
      "text/plain": [
       "<Figure size 1200x800 with 7 Axes>"
      ]
     },
     "metadata": {},
     "output_type": "display_data"
    }
   ],
   "source": [
    "# Load sample data from train_loader\n",
    "sample_data = next(iter(valid_loader))\n",
    "x_1, x_2, seg = sample_data\n",
    "# Set the random seed for reproducibility\n",
    "random.seed(101)\n",
    "# Generate six random indices\n",
    "random_indices = random.sample(range(len(x_1)), 6)\n",
    "\n",
    "# Plot the spectrograms and mark the corresponding seg\n",
    "fig, axes = plt.subplots(2, 3, figsize=(12, 8))\n",
    "axes = axes.flatten()\n",
    "\n",
    "for i, idx in enumerate(random_indices):\n",
    "    spectrogram = x_1[idx]\n",
    "    segment = seg[idx]\n",
    "    \n",
    "    ax = axes[i]\n",
    "    img = ax.imshow(spectrogram[0], aspect='auto', origin=\"lower\")\n",
    "    # ax.axvline(x=segment, color='red', linestyle='--')\n",
    "    # ax.axvline(x=segment[1], color='red', linestyle='--')\n",
    "    ax.set_title(f'Spectrogram {segment}')\n",
    "    ax.set_xlabel('Time')\n",
    "    ax.set_ylabel('Frequency')\n",
    "plt.tight_layout()\n",
    "plt.colorbar(img,ax=axes)\n",
    "plt.show()"
   ]
  },
  {
   "cell_type": "markdown",
   "metadata": {},
   "source": [
    "## Init Model"
   ]
  },
  {
   "cell_type": "code",
   "execution_count": 14,
   "metadata": {},
   "outputs": [],
   "source": [
    "# class SiameseNetworkV3(nn.Module):\n",
    "#     # CNN version for siamese network\n",
    "#     # output shape: (batch_size, 128)\n",
    "#     def __init__(self, dimconf):\n",
    "#         super().__init__()\n",
    "#         self.conv = nn.Sequential(\n",
    "#             nn.Conv1d(1, 128, kernel_size=244, stride=4), \n",
    "#             nn.MaxPool1d(kernel_size=4), \n",
    "#             nn.ReLU(), \n",
    "#             # nn.Dropout(0.75),\n",
    "#             nn.BatchNorm1d(128), \n",
    "            \n",
    "#             nn.Conv1d(128, 256, kernel_size=3), \n",
    "#             nn.MaxPool1d(kernel_size=4),\n",
    "#             nn.ReLU(), \n",
    "#             # nn.Dropout(0.75),\n",
    "#             nn.BatchNorm1d(256), \n",
    "            \n",
    "#             nn.Conv1d(256, 512, kernel_size=3), \n",
    "#             nn.MaxPool1d(kernel_size=4), \n",
    "#             nn.ReLU(), \n",
    "#             # nn.Dropout(0.75),\n",
    "#             nn.BatchNorm1d(512), \n",
    "#         )\n",
    "#         self.ap = nn.AdaptiveAvgPool1d(output_size=1)\n",
    "#         # self.dropout = nn.Dropout(dimconf[\"dropout\"])\n",
    "#         self.lin = nn.Linear(in_features=512, out_features=64)\n",
    "#         # self.sigmoid = nn.Sigmoid()\n",
    "\n",
    "#         self.conv.apply(self.init_conv_weights)\n",
    "#         self.lin.apply(self.init_lin_weights)\n",
    "\n",
    "#     def init_lin_weights(self, m):\n",
    "#         if isinstance(m, nn.Linear):\n",
    "#             # torch.nn.init.xavier_normal_(m.weight)\n",
    "#             torch.nn.init.kaiming_normal_(m.weight, a=0.1)\n",
    "#             m.bias.data.fill_(0.01)\n",
    "    \n",
    "#     def init_conv_weights(self, m):\n",
    "#         if isinstance(m, nn.Conv2d):\n",
    "#             torch.nn.init.kaiming_normal_(m.weight, a=0.1)\n",
    "#             m.bias.data.zero_()\n",
    "\n",
    "#     def forward_once(self, x):\n",
    "#         # print(x[0])\n",
    "#         x = self.conv(x)\n",
    "#         # print(x[0])\n",
    "#         x = self.ap(x)\n",
    "#         # print(x.shape)\n",
    "#         x = x.view(x.shape[0], -1)\n",
    "#         # x = self.dropout(x)\n",
    "#         # print(x.shape)\n",
    "#         x = self.lin(x)\n",
    "#         # x = self.sigmoid(x)\n",
    "#         # print(x[0])\n",
    "#         return x\n",
    "\n",
    "#     def forward(self, inputs):\n",
    "#         input1, input2 = inputs\n",
    "#         # input1_lens, input2_lens = inputs_lens\n",
    "#         # get two images' features\n",
    "#         output1 = self.forward_once(input1)\n",
    "#         output2 = self.forward_once(input2)\n",
    "#         return output1, output2\n",
    "\n",
    "#     def predict_on_output(self, output1, output2, threshold=0.5): \n",
    "#         output1 = output1.clone().detach()\n",
    "#         output2 = output2.clone().detach()\n",
    "#         euclidean_distance = F.pairwise_distance(output1, output2, keepdim = False)\n",
    "#         preds = (euclidean_distance >= threshold).type(torch.float32)\n",
    "#         return preds"
   ]
  },
  {
   "cell_type": "code",
   "execution_count": 15,
   "metadata": {},
   "outputs": [
    {
     "data": {
      "text/plain": [
       "==========================================================================================\n",
       "Layer (type:depth-idx)                   Output Shape              Param #\n",
       "==========================================================================================\n",
       "Sequential                               [128, 64, 8, 2]           --\n",
       "├─Conv2d: 1-1                            [128, 8, 64, 21]          400\n",
       "├─BatchNorm2d: 1-2                       [128, 8, 64, 21]          16\n",
       "├─ReLU: 1-3                              [128, 8, 64, 21]          --\n",
       "├─MaxPool2d: 1-4                         [128, 8, 32, 10]          --\n",
       "├─Conv2d: 1-5                            [128, 16, 32, 10]         3,216\n",
       "├─BatchNorm2d: 1-6                       [128, 16, 32, 10]         32\n",
       "├─ReLU: 1-7                              [128, 16, 32, 10]         --\n",
       "├─MaxPool2d: 1-8                         [128, 16, 16, 5]          --\n",
       "├─Conv2d: 1-9                            [128, 32, 16, 5]          4,640\n",
       "├─BatchNorm2d: 1-10                      [128, 32, 16, 5]          64\n",
       "├─ReLU: 1-11                             [128, 32, 16, 5]          --\n",
       "├─MaxPool2d: 1-12                        [128, 32, 8, 2]           --\n",
       "├─Conv2d: 1-13                           [128, 64, 8, 2]           18,496\n",
       "├─BatchNorm2d: 1-14                      [128, 64, 8, 2]           128\n",
       "├─ReLU: 1-15                             [128, 64, 8, 2]           --\n",
       "==========================================================================================\n",
       "Total params: 26,992\n",
       "Trainable params: 26,992\n",
       "Non-trainable params: 0\n",
       "Total mult-adds (Units.MEGABYTES): 285.96\n",
       "==========================================================================================\n",
       "Input size (MB): 0.69\n",
       "Forward/backward pass size (MB): 39.85\n",
       "Params size (MB): 0.11\n",
       "Estimated Total Size (MB): 40.64\n",
       "=========================================================================================="
      ]
     },
     "execution_count": 15,
     "metadata": {},
     "output_type": "execute_result"
    }
   ],
   "source": [
    "summary(nn.Sequential(\n",
    "            nn.Conv2d(1, 8, kernel_size=7, stride=1, padding=3), \n",
    "            nn.BatchNorm2d(8), \n",
    "            nn.ReLU(), \n",
    "            nn.MaxPool2d(kernel_size=2, stride=2), \n",
    "            nn.Conv2d(8, 16, kernel_size=5, stride=1, padding=2), \n",
    "            nn.BatchNorm2d(16), \n",
    "            nn.ReLU(), \n",
    "            nn.MaxPool2d(kernel_size=2, stride=2), \n",
    "            nn.Conv2d(16, 32, kernel_size=3, stride=1, padding=1), \n",
    "            nn.BatchNorm2d(32), \n",
    "            nn.ReLU(), \n",
    "            nn.MaxPool2d(kernel_size=2, stride=2), \n",
    "            nn.Conv2d(32, 64, kernel_size=3, stride=1, padding=1), \n",
    "            nn.BatchNorm2d(64), \n",
    "            nn.ReLU(), \n",
    "            # nn.MaxPool2d(kernel_size=2, stride=2), \n",
    "        ), input_size=(128, 1, 64, 21))"
   ]
  },
  {
   "cell_type": "code",
   "execution_count": 16,
   "metadata": {},
   "outputs": [],
   "source": [
    "\"\"\"\n",
    "nn.Sequential(\n",
    "            nn.Conv2d(1, 16, kernel_size=3, stride=1, padding=1), \n",
    "            nn.MaxPool2d(kernel_size=2, stride=2), \n",
    "            nn.ReLU(), \n",
    "            nn.BatchNorm2d(16), \n",
    "            nn.Conv2d(16, 64, kernel_size=3, stride=1, padding=1), \n",
    "            nn.MaxPool2d(kernel_size=2, stride=2), \n",
    "            nn.ReLU(), \n",
    "            nn.BatchNorm2d(64), \n",
    "            nn.Conv2d(64, 256, kernel_size=3, stride=1, padding=1), \n",
    "            nn.MaxPool2d(kernel_size=2, stride=2), \n",
    "            nn.ReLU(), \n",
    "            nn.BatchNorm2d(256), \n",
    "            nn.Conv2d(256, 512, kernel_size=3, stride=1, padding=1), \n",
    "            nn.MaxPool2d(kernel_size=2, stride=2), \n",
    "            nn.ReLU(), \n",
    "            nn.BatchNorm2d(512), \n",
    "        )\n",
    "\n",
    "            nn.Conv2d(1, 32, kernel_size=(7, 3), stride=1, padding=(3, 1)), \n",
    "            nn.MaxPool2d(kernel_size=2, stride=2), \n",
    "            nn.ReLU(), \n",
    "            nn.BatchNorm2d(32), \n",
    "            nn.Conv2d(32, 128, kernel_size=(7, 3), stride=1, padding=(3, 1)), \n",
    "            nn.MaxPool2d(kernel_size=2, stride=2), \n",
    "            nn.ReLU(), \n",
    "            nn.BatchNorm2d(128), \n",
    "            nn.Conv2d(128, 512, kernel_size=(7, 3), stride=1, padding=(3, 1)), \n",
    "            nn.MaxPool2d(kernel_size=2, stride=2), \n",
    "            nn.ReLU(), \n",
    "            nn.BatchNorm2d(512), \n",
    "\"\"\"\n",
    "\n",
    "\n",
    "class SiameseNetworkV3(nn.Module):\n",
    "    # CNN version for siamese network\n",
    "    # output shape: (batch_size, 128)\n",
    "    def __init__(self, dimconf:ModelDimConfigs):\n",
    "        super().__init__()\n",
    "        convdr = 0.2\n",
    "        self.conv = nn.Sequential(\n",
    "            nn.ReflectionPad2d(1),\n",
    "            nn.Conv2d(1, 8, kernel_size=3, stride=1), \n",
    "            nn.BatchNorm2d(8), \n",
    "            nn.ReLU(), \n",
    "            # nn.Dropout2d(p=convdr),\n",
    "            nn.MaxPool2d(kernel_size=2, stride=2), \n",
    "\n",
    "            nn.ReflectionPad2d(1),\n",
    "            nn.Conv2d(8, 16, kernel_size=3, stride=1), \n",
    "            nn.BatchNorm2d(16), \n",
    "            nn.ReLU(), \n",
    "            # nn.Dropout2d(p=convdr),\n",
    "            nn.MaxPool2d(kernel_size=2, stride=2), \n",
    "\n",
    "            nn.ReflectionPad2d(1),\n",
    "            nn.Conv2d(16, 32, kernel_size=3, stride=1), \n",
    "            nn.BatchNorm2d(32), \n",
    "            nn.ReLU(), \n",
    "            # nn.Dropout2d(p=convdr),\n",
    "            nn.MaxPool2d(kernel_size=2, stride=2), \n",
    "\n",
    "            nn.ReflectionPad2d(1),\n",
    "            nn.Conv2d(32, 64, kernel_size=3, stride=1), \n",
    "            nn.BatchNorm2d(64), \n",
    "            nn.ReLU(), \n",
    "            # nn.MaxPool2d(kernel_size=2, stride=2), \n",
    "        )\n",
    "        # self.ap = nn.AdaptiveAvgPool2d(output_size=1)\n",
    "        # self.ap = nn.AdaptiveAvgPool2d(output_size=1)\n",
    "        self.lin_1 = nn.Sequential(\n",
    "            nn.Linear(64 * 8 * 2, 128), \n",
    "            nn.Dropout(0.7), \n",
    "            nn.BatchNorm1d(128),\n",
    "            nn.ReLU(),\n",
    "            nn.Linear(128, 32),\n",
    "        )\n",
    "        self.lin_2 = nn.Sequential(\n",
    "            nn.Linear(64, 1), \n",
    "            nn.Sigmoid(), \n",
    "        )\n",
    "        # self.lin_ld = nn.Linear(in_features=16 * 5, out_features=1)\n",
    "        # self.lin_1 = nn.Linear(in_features=256, out_features=32)\n",
    "        # self.lin_2 = nn.Linear(in_features=32, out_features=1)\n",
    "        # self.lin2 = nn.Linear(in_features=128, out_features=64)\n",
    "        # self.dropout = nn.Dropout(dimconf[\"dropout\"])\n",
    "\n",
    "        self.distance_measure = nn.PairwiseDistance(p=2)\n",
    "        # self.sim = nn.CosineSimilarity()\n",
    "\n",
    "        # self.conv.apply(self.init_conv_weights)\n",
    "        # self.lin_1.apply(self.init_lin_weights)\n",
    "        # self.lin_2.apply(self.init_lin_weights)\n",
    "\n",
    "    def init_lin_weights(self, m):\n",
    "        if isinstance(m, nn.Linear):\n",
    "            # torch.nn.init.xavier_normal_(m.weight)\n",
    "            torch.nn.init.kaiming_normal_(m.weight, a=0.1)\n",
    "            m.bias.data.fill_(0.01)\n",
    "    \n",
    "    def init_conv_weights(self, m):\n",
    "        if isinstance(m, nn.Conv2d):\n",
    "            torch.nn.init.kaiming_normal_(m.weight, a=0.1)\n",
    "            m.bias.data.zero_()\n",
    "\n",
    "    def forward_once(self, x):\n",
    "        x = self.conv(x)\n",
    "        # x = self.ap(x)\n",
    "        x = x.view(x.shape[0], -1)\n",
    "        x = self.lin_1(x)\n",
    "        return x\n",
    "\n",
    "    def forward(self, inputs):\n",
    "        input1, input2 = inputs\n",
    "        # input1_lens, input2_lens = inputs_lens\n",
    "        # get two images' features\n",
    "        output1 = self.forward_once(input1)\n",
    "        output2 = self.forward_once(input2)\n",
    "\n",
    "        # output = torch.abs(output1 - output2)\n",
    "        # output = output1 * output2\n",
    "        output = torch.cat((output1, output2), dim=1)\n",
    "        # output = self.distance_measure(output1, output2)\n",
    "        # output = output1.sub(output2).pow(2)\n",
    "        # output = torch.cat((output1, output2), dim=1)\n",
    "\n",
    "        output = self.lin_2(output)\n",
    "        output = output.squeeze()\n",
    "        # output = self.sim(output1, output2)\n",
    "        return output\n",
    "\n",
    "    def predict_on_output(self, output1, output2, threshold=0.5): \n",
    "        output1 = output1.clone().detach()\n",
    "        output2 = output2.clone().detach()\n",
    "        euclidean_distance = F.pairwise_distance(output1, output2, keepdim = False)\n",
    "        # euclidean_distance = F.cosine_similarity(output1, output2, dim=1, eps=1e-6)\n",
    "        preds = (euclidean_distance >= threshold).type(torch.float32)\n",
    "        return preds"
   ]
  },
  {
   "cell_type": "code",
   "execution_count": 17,
   "metadata": {},
   "outputs": [],
   "source": [
    "# x = torch.tensor([[1., 1.], [0., 0.]])\n",
    "# y = torch.tensor([[0., 0.], [0., 0.]])\n",
    "# tmf.pairwise_manhattan_distance(x, y, reduction=\"mean\")\n",
    "# # F.pairwise_distance(x, y, keepdim = False)"
   ]
  },
  {
   "cell_type": "code",
   "execution_count": 18,
   "metadata": {},
   "outputs": [],
   "source": [
    "class ContrastiveLoss(torch.nn.Module):\n",
    "    def __init__(self, margin=2.0):\n",
    "        super(ContrastiveLoss, self).__init__()\n",
    "        self.margin = margin\n",
    "\n",
    "    def forward(self, distance, label):\n",
    "        # Calculate the euclidian distance and calculate the contrastive loss\n",
    "        # euclidean_distance = F.pairwise_distance(output1, output2, keepdim = False)\n",
    "        # euclidean_distance = tmf.pairwise_manhattan_distance(output1, output2, reduction=\"mean\")\n",
    "        # euclidean_distance = F.cosine_similarity(output1, output2, dim=1, eps=1e-6)\n",
    "\n",
    "        loss_contrastive = torch.mean((label) * torch.pow(distance, 2) +\n",
    "                                     (1 - label) * torch.pow(torch.clamp(self.margin - distance, min=0.0), 2))\n",
    "\n",
    "        return loss_contrastive"
   ]
  },
  {
   "cell_type": "code",
   "execution_count": 19,
   "metadata": {},
   "outputs": [],
   "source": [
    "device = torch.device('cuda' if torch.cuda.is_available() else 'cpu')\n",
    "# criterion = nn.MSELoss()\n",
    "# criterion = ContrastiveLoss(margin=2.0)\n",
    "criterion = nn.BCELoss()\n",
    "# criterion = nn.CrossEntropyLoss()\n",
    "# NOTE: no need to mask the loss, because we don't do reconstruction. \n",
    "\n",
    "# dimconf = ModelDimConfigs(\n",
    "#         rnn_in_size=TrainingConfigs.N_MELS, \n",
    "#         lin_in_size_1=16, \n",
    "#         lin_in_size_2=4, \n",
    "#         lin_out_size_2=1\n",
    "#     )\n",
    "\n",
    "dimconf = {\n",
    "    \"dropout\": 0.5,\n",
    "}\n",
    "model = SiameseNetworkV3(dimconf)\n",
    "# model = SiameseNetworkLinear(dimconf)\n",
    "model.to(device)\n",
    "optimizer = optim.Adam(model.parameters(), lr=1e-5) # weight_decay=l2_lambda\n",
    "\n",
    "model_str = str(model)\n",
    "model_txt_path = os.path.join(model_save_dir, \"model.txt\")\n",
    "\n",
    "with open(model_txt_path, \"w\") as f:\n",
    "    f.write(model_str)"
   ]
  },
  {
   "cell_type": "markdown",
   "metadata": {},
   "source": [
    "### Test the relative size of loss: really-same-class different representations vs really-diff-class same reps\n",
    "Representation dim will affect it. "
   ]
  },
  {
   "cell_type": "code",
   "execution_count": 20,
   "metadata": {},
   "outputs": [],
   "source": [
    "feats = 64\n",
    "i1 = torch.rand(2, feats)\n",
    "i2 = torch.rand(2, feats)"
   ]
  },
  {
   "cell_type": "code",
   "execution_count": 21,
   "metadata": {},
   "outputs": [
    {
     "data": {
      "text/plain": [
       "tensor([0.7623, 0.7517])"
      ]
     },
     "execution_count": 21,
     "metadata": {},
     "output_type": "execute_result"
    }
   ],
   "source": [
    "nn.CosineSimilarity()(i1, i2)"
   ]
  },
  {
   "cell_type": "code",
   "execution_count": 22,
   "metadata": {},
   "outputs": [
    {
     "data": {
      "text/plain": [
       "tensor([8.0000e-06, 8.0000e-06])"
      ]
     },
     "execution_count": 22,
     "metadata": {},
     "output_type": "execute_result"
    }
   ],
   "source": [
    "nn.PairwiseDistance(p=2)(i1, i1)"
   ]
  },
  {
   "cell_type": "code",
   "execution_count": 23,
   "metadata": {},
   "outputs": [],
   "source": [
    "# # criterion = ContrastiveLoss(margin=2.0)\n",
    "# # larged = torch.tensor([5., 6.])\n",
    "# # smalld = torch.tensor([0., 0.])\n",
    "# # larged = nn.PairwiseDistance(p=2)(i1, i2)\n",
    "# # smalld = nn.PairwiseDistance(p=2)(i1, i1)\n",
    "# larged = torch.abs(i1 - i2)\n",
    "# smalld = torch.abs(i1 - i1)\n",
    "# # 让不同的向量距离越大越好、相同的向量距离越小越好\n",
    "# criterion(smalld, 0), criterion(larged, 1), criterion(smalld, 1), criterion(larged, 0)"
   ]
  },
  {
   "cell_type": "code",
   "execution_count": 24,
   "metadata": {},
   "outputs": [
    {
     "data": {
      "text/plain": [
       "SiameseNetworkV3(\n",
       "  (conv): Sequential(\n",
       "    (0): ReflectionPad2d((1, 1, 1, 1))\n",
       "    (1): Conv2d(1, 8, kernel_size=(3, 3), stride=(1, 1))\n",
       "    (2): BatchNorm2d(8, eps=1e-05, momentum=0.1, affine=True, track_running_stats=True)\n",
       "    (3): ReLU()\n",
       "    (4): MaxPool2d(kernel_size=2, stride=2, padding=0, dilation=1, ceil_mode=False)\n",
       "    (5): ReflectionPad2d((1, 1, 1, 1))\n",
       "    (6): Conv2d(8, 16, kernel_size=(3, 3), stride=(1, 1))\n",
       "    (7): BatchNorm2d(16, eps=1e-05, momentum=0.1, affine=True, track_running_stats=True)\n",
       "    (8): ReLU()\n",
       "    (9): MaxPool2d(kernel_size=2, stride=2, padding=0, dilation=1, ceil_mode=False)\n",
       "    (10): ReflectionPad2d((1, 1, 1, 1))\n",
       "    (11): Conv2d(16, 32, kernel_size=(3, 3), stride=(1, 1))\n",
       "    (12): BatchNorm2d(32, eps=1e-05, momentum=0.1, affine=True, track_running_stats=True)\n",
       "    (13): ReLU()\n",
       "    (14): MaxPool2d(kernel_size=2, stride=2, padding=0, dilation=1, ceil_mode=False)\n",
       "    (15): ReflectionPad2d((1, 1, 1, 1))\n",
       "    (16): Conv2d(32, 64, kernel_size=(3, 3), stride=(1, 1))\n",
       "    (17): BatchNorm2d(64, eps=1e-05, momentum=0.1, affine=True, track_running_stats=True)\n",
       "    (18): ReLU()\n",
       "  )\n",
       "  (lin_1): Sequential(\n",
       "    (0): Linear(in_features=1024, out_features=128, bias=True)\n",
       "    (1): Dropout(p=0.7, inplace=False)\n",
       "    (2): BatchNorm1d(128, eps=1e-05, momentum=0.1, affine=True, track_running_stats=True)\n",
       "    (3): ReLU()\n",
       "    (4): Linear(in_features=128, out_features=32, bias=True)\n",
       "  )\n",
       "  (lin_2): Sequential(\n",
       "    (0): Linear(in_features=64, out_features=1, bias=True)\n",
       "    (1): Sigmoid()\n",
       "  )\n",
       "  (distance_measure): PairwiseDistance()\n",
       ")"
      ]
     },
     "execution_count": 24,
     "metadata": {},
     "output_type": "execute_result"
    }
   ],
   "source": [
    "model"
   ]
  },
  {
   "cell_type": "markdown",
   "metadata": {},
   "source": [
    "## Load Model if READ"
   ]
  },
  {
   "cell_type": "code",
   "execution_count": 25,
   "metadata": {},
   "outputs": [],
   "source": [
    "if READ: \n",
    "    valid_losses.read()\n",
    "    train_losses.read()\n",
    "\n",
    "    model_raw_name = f\"{stop_epoch}\"\n",
    "    model_name = model_raw_name + \".pt\"\n",
    "    model_path = os.path.join(model_save_dir, model_name)\n",
    "    state = torch.load(model_path)\n",
    "\n",
    "    model.load_state_dict(state)\n",
    "    model.to(device)"
   ]
  },
  {
   "cell_type": "code",
   "execution_count": 26,
   "metadata": {},
   "outputs": [],
   "source": [
    "def evaluate_pair(output1,output2,target,threshold):\n",
    "    euclidean_distance = F.pairwise_distance(output1, output2)\n",
    "    # if target == 1:\n",
    "    #     return euclidean_distance > threshold\n",
    "    # else:\n",
    "    #     return euclidean_distance <= threshold\n",
    "    # print(euclidean_distance)\n",
    "    # raise Exception(\"stop\")\n",
    "    cond = euclidean_distance<threshold\n",
    "    # print(cond)\n",
    "    pos_sum = 0\n",
    "    neg_sum = 0\n",
    "    pos_acc = 0\n",
    "    neg_acc = 0\n",
    "\n",
    "    for i in range(len(cond)):\n",
    "        if target[i]:\n",
    "            neg_sum+=1\n",
    "            if not cond[i]:\n",
    "                neg_acc+=1\n",
    "        if not target[i]:\n",
    "            pos_sum+=1\n",
    "            if cond[i]:\n",
    "                pos_acc+=1\n",
    "\n",
    "    return pos_acc,pos_sum,neg_acc,neg_sum\n",
    "\n",
    "\n",
    "def draw_learning_curve_and_dissimilarity(losses, dissimilarities, epoch=\"\", save=False, save_name=\"\"): \n",
    "    plt.clf()\n",
    "    fig, (ax1, ax2, ax3) = plt.subplots(1, 3, figsize=(18, 4))\n",
    "    train_losses, valid_losses, best_val_loss = losses\n",
    "    # NOTE: !\n",
    "    train_same_dict, train_diff_dict, same_dict, diff_dict, (draw_low, draw_up) = dissimilarities\n",
    "\n",
    "    # time_steps = np.arange(draw_low, draw_up)\n",
    "    # Plot Loss on the left subplot\n",
    "    # ax1.plot(time_steps, train_losses[draw_low:draw_up], label='Train')\n",
    "    # ax1.plot(time_steps, valid_losses[draw_low:draw_up], label='Valid')\n",
    "    ax1.plot(train_losses, label='Train')\n",
    "    ax1.plot(valid_losses, label='Valid')\n",
    "    # ax1.axvline(x=best_val_loss, color='r', linestyle='--', label=f'Best: {best_val_loss}')\n",
    "    ax1.set_title(\"Learning Curve Loss\" + f\" {epoch}\")\n",
    "    ax1.set_xlabel(\"Epoch\" + f\" (Best: {best_val_loss})\")\n",
    "    ax1.legend(loc=\"upper right\")\n",
    "\n",
    "    # Plot Accuracy on the right subplot\n",
    "    time_steps = np.arange(draw_low, draw_up)\n",
    "    ax2.errorbar(time_steps, same_dict[\"mean\"][draw_low:draw_up], \n",
    "                 yerr=(same_dict[\"mean\"][draw_low:draw_up] - same_dict[\"ci_lower\"][draw_low:draw_up], same_dict[\"ci_upper\"][draw_low:draw_up] - same_dict[\"mean\"][draw_low:draw_up]), \n",
    "                 label='Same', fmt='o-', capsize=5)\n",
    "    ax2.errorbar(time_steps, diff_dict[\"mean\"][draw_low:draw_up], \n",
    "                 yerr=(diff_dict[\"mean\"][draw_low:draw_up] - diff_dict[\"ci_lower\"][draw_low:draw_up], diff_dict[\"ci_upper\"][draw_low:draw_up] - diff_dict[\"mean\"][draw_low:draw_up]), \n",
    "                 label='Different', fmt='o-', capsize=5)\n",
    "    ax2.set_title('Learning Curve Valid Dissimilarity' + f\" {epoch}\")\n",
    "    ax2.legend()    # loc=\"lower right\"\n",
    "\n",
    "    # Plot Accuracy on the right subplot\n",
    "    time_steps = np.arange(draw_low, draw_up)\n",
    "    ax3.errorbar(time_steps, train_same_dict[\"mean\"][draw_low:draw_up], \n",
    "                 yerr=(train_same_dict[\"mean\"][draw_low:draw_up] - train_same_dict[\"ci_lower\"][draw_low:draw_up], train_same_dict[\"ci_upper\"][draw_low:draw_up] - train_same_dict[\"mean\"][draw_low:draw_up]), \n",
    "                 label='Same', fmt='o-', capsize=5)\n",
    "    ax3.errorbar(time_steps, train_diff_dict[\"mean\"][draw_low:draw_up], \n",
    "                 yerr=(train_diff_dict[\"mean\"][draw_low:draw_up] - train_diff_dict[\"ci_lower\"][draw_low:draw_up], train_diff_dict[\"ci_upper\"][draw_low:draw_up] - train_diff_dict[\"mean\"][draw_low:draw_up]), \n",
    "                 label='Different', fmt='o-', capsize=5)\n",
    "    ax3.set_title('Learning Curve Train Dissimilarity' + f\" {epoch}\")\n",
    "    ax3.legend()    # loc=\"lower right\"\n",
    "\n",
    "    # Display the plots\n",
    "    plt.tight_layout()\n",
    "    plt.xlabel(\"Epoch\")\n",
    "    display.clear_output(wait=True)\n",
    "    display.display(plt.gcf())\n",
    "    if save: \n",
    "        plt.savefig(save_name)"
   ]
  },
  {
   "cell_type": "code",
   "execution_count": 27,
   "metadata": {},
   "outputs": [],
   "source": [
    "train_losses = ListRecorder(os.path.join(model_save_dir, save_trainhist_name))\n",
    "valid_losses = ListRecorder(os.path.join(model_save_dir, save_valhist_name))\n",
    "\n",
    "valid_same = DfRecorder(os.path.join(model_save_dir, val_same_name))\n",
    "valid_diff = DfRecorder(os.path.join(model_save_dir, val_diff_name))\n",
    "train_same = DfRecorder(os.path.join(model_save_dir, train_same_name))\n",
    "train_diff = DfRecorder(os.path.join(model_save_dir, train_diff_name))"
   ]
  },
  {
   "cell_type": "code",
   "execution_count": 28,
   "metadata": {},
   "outputs": [],
   "source": [
    "EPOCHS = 50\n",
    "BASE = 0\n",
    "\n",
    "THRESHOLD = 4.5\n",
    "# criterion.margin"
   ]
  },
  {
   "cell_type": "code",
   "execution_count": 29,
   "metadata": {},
   "outputs": [],
   "source": [
    "def train(): \n",
    "    best_valid_loss = 1e9\n",
    "    best_valid_loss_epoch = 0\n",
    "    for epoch in range(BASE, BASE + EPOCHS):\n",
    "        model.train()\n",
    "        train_loss = 0.\n",
    "        train_num = len(train_loader)    # train_loader\n",
    "        train_dissimilarities = []\n",
    "        train_targets = []\n",
    "        for idx, (x_1, x_2, y) in enumerate(train_loader):\n",
    "            optimizer.zero_grad()\n",
    "            # print(x_1)\n",
    "            \n",
    "            x_1 = x_1.to(device)\n",
    "            x_2 = x_2.to(device)\n",
    "            y = torch.tensor(y, device=device, dtype=torch.float32)\n",
    "\n",
    "            distance = model((x_1, x_2))\n",
    "            # y_hat = y_hat.squeeze(dim=1)\n",
    "            # euclidean_distance = F.pairwise_distance(o1, o2, keepdim = False)\n",
    "            # loss = criterion(euclidean_distance, y)\n",
    "            loss = criterion(distance, y)\n",
    "            # print(o1, o2)\n",
    "            # print(loss.item())\n",
    "            # raise Exception(\"stop\")\n",
    "\n",
    "            # # L2 regularization term\n",
    "            # l2_reg = torch.tensor(0., device=device)\n",
    "            # for param in model.parameters():\n",
    "            #     l2_reg += torch.norm(param)\n",
    "\n",
    "            # # Add L2 regularization to the loss\n",
    "            # loss += l2_lambda * l2_reg\n",
    "\n",
    "            train_loss += loss.item()\n",
    "\n",
    "            loss.backward()\n",
    "            \n",
    "            # torch.nn.utils.clip_grad_norm_(model.parameters(), clip_value)\n",
    "            # 这个函数计算的是全局梯度范数\n",
    "            # torch.nn.utils.clip_grad_norm(parameters=model.parameters(), max_norm=5, norm_type=2)\n",
    "            torch.nn.utils.clip_grad_norm_(parameters=model.parameters(), max_norm=4, norm_type=2)\n",
    "            # parameters: an iterable of Variables that will have gradients normalized\n",
    "            # max_norm: max norm of the gradients(阈值设定)\n",
    "            # norm_type: type of the used p-norm. Can be'inf'for infinity norm(定义范数类型)\n",
    "\n",
    "            optimizer.step()\n",
    "\n",
    "            # o1 = o1.clone().detach()\n",
    "            # o2 = o2.clone().detach()\n",
    "            # euclidean_distance = F.pairwise_distance(o1, o2, keepdim = False)\n",
    "            # euclidean_distance = F.cosine_similarity(o1, o2, dim=1, eps=1e-6)\n",
    "            train_dissimilarities += distance.cpu().tolist()\n",
    "            train_targets += y.cpu().tolist()\n",
    "\n",
    "            draw_progress_bar(idx, train_num, title=\"Train\")\n",
    "\n",
    "        train_losses.append(train_loss / train_num)\n",
    "        train_same_preds, train_diff_preds = calculate_mean_ci(train_dissimilarities, train_targets)\n",
    "        train_same.append(train_same_preds)\n",
    "        train_diff.append(train_diff_preds)\n",
    "\n",
    "        last_model_name = f\"{epoch}.pt\"\n",
    "        torch.save(model.state_dict(), os.path.join(model_save_dir, last_model_name))\n",
    "\n",
    "        model.eval()\n",
    "        valid_loss = 0.\n",
    "        valid_num = len(valid_loader)\n",
    "        # val_pos_accuracy = 0\n",
    "        # val_neg_accuracy = 0\n",
    "        # num_pos = 0\n",
    "        # num_neg = 0\n",
    "        valid_dissimilarities = []\n",
    "        valid_targets = []\n",
    "        with torch.no_grad():\n",
    "            for idx, (x_1, x_2, y) in enumerate(valid_loader):\n",
    "                x_1 = x_1.to(device)\n",
    "                x_2 = x_2.to(device)\n",
    "                # print(x_1, x_2)\n",
    "                y = torch.tensor(y, device=device, dtype=torch.float32)\n",
    "\n",
    "                distance = model((x_1, x_2))\n",
    "                # y_hat = y_hat.squeeze(dim=1)\n",
    "                # print(o1, o2)\n",
    "                # euclidean_distance = F.pairwise_distance(o1, o2, keepdim = False)\n",
    "                # loss = criterion(euclidean_distance, y)\n",
    "                loss = criterion(distance, y)\n",
    "\n",
    "                # # L2 regularization term\n",
    "                # l2_reg = torch.tensor(0., device=device)\n",
    "                # for param in model.parameters():\n",
    "                #     l2_reg += torch.norm(param)\n",
    "\n",
    "                # # Add L2 regularization to the loss\n",
    "                # loss += l2_lambda * l2_reg\n",
    "\n",
    "                # print(o1, o2)\n",
    "                # print(loss.item())\n",
    "                valid_loss += loss.item()\n",
    "\n",
    "                # o1 = o1.clone().detach()\n",
    "                # o2 = o2.clone().detach()\n",
    "                # euclidean_distance = F.pairwise_distance(o1, o2, keepdim = False)\n",
    "                # euclidean_distance = F.cosine_similarity(o1, o2, dim=1, eps=1e-6)\n",
    "                valid_dissimilarities += distance.cpu().tolist()\n",
    "                valid_targets += y.cpu().tolist()\n",
    "                # print(euclidean_distance)\n",
    "                # raise Exception(\"stop\")\n",
    "\n",
    "                # pos_acc,pos_sum,neg_acc,neg_sum = evaluate_pair(o1, o2, y, THRESHOLD)\n",
    "                # val_pos_accuracy+=pos_acc\n",
    "                # val_neg_accuracy+=neg_acc\n",
    "                # num_pos+=pos_sum\n",
    "                # num_neg+=neg_sum\n",
    "                # euclidean_distance = F.pairwise_distance(o1, o2, keepdim = False)\n",
    "\n",
    "                # pred = model.predict_on_output(o1, o2, threshold=THRESHOLD)\n",
    "\n",
    "                # valid_preds += pred.cpu().tolist()\n",
    "                # valid_targets += y.cpu().tolist()\n",
    "\n",
    "                # draw_progress_bar(idx, valid_num, title=\"Valid\")\n",
    "\n",
    "        avg_valid_loss = valid_loss / valid_num\n",
    "        valid_losses.append(avg_valid_loss)\n",
    "        # val_pos_accuracy /= num_pos\n",
    "        # val_neg_accuracy /= num_neg\n",
    "\n",
    "        valid_same_preds, valid_diff_preds = calculate_mean_ci(valid_dissimilarities, valid_targets)\n",
    "        valid_same.append(valid_same_preds)\n",
    "        valid_diff.append(valid_diff_preds)\n",
    "        \n",
    "        if avg_valid_loss < best_valid_loss: \n",
    "            best_valid_loss = avg_valid_loss\n",
    "            best_valid_loss_epoch = epoch\n",
    "\n",
    "        draw_learning_curve_and_dissimilarity(losses=(train_losses.get(), valid_losses.get(), best_valid_loss_epoch), \n",
    "                                                dissimilarities=(train_same.get(), train_diff.get(), valid_same.get(), valid_diff.get(), (max(epoch - 10, 0), epoch)),\n",
    "                                                epoch=str(epoch))\n",
    "        train_losses.save()\n",
    "        valid_losses.save()\n",
    "        valid_same.save()\n",
    "        valid_diff.save()\n",
    "        train_same.save()\n",
    "        train_diff.save()\n",
    "    \n",
    "    return best_valid_loss_epoch"
   ]
  },
  {
   "cell_type": "code",
   "execution_count": 30,
   "metadata": {},
   "outputs": [
    {
     "data": {
      "image/png": "[encoded data removed]",
      "text/plain": [
       "<Figure size 1800x400 with 3 Axes>"
      ]
     },
     "metadata": {},
     "output_type": "display_data"
    },
    {
     "data": {
      "text/plain": [
       "<Figure size 640x480 with 0 Axes>"
      ]
     },
     "metadata": {},
     "output_type": "display_data"
    },
    {
     "data": {
      "text/plain": [
       "<Figure size 1800x400 with 0 Axes>"
      ]
     },
     "metadata": {},
     "output_type": "display_data"
    },
    {
     "data": {
      "text/plain": [
       "<Figure size 1800x400 with 0 Axes>"
      ]
     },
     "metadata": {},
     "output_type": "display_data"
    },
    {
     "data": {
      "text/plain": [
       "<Figure size 1800x400 with 0 Axes>"
      ]
     },
     "metadata": {},
     "output_type": "display_data"
    },
    {
     "data": {
      "text/plain": [
       "<Figure size 1800x400 with 0 Axes>"
      ]
     },
     "metadata": {},
     "output_type": "display_data"
    },
    {
     "data": {
      "text/plain": [
       "<Figure size 1800x400 with 0 Axes>"
      ]
     },
     "metadata": {},
     "output_type": "display_data"
    },
    {
     "data": {
      "text/plain": [
       "<Figure size 1800x400 with 0 Axes>"
      ]
     },
     "metadata": {},
     "output_type": "display_data"
    },
    {
     "data": {
      "text/plain": [
       "<Figure size 1800x400 with 0 Axes>"
      ]
     },
     "metadata": {},
     "output_type": "display_data"
    },
    {
     "data": {
      "text/plain": [
       "<Figure size 1800x400 with 0 Axes>"
      ]
     },
     "metadata": {},
     "output_type": "display_data"
    },
    {
     "data": {
      "text/plain": [
       "<Figure size 1800x400 with 0 Axes>"
      ]
     },
     "metadata": {},
     "output_type": "display_data"
    },
    {
     "data": {
      "text/plain": [
       "<Figure size 1800x400 with 0 Axes>"
      ]
     },
     "metadata": {},
     "output_type": "display_data"
    },
    {
     "data": {
      "text/plain": [
       "<Figure size 1800x400 with 0 Axes>"
      ]
     },
     "metadata": {},
     "output_type": "display_data"
    },
    {
     "data": {
      "text/plain": [
       "<Figure size 1800x400 with 0 Axes>"
      ]
     },
     "metadata": {},
     "output_type": "display_data"
    },
    {
     "data": {
      "text/plain": [
       "<Figure size 1800x400 with 0 Axes>"
      ]
     },
     "metadata": {},
     "output_type": "display_data"
    },
    {
     "data": {
      "text/plain": [
       "<Figure size 1800x400 with 0 Axes>"
      ]
     },
     "metadata": {},
     "output_type": "display_data"
    },
    {
     "data": {
      "text/plain": [
       "<Figure size 1800x400 with 0 Axes>"
      ]
     },
     "metadata": {},
     "output_type": "display_data"
    },
    {
     "data": {
      "text/plain": [
       "<Figure size 1800x400 with 0 Axes>"
      ]
     },
     "metadata": {},
     "output_type": "display_data"
    },
    {
     "data": {
      "text/plain": [
       "<Figure size 1800x400 with 0 Axes>"
      ]
     },
     "metadata": {},
     "output_type": "display_data"
    },
    {
     "data": {
      "text/plain": [
       "<Figure size 1800x400 with 0 Axes>"
      ]
     },
     "metadata": {},
     "output_type": "display_data"
    },
    {
     "data": {
      "text/plain": [
       "<Figure size 1800x400 with 0 Axes>"
      ]
     },
     "metadata": {},
     "output_type": "display_data"
    },
    {
     "data": {
      "text/plain": [
       "<Figure size 1800x400 with 0 Axes>"
      ]
     },
     "metadata": {},
     "output_type": "display_data"
    },
    {
     "data": {
      "text/plain": [
       "<Figure size 1800x400 with 0 Axes>"
      ]
     },
     "metadata": {},
     "output_type": "display_data"
    },
    {
     "data": {
      "text/plain": [
       "<Figure size 1800x400 with 0 Axes>"
      ]
     },
     "metadata": {},
     "output_type": "display_data"
    },
    {
     "data": {
      "text/plain": [
       "<Figure size 1800x400 with 0 Axes>"
      ]
     },
     "metadata": {},
     "output_type": "display_data"
    },
    {
     "data": {
      "text/plain": [
       "<Figure size 1800x400 with 0 Axes>"
      ]
     },
     "metadata": {},
     "output_type": "display_data"
    },
    {
     "data": {
      "text/plain": [
       "<Figure size 1800x400 with 0 Axes>"
      ]
     },
     "metadata": {},
     "output_type": "display_data"
    },
    {
     "data": {
      "text/plain": [
       "<Figure size 1800x400 with 0 Axes>"
      ]
     },
     "metadata": {},
     "output_type": "display_data"
    },
    {
     "data": {
      "text/plain": [
       "<Figure size 1800x400 with 0 Axes>"
      ]
     },
     "metadata": {},
     "output_type": "display_data"
    },
    {
     "data": {
      "text/plain": [
       "<Figure size 1800x400 with 0 Axes>"
      ]
     },
     "metadata": {},
     "output_type": "display_data"
    },
    {
     "data": {
      "text/plain": [
       "<Figure size 1800x400 with 0 Axes>"
      ]
     },
     "metadata": {},
     "output_type": "display_data"
    },
    {
     "data": {
      "text/plain": [
       "<Figure size 1800x400 with 0 Axes>"
      ]
     },
     "metadata": {},
     "output_type": "display_data"
    },
    {
     "data": {
      "text/plain": [
       "<Figure size 1800x400 with 0 Axes>"
      ]
     },
     "metadata": {},
     "output_type": "display_data"
    },
    {
     "data": {
      "text/plain": [
       "<Figure size 1800x400 with 0 Axes>"
      ]
     },
     "metadata": {},
     "output_type": "display_data"
    },
    {
     "data": {
      "text/plain": [
       "<Figure size 1800x400 with 0 Axes>"
      ]
     },
     "metadata": {},
     "output_type": "display_data"
    },
    {
     "data": {
      "text/plain": [
       "<Figure size 1800x400 with 0 Axes>"
      ]
     },
     "metadata": {},
     "output_type": "display_data"
    },
    {
     "data": {
      "text/plain": [
       "<Figure size 1800x400 with 0 Axes>"
      ]
     },
     "metadata": {},
     "output_type": "display_data"
    },
    {
     "data": {
      "text/plain": [
       "<Figure size 1800x400 with 0 Axes>"
      ]
     },
     "metadata": {},
     "output_type": "display_data"
    },
    {
     "data": {
      "text/plain": [
       "<Figure size 1800x400 with 0 Axes>"
      ]
     },
     "metadata": {},
     "output_type": "display_data"
    },
    {
     "data": {
      "text/plain": [
       "<Figure size 1800x400 with 0 Axes>"
      ]
     },
     "metadata": {},
     "output_type": "display_data"
    },
    {
     "data": {
      "text/plain": [
       "<Figure size 1800x400 with 0 Axes>"
      ]
     },
     "metadata": {},
     "output_type": "display_data"
    },
    {
     "data": {
      "text/plain": [
       "<Figure size 1800x400 with 0 Axes>"
      ]
     },
     "metadata": {},
     "output_type": "display_data"
    },
    {
     "data": {
      "text/plain": [
       "<Figure size 1800x400 with 0 Axes>"
      ]
     },
     "metadata": {},
     "output_type": "display_data"
    },
    {
     "data": {
      "text/plain": [
       "<Figure size 1800x400 with 0 Axes>"
      ]
     },
     "metadata": {},
     "output_type": "display_data"
    },
    {
     "data": {
      "text/plain": [
       "<Figure size 1800x400 with 0 Axes>"
      ]
     },
     "metadata": {},
     "output_type": "display_data"
    },
    {
     "data": {
      "text/plain": [
       "<Figure size 1800x400 with 0 Axes>"
      ]
     },
     "metadata": {},
     "output_type": "display_data"
    },
    {
     "data": {
      "text/plain": [
       "<Figure size 1800x400 with 0 Axes>"
      ]
     },
     "metadata": {},
     "output_type": "display_data"
    },
    {
     "data": {
      "text/plain": [
       "<Figure size 1800x400 with 0 Axes>"
      ]
     },
     "metadata": {},
     "output_type": "display_data"
    },
    {
     "data": {
      "text/plain": [
       "<Figure size 1800x400 with 0 Axes>"
      ]
     },
     "metadata": {},
     "output_type": "display_data"
    },
    {
     "data": {
      "text/plain": [
       "<Figure size 1800x400 with 0 Axes>"
      ]
     },
     "metadata": {},
     "output_type": "display_data"
    },
    {
     "data": {
      "text/plain": [
       "<Figure size 1800x400 with 0 Axes>"
      ]
     },
     "metadata": {},
     "output_type": "display_data"
    },
    {
     "data": {
      "text/plain": [
       "<Figure size 1800x400 with 0 Axes>"
      ]
     },
     "metadata": {},
     "output_type": "display_data"
    },
    {
     "data": {
      "image/png": "[encoded data removed]",
      "text/plain": [
       "<Figure size 1800x400 with 3 Axes>"
      ]
     },
     "metadata": {},
     "output_type": "display_data"
    }
   ],
   "source": [
    "if __name__ == \"__main__\": \n",
    "    best_valid_loss_epoch = train()\n",
    "    draw_learning_curve_and_dissimilarity(losses=(train_losses.get(), valid_losses.get(), best_valid_loss_epoch), \n",
    "                                        dissimilarities=(train_same.get(), train_diff.get(), valid_same.get(), valid_diff.get(), (0, BASE + EPOCHS)),\n",
    "                                        epoch=str(BASE + EPOCHS - 1), \n",
    "                                        save=True, \n",
    "                                        save_name=f\"{model_save_dir}/vis.png\")"
   ]
  },
  {
   "cell_type": "markdown",
   "metadata": {},
   "source": [
    "## Training set acc"
   ]
  },
  {
   "cell_type": "code",
   "execution_count": 31,
   "metadata": {},
   "outputs": [
    {
     "name": "stderr",
     "output_type": "stream",
     "text": [
      "/tmp/ipykernel_3385592/315514825.py:9: UserWarning: To copy construct from a tensor, it is recommended to use sourceTensor.clone().detach() or sourceTensor.clone().detach().requires_grad_(True), rather than torch.tensor(sourceTensor).\n",
      "  y = torch.tensor(y, device=device, dtype=torch.float32)\n"
     ]
    },
    {
     "name": "stdout",
     "output_type": "stream",
     "text": [
      "0.875\n"
     ]
    }
   ],
   "source": [
    "THRESHOLD = 0.5\n",
    "model.eval()\n",
    "with torch.no_grad():\n",
    "    total = 0\n",
    "    correct = 0\n",
    "    for idx, (x_1, x_2, y) in enumerate(train_loader):\n",
    "        x_1 = x_1.to(device)\n",
    "        x_2 = x_2.to(device)\n",
    "        y = torch.tensor(y, device=device, dtype=torch.float32)\n",
    "\n",
    "        distance = model((x_1, x_2))\n",
    "\n",
    "        preds = (distance >= THRESHOLD).type(torch.float32)\n",
    "        correct = (preds == y).sum().item()\n",
    "        total = len(y)\n",
    "\n",
    "print(correct / total)"
   ]
  },
  {
   "cell_type": "code",
   "execution_count": 33,
   "metadata": {},
   "outputs": [
    {
     "data": {
      "text/plain": [
       "(tensor([0.3960, 0.3922, 0.4051, 0.4034, 0.4484, 0.4595, 0.4370, 0.4396, 0.4602,\n",
       "         0.4331, 0.4323, 0.4322, 0.4053, 0.4092, 0.4470, 0.3790, 0.4148, 0.3916,\n",
       "         0.4367, 0.4196, 0.4011, 0.4396, 0.4436, 0.3748, 0.4106, 0.3840, 0.3945,\n",
       "         0.4308, 0.4237, 0.4326, 0.3904, 0.4252, 0.4220, 0.3851, 0.4116, 0.4169,\n",
       "         0.4261, 0.4590, 0.4203, 0.4302, 0.3753, 0.4481, 0.3934, 0.4371, 0.4021,\n",
       "         0.4070, 0.4297, 0.4285], device='cuda:0'),\n",
       " tensor([0., 0., 0., 0., 0., 0., 0., 0., 0., 0., 0., 0., 0., 0., 0., 0., 1., 0.,\n",
       "         0., 0., 0., 0., 1., 0., 0., 0., 0., 1., 0., 0., 0., 0., 1., 0., 1., 0.,\n",
       "         0., 1., 0., 0., 0., 0., 0., 0., 0., 0., 0., 0.], device='cuda:0'))"
      ]
     },
     "execution_count": 33,
     "metadata": {},
     "output_type": "execute_result"
    }
   ],
   "source": [
    "distance, y"
   ]
  },
  {
   "cell_type": "code",
   "execution_count": 34,
   "metadata": {},
   "outputs": [
    {
     "name": "stderr",
     "output_type": "stream",
     "text": [
      "/tmp/ipykernel_3385592/3129860250.py:5: UserWarning: To copy construct from a tensor, it is recommended to use sourceTensor.clone().detach() or sourceTensor.clone().detach().requires_grad_(True), rather than torch.tensor(sourceTensor).\n",
      "  y = torch.tensor(y, device=device, dtype=torch.float32)\n"
     ]
    }
   ],
   "source": [
    "sample_data = next(iter(train_loader))\n",
    "x_1, x_2, y = sample_data\n",
    "x_1 = x_1.to(device)\n",
    "x_2 = x_2.to(device)\n",
    "y = torch.tensor(y, device=device, dtype=torch.float32)\n",
    "\n",
    "output = model.forward_once(x_1)\n",
    "output = output.detach().cpu()"
   ]
  },
  {
   "cell_type": "code",
   "execution_count": 35,
   "metadata": {},
   "outputs": [
    {
     "data": {
      "text/plain": [
       "(torch.Size([128, 32]), tensor(0))"
      ]
     },
     "execution_count": 35,
     "metadata": {},
     "output_type": "execute_result"
    }
   ],
   "source": [
    "output.shape, (output[0] == 0).sum()"
   ]
  },
  {
   "cell_type": "code",
   "execution_count": 36,
   "metadata": {},
   "outputs": [
    {
     "data": {
      "text/plain": [
       "<matplotlib.collections.PathCollection at 0x7f0a183d32d0>"
      ]
     },
     "execution_count": 36,
     "metadata": {},
     "output_type": "execute_result"
    },
    {
     "data": {
      "image/png": "[encoded data removed]",
      "text/plain": [
       "<Figure size 640x480 with 1 Axes>"
      ]
     },
     "metadata": {},
     "output_type": "display_data"
    }
   ],
   "source": [
    "embed_model = UMAP()\n",
    "embedding = embed_model.fit_transform(output.numpy())\n",
    "plt.scatter(embedding[:,0],embedding[:,1])"
   ]
  },
  {
   "cell_type": "code",
   "execution_count": 37,
   "metadata": {},
   "outputs": [
    {
     "name": "stderr",
     "output_type": "stream",
     "text": [
      "/tmp/ipykernel_3385592/1681408251.py:5: UserWarning: To copy construct from a tensor, it is recommended to use sourceTensor.clone().detach() or sourceTensor.clone().detach().requires_grad_(True), rather than torch.tensor(sourceTensor).\n",
      "  y = torch.tensor(y, device=device, dtype=torch.float32)\n"
     ]
    }
   ],
   "source": [
    "sample_data = next(iter(valid_loader))\n",
    "x_1, x_2, y = sample_data\n",
    "x_1 = x_1.to(device)\n",
    "x_2 = x_2.to(device)\n",
    "y = torch.tensor(y, device=device, dtype=torch.float32)\n",
    "\n",
    "# output = model.forward_once(x_1)\n",
    "# output = output.detach().cpu()\n",
    "# preds = model((x_1, x_2))\n",
    "output_1 = model.forward_once(x_1)\n",
    "output_2 = model.forward_once(x_2)"
   ]
  },
  {
   "cell_type": "code",
   "execution_count": 38,
   "metadata": {},
   "outputs": [
    {
     "data": {
      "text/plain": [
       "<matplotlib.collections.PathCollection at 0x7f0a18234d50>"
      ]
     },
     "execution_count": 38,
     "metadata": {},
     "output_type": "execute_result"
    },
    {
     "data": {
      "image/png": "[encoded data removed]",
      "text/plain": [
       "<Figure size 640x480 with 1 Axes>"
      ]
     },
     "metadata": {},
     "output_type": "display_data"
    }
   ],
   "source": [
    "embed_model = UMAP()\n",
    "embedding = embed_model.fit_transform(output_1.detach().cpu().numpy())\n",
    "plt.scatter(embedding[:,0],embedding[:,1])"
   ]
  },
  {
   "cell_type": "code",
   "execution_count": 39,
   "metadata": {},
   "outputs": [
    {
     "data": {
      "text/plain": [
       "<matplotlib.collections.PathCollection at 0x7f0a3010c3d0>"
      ]
     },
     "execution_count": 39,
     "metadata": {},
     "output_type": "execute_result"
    },
    {
     "data": {
      "image/png": "[encoded data removed]",
      "text/plain": [
       "<Figure size 640x480 with 1 Axes>"
      ]
     },
     "metadata": {},
     "output_type": "display_data"
    }
   ],
   "source": [
    "embed_model = UMAP()\n",
    "embedding = embed_model.fit_transform(output_2.detach().cpu().numpy())\n",
    "plt.scatter(embedding[:,0],embedding[:,1])"
   ]
  },
  {
   "cell_type": "code",
   "execution_count": 40,
   "metadata": {},
   "outputs": [
    {
     "data": {
      "text/plain": [
       "(tensor([-0.1615,  0.1069,  0.0252, -0.1066,  0.0967,  0.0955,  0.1236, -0.1104,\n",
       "         -0.1810, -0.0476,  0.1133, -0.2314, -0.3251,  0.0727,  0.0513,  0.0482,\n",
       "          0.2592,  0.0340, -0.1863, -0.0849,  0.0759,  0.1582,  0.2458, -0.0139,\n",
       "          0.2662, -0.1174,  0.0272,  0.1985,  0.0705,  0.2314, -0.0188, -0.1122],\n",
       "        device='cuda:0', grad_fn=<SelectBackward0>),\n",
       " tensor([-0.1783,  0.1293,  0.0533,  0.0335,  0.0707,  0.1314,  0.1336, -0.0582,\n",
       "         -0.3089, -0.0482,  0.2072, -0.3597, -0.3640,  0.1074, -0.0417,  0.1576,\n",
       "          0.2610,  0.1336, -0.2460, -0.2546,  0.0409,  0.1318,  0.2172, -0.0418,\n",
       "          0.2039, -0.0742,  0.0315,  0.2187,  0.0816,  0.1096, -0.0197, -0.1908],\n",
       "        device='cuda:0', grad_fn=<SelectBackward0>),\n",
       " tensor(0., device='cuda:0'))"
      ]
     },
     "execution_count": 40,
     "metadata": {},
     "output_type": "execute_result"
    }
   ],
   "source": [
    "idx = 1\n",
    "output_1[idx], output_2[idx], y[idx]"
   ]
  }
 ],
 "metadata": {
  "kernelspec": {
   "display_name": "lffl",
   "language": "python",
   "name": "python3"
  },
  "language_info": {
   "codemirror_mode": {
    "name": "ipython",
    "version": 3
   },
   "file_extension": ".py",
   "mimetype": "text/x-python",
   "name": "python",
   "nbconvert_exporter": "python",
   "pygments_lexer": "ipython3",
   "version": "3.11.5"
  }
 },
 "nbformat": 4,
 "nbformat_minor": 2
}

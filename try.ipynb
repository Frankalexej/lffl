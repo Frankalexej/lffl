{
 "cells": [
  {
   "cell_type": "code",
   "execution_count": 1,
   "metadata": {},
   "outputs": [],
   "source": [
    "import torch\n",
    "from torch import nn\n",
    "from torch import optim\n",
    "from torch.utils.data import DataLoader, random_split\n",
    "from torch.nn.utils.rnn import pad_sequence, pack_sequence\n",
    "import onnx\n",
    "\n",
    "from model_model import SiameseNetwork\n",
    "from model_configs import ModelDimConfigs, TrainingConfigs\n",
    "from misc_tools import get_timestamp"
   ]
  },
  {
   "cell_type": "code",
   "execution_count": 2,
   "metadata": {},
   "outputs": [],
   "source": [
    "dimconf = ModelDimConfigs(\n",
    "        rnn_in_size=64, \n",
    "        lin_in_size_1=32, \n",
    "        lin_in_size_2=16, \n",
    "        lin_out_size_2=1\n",
    "    )\n",
    "\n",
    "model = SiameseNetwork(\n",
    "    dimconf=dimconf\n",
    ")"
   ]
  },
  {
   "cell_type": "code",
   "execution_count": 3,
   "metadata": {},
   "outputs": [
    {
     "data": {
      "text/plain": [
       "SiameseNetwork(\n",
       "  (rnn): SelfPackLSTM(\n",
       "    (rnn): LSTM(64, 32, num_layers=2, batch_first=True)\n",
       "  )\n",
       "  (fc): Sequential(\n",
       "    (0): Linear(in_features=64, out_features=16, bias=True)\n",
       "    (1): ReLU()\n",
       "    (2): Linear(in_features=16, out_features=1, bias=True)\n",
       "  )\n",
       "  (sigmoid): Sigmoid()\n",
       ")"
      ]
     },
     "execution_count": 3,
     "metadata": {},
     "output_type": "execute_result"
    }
   ],
   "source": [
    "model"
   ]
  },
  {
   "cell_type": "code",
   "execution_count": 6,
   "metadata": {},
   "outputs": [],
   "source": [
    "x1 = torch.rand(3, 20, 64)\n",
    "x2 = torch.rand(3, 12, 64)\n",
    "\n",
    "l1 = torch.randint(1, 20, (3, ))\n",
    "l2 = torch.randint(1, 12, (3, ))"
   ]
  },
  {
   "cell_type": "code",
   "execution_count": 7,
   "metadata": {},
   "outputs": [],
   "source": [
    "o = model((x1, x2), (l1, l2))"
   ]
  },
  {
   "cell_type": "code",
   "execution_count": 8,
   "metadata": {},
   "outputs": [],
   "source": [
    "onnx_path = \"save.onnx\"\n",
    "torch.onnx.export(model, ((x1, x2), (l1, l2)), onnx_path)"
   ]
  },
  {
   "cell_type": "code",
   "execution_count": 3,
   "metadata": {},
   "outputs": [],
   "source": [
    "torch.save(model.state_dict(), \"save.pth\")"
   ]
  },
  {
   "cell_type": "code",
   "execution_count": 49,
   "metadata": {},
   "outputs": [],
   "source": [
    "x = torch.randn(3, 4, 5)\n",
    "x_lens = torch.tensor([1, 2, 4])"
   ]
  },
  {
   "cell_type": "code",
   "execution_count": 51,
   "metadata": {},
   "outputs": [
    {
     "data": {
      "text/plain": [
       "tensor([[1, 0, 0, 0],\n",
       "        [0, 1, 0, 0],\n",
       "        [0, 0, 0, 1]])"
      ]
     },
     "execution_count": 51,
     "metadata": {},
     "output_type": "execute_result"
    }
   ],
   "source": [
    "torch.nn.functional.one_hot(x_lens - 1)"
   ]
  },
  {
   "cell_type": "code",
   "execution_count": 44,
   "metadata": {},
   "outputs": [],
   "source": [
    "nx = x[, :]"
   ]
  },
  {
   "cell_type": "code",
   "execution_count": 45,
   "metadata": {},
   "outputs": [
    {
     "data": {
      "text/plain": [
       "torch.Size([3, 3, 4, 5])"
      ]
     },
     "execution_count": 45,
     "metadata": {},
     "output_type": "execute_result"
    }
   ],
   "source": [
    "nx.shape"
   ]
  },
  {
   "cell_type": "code",
   "execution_count": 55,
   "metadata": {},
   "outputs": [
    {
     "data": {
      "text/plain": [
       "torch.Size([3, 3, 5])"
      ]
     },
     "execution_count": 55,
     "metadata": {},
     "output_type": "execute_result"
    }
   ],
   "source": [
    "torch.index_select(x, 1, x_lens - 1).shape"
   ]
  },
  {
   "cell_type": "code",
   "execution_count": 28,
   "metadata": {},
   "outputs": [],
   "source": [
    "import time\n",
    "import pylab as pl\n",
    "from IPython import display\n",
    "import time\n",
    "import random\n",
    "import matplotlib.pylab as plt\n",
    "from IPython import display"
   ]
  },
  {
   "cell_type": "code",
   "execution_count": 42,
   "metadata": {},
   "outputs": [],
   "source": [
    "def draw_learning_curve_and_accuracy(losses, accs, epoch=\"\"): \n",
    "    plt.clf()\n",
    "    fig, (ax1, ax2) = plt.subplots(1, 2, figsize=(12, 4))\n",
    "    train_losses, valid_losses, best_val_loss = losses\n",
    "    valid_accs = accs\n",
    "\n",
    "    # Plot Loss on the left subplot\n",
    "    ax1.plot(train_losses, label='Train')\n",
    "    ax1.plot(valid_losses, label='Valid')\n",
    "    ax1.axvline(x=best_val_loss, color='r', linestyle='--', label=\"Best: \" + str(best_val_loss))\n",
    "    ax1.set_title(\"Learning Curve Loss\" + f\" {epoch}\")\n",
    "    ax1.legend(loc=\"upper right\")\n",
    "\n",
    "    # Plot Accuracy on the right subplot\n",
    "    ax2.plot(valid_accs, label='Valid')\n",
    "    ax2.set_title('Learning Curve Accuracy' + f\" {epoch}\")\n",
    "    ax2.legend(loc=\"lower right\")\n",
    "\n",
    "    # Display the plots\n",
    "    plt.tight_layout()\n",
    "    plt.xlabel(\"Epoch\")\n",
    "    display.clear_output(wait=True)\n",
    "    display.display(plt.gcf())"
   ]
  },
  {
   "cell_type": "code",
   "execution_count": 43,
   "metadata": {},
   "outputs": [
    {
     "data": {
      "image/png": "[encoded data removed]",
      "text/plain": [
       "<Figure size 1200x400 with 2 Axes>"
      ]
     },
     "metadata": {},
     "output_type": "display_data"
    },
    {
     "data": {
      "text/plain": [
       "<Figure size 640x480 with 0 Axes>"
      ]
     },
     "metadata": {},
     "output_type": "display_data"
    },
    {
     "data": {
      "text/plain": [
       "<Figure size 1200x400 with 0 Axes>"
      ]
     },
     "metadata": {},
     "output_type": "display_data"
    },
    {
     "data": {
      "text/plain": [
       "<Figure size 1200x400 with 0 Axes>"
      ]
     },
     "metadata": {},
     "output_type": "display_data"
    },
    {
     "data": {
      "text/plain": [
       "<Figure size 1200x400 with 0 Axes>"
      ]
     },
     "metadata": {},
     "output_type": "display_data"
    },
    {
     "data": {
      "image/png": "[encoded data removed]",
      "text/plain": [
       "<Figure size 1200x400 with 2 Axes>"
      ]
     },
     "metadata": {},
     "output_type": "display_data"
    }
   ],
   "source": [
    "train_losses = []\n",
    "valid_losses = []\n",
    "\n",
    "valid_accs = []\n",
    "\n",
    "while True:\n",
    "    try:\n",
    "\n",
    "        train_losses.append(random.random())\n",
    "        valid_losses.append(random.random())\n",
    "\n",
    "        valid_accs.append(random.random())\n",
    "\n",
    "        draw_learning_curve_and_accuracy((train_losses, valid_losses, 5), (valid_accs))\n",
    "        time.sleep(1)\n",
    "    except KeyboardInterrupt:\n",
    "        break"
   ]
  },
  {
   "cell_type": "code",
   "execution_count": 1,
   "metadata": {},
   "outputs": [],
   "source": [
    "import pandas as pd\n",
    "import os\n",
    "from paths import *"
   ]
  },
  {
   "cell_type": "code",
   "execution_count": 2,
   "metadata": {},
   "outputs": [],
   "source": [
    "guide_file = pd.read_csv(os.path.join(src_, \"guide_mod.csv\"))"
   ]
  },
  {
   "cell_type": "code",
   "execution_count": 3,
   "metadata": {},
   "outputs": [
    {
     "data": {
      "text/plain": [
       "['sil',\n",
       " 'CH',\n",
       " 'AE',\n",
       " 'P',\n",
       " 'T',\n",
       " 'ER',\n",
       " 'W',\n",
       " 'AH',\n",
       " 'N',\n",
       " 'sp',\n",
       " 'M',\n",
       " 'IH',\n",
       " 'S',\n",
       " 'Z',\n",
       " 'R',\n",
       " 'EY',\n",
       " 'L',\n",
       " 'D',\n",
       " 'AY',\n",
       " 'V',\n",
       " 'JH',\n",
       " 'EH',\n",
       " 'DH',\n",
       " 'IY',\n",
       " 'OW',\n",
       " 'AW',\n",
       " 'UW',\n",
       " 'HH',\n",
       " 'AA',\n",
       " 'F',\n",
       " 'TH',\n",
       " 'AO',\n",
       " 'B',\n",
       " 'UH',\n",
       " 'K',\n",
       " 'Y',\n",
       " 'NG',\n",
       " 'G',\n",
       " 'SH',\n",
       " 'OY',\n",
       " 'ZH',\n",
       " 'spn']"
      ]
     },
     "execution_count": 3,
     "metadata": {},
     "output_type": "execute_result"
    }
   ],
   "source": [
    "guide_file[\"segment_nostress\"].unique().tolist()"
   ]
  },
  {
   "cell_type": "code",
   "execution_count": 8,
   "metadata": {},
   "outputs": [],
   "source": [
    "import torch.nn as nn\n",
    "import torch"
   ]
  },
  {
   "cell_type": "code",
   "execution_count": 18,
   "metadata": {},
   "outputs": [],
   "source": [
    "sm = nn.Softmax(dim=1)"
   ]
  },
  {
   "cell_type": "code",
   "execution_count": 19,
   "metadata": {},
   "outputs": [],
   "source": [
    "x = torch.randn(size=(5, 10))"
   ]
  },
  {
   "cell_type": "code",
   "execution_count": 20,
   "metadata": {},
   "outputs": [
    {
     "data": {
      "text/plain": [
       "tensor([[ 0.8863,  0.1093,  0.9341, -0.7400, -0.1759,  0.4170, -0.6253, -2.1953,\n",
       "          1.7105, -1.3972],\n",
       "        [-1.6566,  0.4989, -0.8215, -0.7731,  0.8442, -0.2636, -0.2400, -0.9204,\n",
       "          0.3180, -0.7191],\n",
       "        [ 2.0954, -1.9509,  1.6724, -0.5004,  0.2676,  1.0348, -0.5430,  0.6520,\n",
       "         -0.1656,  0.6663],\n",
       "        [-1.2439, -0.4518, -1.4087,  1.8685,  1.9991, -0.5235,  0.5470, -1.0004,\n",
       "          0.2612,  0.4925],\n",
       "        [-0.9078, -0.1602,  0.6646,  0.0174,  1.4603, -0.3822, -0.6509, -1.3161,\n",
       "          0.6787,  0.1360]])"
      ]
     },
     "execution_count": 20,
     "metadata": {},
     "output_type": "execute_result"
    }
   ],
   "source": [
    "x"
   ]
  },
  {
   "cell_type": "code",
   "execution_count": 22,
   "metadata": {},
   "outputs": [],
   "source": [
    "y = sm(x)"
   ]
  },
  {
   "cell_type": "code",
   "execution_count": 27,
   "metadata": {},
   "outputs": [
    {
     "data": {
      "text/plain": [
       "tensor([8, 4, 0, 4, 4])"
      ]
     },
     "execution_count": 27,
     "metadata": {},
     "output_type": "execute_result"
    }
   ],
   "source": [
    "torch.argmax(y, dim=1)"
   ]
  },
  {
   "cell_type": "code",
   "execution_count": null,
   "metadata": {},
   "outputs": [],
   "source": [
    "# data = {'type': ds.seg_set}\n",
    "# counts = pd.DataFrame(data)[\"type\"].value_counts()\n",
    "# # Create a bar graph for vowels\n",
    "# plt.figure(figsize=(15, 4))\n",
    "# plt.bar(counts.index, counts.values, color='skyblue')\n",
    "# plt.xlabel('Phones')\n",
    "# plt.ylabel('Count')\n",
    "# plt.title('Count of Phones - Dataset')\n",
    "# plt.xticks(rotation=0)  # Rotate x-axis labels if needed\n",
    "\n",
    "# # Display the bar graph\n",
    "# plt.show()\n",
    "\n",
    "\n",
    "# data = {'type': ds.seg_set}\n",
    "# counts = pd.DataFrame(data)[\"type\"][train_ds.indices].value_counts()\n",
    "# # Create a bar graph for vowels\n",
    "# plt.figure(figsize=(15, 4))\n",
    "# plt.bar(counts.index, counts.values, color='skyblue')\n",
    "# plt.xlabel('Phones')\n",
    "# plt.ylabel('Count')\n",
    "# plt.title('Count of Phones - Trainset')\n",
    "# plt.xticks(rotation=0)  # Rotate x-axis labels if needed\n",
    "\n",
    "# # Display the bar graph\n",
    "# plt.show()\n",
    "\n",
    "\n",
    "# data = {'type': ds.seg_set}\n",
    "# counts = pd.DataFrame(data)[\"type\"][valid_ds.indices].value_counts()\n",
    "# # Create a bar graph for vowels\n",
    "# plt.figure(figsize=(15, 4))\n",
    "# plt.bar(counts.index, counts.values, color='skyblue')\n",
    "# plt.xlabel('Phones')\n",
    "# plt.ylabel('Count')\n",
    "# plt.title('Count of Phones - Validset')\n",
    "# plt.xticks(rotation=0)  # Rotate x-axis labels if needed\n",
    "\n",
    "# # Display the bar graph\n",
    "# plt.show()"
   ]
  },
  {
   "cell_type": "code",
   "execution_count": 4,
   "metadata": {},
   "outputs": [],
   "source": [
    "from paths import *\n",
    "import os\n",
    "import pandas as pd"
   ]
  },
  {
   "cell_type": "code",
   "execution_count": 5,
   "metadata": {},
   "outputs": [],
   "source": [
    "log = pd.read_csv(os.path.join(src_, \"guide_mod.csv\"))"
   ]
  },
  {
   "cell_type": "code",
   "execution_count": 6,
   "metadata": {},
   "outputs": [
    {
     "data": {
      "text/html": [
       "<div>\n",
       "<style scoped>\n",
       "    .dataframe tbody tr th:only-of-type {\n",
       "        vertical-align: middle;\n",
       "    }\n",
       "\n",
       "    .dataframe tbody tr th {\n",
       "        vertical-align: top;\n",
       "    }\n",
       "\n",
       "    .dataframe thead th {\n",
       "        text-align: right;\n",
       "    }\n",
       "</style>\n",
       "<table border=\"1\" class=\"dataframe\">\n",
       "  <thead>\n",
       "    <tr style=\"text-align: right;\">\n",
       "      <th></th>\n",
       "      <th>segment</th>\n",
       "      <th>file</th>\n",
       "      <th>id</th>\n",
       "      <th>startTime</th>\n",
       "      <th>endTime</th>\n",
       "      <th>nSample</th>\n",
       "      <th>segment_nostress</th>\n",
       "      <th>stress_type</th>\n",
       "    </tr>\n",
       "  </thead>\n",
       "  <tbody>\n",
       "    <tr>\n",
       "      <th>0</th>\n",
       "      <td>sil</td>\n",
       "      <td>103-1240-0000</td>\n",
       "      <td>0</td>\n",
       "      <td>0.00</td>\n",
       "      <td>0.44</td>\n",
       "      <td>7040</td>\n",
       "      <td>sil</td>\n",
       "      <td>SNA</td>\n",
       "    </tr>\n",
       "    <tr>\n",
       "      <th>1</th>\n",
       "      <td>CH</td>\n",
       "      <td>103-1240-0000</td>\n",
       "      <td>1</td>\n",
       "      <td>0.44</td>\n",
       "      <td>0.57</td>\n",
       "      <td>2080</td>\n",
       "      <td>CH</td>\n",
       "      <td>SNA</td>\n",
       "    </tr>\n",
       "    <tr>\n",
       "      <th>2</th>\n",
       "      <td>AE1</td>\n",
       "      <td>103-1240-0000</td>\n",
       "      <td>2</td>\n",
       "      <td>0.57</td>\n",
       "      <td>0.63</td>\n",
       "      <td>960</td>\n",
       "      <td>AE</td>\n",
       "      <td>1</td>\n",
       "    </tr>\n",
       "    <tr>\n",
       "      <th>3</th>\n",
       "      <td>P</td>\n",
       "      <td>103-1240-0000</td>\n",
       "      <td>3</td>\n",
       "      <td>0.63</td>\n",
       "      <td>0.70</td>\n",
       "      <td>1120</td>\n",
       "      <td>P</td>\n",
       "      <td>SNA</td>\n",
       "    </tr>\n",
       "    <tr>\n",
       "      <th>4</th>\n",
       "      <td>T</td>\n",
       "      <td>103-1240-0000</td>\n",
       "      <td>4</td>\n",
       "      <td>0.70</td>\n",
       "      <td>0.75</td>\n",
       "      <td>800</td>\n",
       "      <td>T</td>\n",
       "      <td>SNA</td>\n",
       "    </tr>\n",
       "    <tr>\n",
       "      <th>...</th>\n",
       "      <td>...</td>\n",
       "      <td>...</td>\n",
       "      <td>...</td>\n",
       "      <td>...</td>\n",
       "      <td>...</td>\n",
       "      <td>...</td>\n",
       "      <td>...</td>\n",
       "      <td>...</td>\n",
       "    </tr>\n",
       "    <tr>\n",
       "      <th>3685868</th>\n",
       "      <td>M</td>\n",
       "      <td>911-130578-0020</td>\n",
       "      <td>77</td>\n",
       "      <td>7.74</td>\n",
       "      <td>7.81</td>\n",
       "      <td>1120</td>\n",
       "      <td>M</td>\n",
       "      <td>SNA</td>\n",
       "    </tr>\n",
       "    <tr>\n",
       "      <th>3685869</th>\n",
       "      <td>F</td>\n",
       "      <td>911-130578-0020</td>\n",
       "      <td>78</td>\n",
       "      <td>7.81</td>\n",
       "      <td>7.97</td>\n",
       "      <td>2560</td>\n",
       "      <td>F</td>\n",
       "      <td>SNA</td>\n",
       "    </tr>\n",
       "    <tr>\n",
       "      <th>3685870</th>\n",
       "      <td>UW1</td>\n",
       "      <td>911-130578-0020</td>\n",
       "      <td>79</td>\n",
       "      <td>7.97</td>\n",
       "      <td>8.18</td>\n",
       "      <td>3360</td>\n",
       "      <td>UW</td>\n",
       "      <td>1</td>\n",
       "    </tr>\n",
       "    <tr>\n",
       "      <th>3685871</th>\n",
       "      <td>D</td>\n",
       "      <td>911-130578-0020</td>\n",
       "      <td>80</td>\n",
       "      <td>8.18</td>\n",
       "      <td>8.29</td>\n",
       "      <td>1760</td>\n",
       "      <td>D</td>\n",
       "      <td>SNA</td>\n",
       "    </tr>\n",
       "    <tr>\n",
       "      <th>3685872</th>\n",
       "      <td>sp</td>\n",
       "      <td>911-130578-0020</td>\n",
       "      <td>81</td>\n",
       "      <td>8.29</td>\n",
       "      <td>8.40</td>\n",
       "      <td>1760</td>\n",
       "      <td>sp</td>\n",
       "      <td>SNA</td>\n",
       "    </tr>\n",
       "  </tbody>\n",
       "</table>\n",
       "<p>3685873 rows × 8 columns</p>\n",
       "</div>"
      ],
      "text/plain": [
       "        segment             file  id  startTime  endTime  nSample  \\\n",
       "0           sil    103-1240-0000   0       0.00     0.44     7040   \n",
       "1            CH    103-1240-0000   1       0.44     0.57     2080   \n",
       "2           AE1    103-1240-0000   2       0.57     0.63      960   \n",
       "3             P    103-1240-0000   3       0.63     0.70     1120   \n",
       "4             T    103-1240-0000   4       0.70     0.75      800   \n",
       "...         ...              ...  ..        ...      ...      ...   \n",
       "3685868       M  911-130578-0020  77       7.74     7.81     1120   \n",
       "3685869       F  911-130578-0020  78       7.81     7.97     2560   \n",
       "3685870     UW1  911-130578-0020  79       7.97     8.18     3360   \n",
       "3685871       D  911-130578-0020  80       8.18     8.29     1760   \n",
       "3685872      sp  911-130578-0020  81       8.29     8.40     1760   \n",
       "\n",
       "        segment_nostress stress_type  \n",
       "0                    sil         SNA  \n",
       "1                     CH         SNA  \n",
       "2                     AE           1  \n",
       "3                      P         SNA  \n",
       "4                      T         SNA  \n",
       "...                  ...         ...  \n",
       "3685868                M         SNA  \n",
       "3685869                F         SNA  \n",
       "3685870               UW           1  \n",
       "3685871                D         SNA  \n",
       "3685872               sp         SNA  \n",
       "\n",
       "[3685873 rows x 8 columns]"
      ]
     },
     "execution_count": 6,
     "metadata": {},
     "output_type": "execute_result"
    }
   ],
   "source": [
    "log"
   ]
  },
  {
   "cell_type": "code",
   "execution_count": 10,
   "metadata": {},
   "outputs": [
    {
     "data": {
      "text/plain": [
       "{'AA': [95, 125, 257, 304, 347, 398, 426, 436, 479, 483, 544, 613, 788, 897, 930, 1008, 1095, 1099, 1121, 1325, 1396, 1474, 1494, 1588, 1684, 1760, 1801, 2265, 2325, 2428, 2620, 2677, 2767, 2770, 2854, 2904, 2942, 2947, 2957, 3185, 3317, 3322, 3333, 3365, 3480, 3573, 3619, 3631, 3651, 3678, 3681, 3688, 3781, 3801, 3906, 3980, 4015, 4070, 4128, 4176, 4226, 4249, 4295, 4465, 4602, 4647, 4759, 4816, 4906, 4973, 5019, 5064, 5073, 5156, 5169, 5345, 5379, 5511, 5638, 5655, 5729, 5743, 5795, 5853, 5866, 5914, 5962, 5983, 6008, 6115, 6145, 6246, 6406, 6629, 6636, 6674, 6681, 6821, 6907, 6917, ...], 'AE': [2, 63, 151, 164, 276, 366, 411, 462, 496, 522, 526, 578, 630, 637, 750, 766, 830, 843, 878, 916, 987, 1026, 1047, 1049, 1085, 1125, 1183, 1188, 1194, 1203, 1263, 1295, 1415, 1420, 1528, 1585, 1596, 1626, 1640, 1642, 1658, 1669, 1723, 1737, 1748, 1751, 1754, 1764, 1783, 1816, 1868, 1875, 1881, 1890, 1957, 1973, 1993, 2007, 2011, 2042, 2046, 2059, 2078, 2098, 2143, 2183, 2200, 2237, 2246, 2268, 2304, 2354, 2359, 2409, 2509, 2597, 2600, 2610, 2642, 2649, 2704, 2718, 2739, 2764, 2785, 2823, 2892, 2908, 2929, 2939, 2984, 3049, 3072, 3076, 3135, 3212, 3230, 3268, 3309, 3345, ...], 'AH': [7, 18, 43, 55, 65, 88, 92, 113, 128, 133, 140, 148, 160, 169, 174, 182, 195, 209, 215, 217, 267, 272, 283, 310, 312, 316, 323, 326, 329, 334, 353, 363, 377, 407, 419, 428, 433, 439, 442, 452, 455, 477, 493, 508, 516, 518, 535, 550, 570, 583, 590, 594, 607, 621, 626, 632, 642, 650, 652, 677, 685, 704, 714, 721, 724, 726, 734, 736, 747, 760, 772, 774, 786, 791, 797, 799, 803, 805, 820, 828, 837, 847, 855, 865, 868, 870, 882, 885, 892, 899, 902, 910, 913, 922, 927, 959, 966, 968, 971, 994, ...], 'AO': [108, 157, 223, 239, 344, 385, 417, 546, 601, 822, 889, 920, 945, 1013, 1077, 1115, 1148, 1173, 1220, 1239, 1306, 1320, 1432, 1488, 1517, 1544, 1560, 1580, 1651, 1896, 2242, 2308, 2440, 2579, 2626, 2731, 2791, 2828, 2869, 3121, 3127, 3188, 3214, 3254, 3277, 3700, 3718, 3809, 3847, 3921, 3989, 4120, 4216, 4318, 4321, 4418, 4438, 4656, 4818, 4821, 4860, 4883, 4940, 4983, 5046, 5281, 5337, 5350, 5359, 5466, 5471, 5531, 5604, 5679, 5706, 5738, 5832, 5839, 5905, 5936, 6092, 6136, 6161, 6268, 6340, 6385, 6449, 6532, 6540, 6545, 6558, 6797, 6814, 6899, 6963, 7047, 7288, 7294, 7405, 7506, ...], 'AW': [82, 390, 548, 587, 640, 808, 962, 984, 1056, 1129, 1166, 1340, 1702, 1864, 1947, 2422, 2495, 2534, 2714, 2758, 2799, 2803, 2982, 3016, 3142, 3553, 3629, 3825, 3853, 3859, 4118, 4242, 4365, 4714, 4810, 4815, 5009, 5196, 5201, 5479, 6204, 6312, 6372, 6665, 7028, 7101, 7222, 7610, 7779, 7810, 7869, 7883, 7918, 7954, 7987, 8562, 8689, 8743, 8789, 9246, 9441, 9557, 9661, 9762, 9815, 9960, 10119, 10174, 10724, 10954, 11120, 11339, 11471, 11545, 11628, 11943, 11984, 12172, 12389, 12407, 12480, 12513, 12589, 12623, 12710, 12856, 12902, 13033, 13132, 13184, 13669, 13965, 14500, 14798, 14888, 15035, 15131, 15176, 15832, 16059, ...], 'AY': [31, 139, 286, 290, 315, 482, 592, 680, 811, 912, 975, 1098, 1245, 1314, 1350, 1366, 1381, 1720, 1791, 1977, 2056, 2178, 2187, 2234, 2262, 2273, 2334, 2384, 2419, 2446, 2460, 2501, 2614, 2629, 2652, 2672, 2689, 2836, 2911, 2916, 3286, 3351, 3410, 3460, 3520, 3610, 3637, 3755, 4153, 4197, 4253, 4273, 4284, 4328, 4349, 4386, 4566, 4644, 4718, 4786, 4855, 4935, 5078, 5088, 5123, 5224, 5238, 5306, 5311, 5335, 5357, 5456, 5521, 5525, 5535, 5576, 5611, 5649, 5685, 5776, 5943, 6168, 6201, 6218, 6319, 6382, 6496, 6527, 6619, 6693, 6876, 6902, 6904, 6946, 7002, 7015, 7017, 7035, 7074, 7170, ...], 'B': [138, 141, 163, 184, 207, 225, 282, 285, 354, 427, 429, 503, 670, 673, 679, 703, 735, 787, 804, 967, 1146, 1156, 1312, 1333, 1348, 1368, 1380, 1391, 1448, 1486, 1493, 1520, 1557, 1573, 1665, 1675, 1701, 1744, 1774, 1822, 1886, 1906, 1935, 1964, 1997, 2082, 2094, 2129, 2280, 2405, 2568, 2711, 2780, 2787, 2798, 2860, 2899, 2960, 3038, 3045, 3096, 3105, 3154, 3276, 3292, 3324, 3344, 3350, 3398, 3429, 3454, 3479, 3508, 3569, 3584, 3628, 3680, 3711, 3749, 3789, 3864, 3877, 3937, 3964, 3997, 4017, 4124, 4156, 4190, 4236, 4252, 4256, 4272, 4303, 4380, 4383, 4415, 4474, 4507, 4547, ...], 'CH': [1, 17, 42, 296, 376, 451, 511, 713, 741, 903, 905, 958, 993, 1235, 1322, 1437, 1506, 1839, 1905, 2025, 2089, 2156, 2320, 2752, 2793, 3125, 3159, 3173, 3200, 3371, 3545, 3727, 3897, 3917, 3953, 3972, 4000, 4200, 4218, 4238, 4411, 4671, 4754, 4927, 5165, 5205, 5302, 5399, 5436, 5496, 5722, 5757, 5826, 6049, 6256, 6753, 7173, 7287, 7556, 7767, 8139, 8190, 8297, 8520, 8655, 8707, 8854, 9164, 9361, 9481, 9541, 9663, 9742, 9834, 9844, 9941, 9982, 10222, 10529, 10576, 10692, 10733, 10793, 10841, 11002, 11852, 12057, 12078, 12235, 12261, 12437, 12505, 12698, 12735, 12833, 13407, 13574, 13705, 13848, 13861, ...], 'D': [23, 33, 48, 53, 74, 76, 81, 104, 110, 115, 118, 123, 130, 152, 172, 180, 204, 221, 250, 256, 274, 280, 301, 325, 330, 361, 382, 384, 392, 400, 404, 413, 414, 469, 510, 514, 524, 545, 561, 579, 586, 596, 639, 656, 681, 719, 768, 827, 832, 836, 872, 880, 908, 918, 964, 970, 999, 1027, 1032, 1078, 1087, 1108, 1127, 1131, 1142, 1150, 1158, 1184, 1201, 1205, 1302, 1311, 1324, 1351, 1376, 1388, 1403, 1434, 1443, 1451, 1473, 1484, 1490, 1529, 1532, 1592, 1618, 1641, 1670, 1725, 1778, 1786, 1789, 1806, 1818, 1877, 1882, 1892, 1913, 1932, ...], 'DH': [61, 147, 168, 176, 245, 287, 389, 441, 492, 525, 589, 604, 610, 665, 696, 728, 754, 769, 775, 785, 846, 867, 884, 901, 944, 947, 1042, 1101, 1110, 1118, 1134, 1193, 1212, 1257, 1280, 1297, 1318, 1327, 1337, 1476, 1491, 1512, 1550, 1595, 1619, 1762, 1798, 1809, 1834, 1851, 1883, 1893, 1914, 1987, 2004, 2039, 2045, 2052, 2120, 2175, 2259, 2294, 2448, 2452, 2497, 2566, 2641, 2778, 2808, 2840, 2866, 2888, 2905, 2981, 3003, 3051, 3079, 3089, 3111, 3129, 3132, 3229, 3256, 3284, 3352, 3380, 3390, 3394, 3406, 3436, 3457, 3466, 3518, 3533, 3534, 3557, 3567, 3615, 3665, 3668, ...], 'EH': [59, 220, 320, 485, 538, 563, 567, 581, 598, 605, 611, 617, 654, 666, 691, 697, 755, 834, 860, 940, 1043, 1072, 1141, 1153, 1163, 1258, 1537, 1575, 1601, 1622, 1672, 1705, 1727, 1823, 1901, 1951, 1988, 2000, 2029, 2051, 2076, 2087, 2105, 2110, 2139, 2221, 2229, 2252, 2329, 2392, 2434, 2484, 2515, 2556, 2584, 2756, 2796, 2806, 2921, 2944, 2952, 2973, 2977, 3011, 3029, 3059, 3080, 3097, 3241, 3243, 3249, 3356, 3395, 3445, 3458, 3467, 3495, 3516, 3528, 3550, 3590, 3625, 3744, 3794, 3807, 3813, 3819, 3882, 3929, 3935, 4096, 4106, 4143, 4170, 4201, 4213, 4232, 4309, 4426, 4443, ...], 'ER': [5, 28, 111, 135, 185, 234, 237, 403, 465, 501, 565, 671, 742, 763, 776, 815, 817, 853, 904, 936, 983, 990, 1061, 1064, 1192, 1266, 1273, 1323, 1379, 1467, 1531, 1542, 1584, 1612, 1629, 1638, 1656, 1666, 1674, 1694, 1745, 1767, 1797, 1933, 1965, 2005, 2053, 2114, 2216, 2218, 2267, 2328, 2358, 2362, 2396, 2412, 2425, 2451, 2486, 2517, 2539, 2577, 2675, 2712, 2742, 2794, 2800, 2831, 2846, 2887, 2889, 2900, 2906, 2932, 2967, 3054, 3109, 3133, 3147, 3280, 3307, 3393, 3415, 3669, 3790, 3806, 3823, 3863, 3876, 3887, 4073, 4219, 4235, 4237, 4271, 4304, 4390, 4398, 4402, 4446, ...], 'EY': [16, 41, 70, 117, 162, 189, 279, 375, 450, 554, 669, 712, 732, 825, 873, 907, 957, 1104, 1234, 1382, 1436, 1464, 1505, 1572, 1696, 1779, 1845, 2024, 2161, 2193, 2213, 2226, 2319, 2341, 2404, 2564, 2699, 2727, 2751, 2872, 2875, 2951, 3037, 3093, 3114, 3161, 3172, 3204, 3226, 3272, 3343, 3391, 3437, 3544, 3560, 3583, 3644, 3647, 3694, 3726, 3896, 3963, 4023, 4133, 4324, 4379, 4395, 4410, 4452, 4456, 4524, 4572, 4670, 4738, 4753, 4852, 4886, 4926, 5033, 5184, 5301, 5319, 5355, 5362, 5435, 5502, 5546, 5554, 5644, 5696, 5710, 5721, 5804, 5825, 5997, 6037, 6048, 6103, 6445, 6480, ...], 'F': [99, 343, 401, 500, 529, 580, 600, 777, 812, 919, 961, 982, 1264, 1354, 1481, 1559, 1627, 1654, 1693, 1721, 1752, 1765, 1850, 2030, 2113, 2309, 2360, 2410, 2418, 2424, 2459, 2527, 2576, 2627, 2740, 2769, 2845, 2886, 2903, 2930, 2946, 2966, 2972, 3015, 3053, 3108, 3389, 3403, 3453, 3717, 3742, 3810, 3848, 3975, 4003, 4008, 4025, 4136, 4214, 4340, 4397, 4417, 4425, 4682, 4785, 4823, 4837, 4863, 5208, 5317, 5351, 5472, 5497, 5599, 5606, 5653, 5703, 5772, 5775, 5808, 5838, 5923, 5932, 5938, 6007, 6052, 6155, 6163, 6229, 6339, 6376, 6394, 6448, 6489, 6541, 6739, 6749, 6815, 6843, 6882, ...], 'G': [397, 689, 790, 891, 931, 1219, 1859, 1888, 1922, 1968, 1983, 2050, 2061, 2072, 2075, 2204, 2282, 2399, 2403, 2439, 2490, 2570, 2574, 2774, 2782, 2880, 2941, 3032, 3036, 3266, 3486, 3578, 3582, 3593, 3642, 3851, 3958, 3962, 4037, 4175, 4180, 4264, 4278, 4677, 4733, 4737, 4744, 4873, 4892, 4999, 5031, 5102, 5370, 5586, 5678, 5700, 5924, 5993, 6421, 6471, 6477, 6486, 6563, 6577, 6650, 6680, 6689, 6740, 6772, 6854, 6861, 6951, 6995, 7042, 7120, 7130, 7151, 7331, 7337, 7363, 7378, 7521, 7745, 7802, 8088, 8359, 8434, 8618, 8631, 8778, 8782, 8890, 8906, 8930, 8936, 9042, 9070, 9241, 9282, 9711, ...], 'HH': [94, 150, 219, 303, 464, 577, 647, 744, 807, 814, 859, 989, 1025, 1055, 1120, 1143, 1160, 1182, 1196, 1339, 1373, 1417, 1445, 1460, 1478, 1515, 1527, 1530, 1533, 1598, 1608, 1639, 1668, 1713, 1716, 1730, 1750, 1800, 1811, 1819, 1854, 1878, 1880, 1917, 1949, 1981, 1992, 2058, 2116, 2165, 2170, 2192, 2199, 2231, 2236, 2303, 2357, 2436, 2475, 2512, 2528, 2546, 2596, 2599, 2623, 2695, 2763, 2802, 2853, 2923, 2933, 2938, 2954, 2969, 3009, 3013, 3021, 3024, 3063, 3141, 3233, 3347, 3512, 3733, 3746, 3822, 3824, 3829, 3836, 3994, 4011, 4195, 4248, 4288, 4307, 4356, 4385, 4389, 4422, 4491, ...], 'IH': [11, 13, 21, 25, 36, 38, 46, 51, 77, 84, 90, 101, 106, 121, 153, 166, 192, 198, 203, 206, 211, 229, 231, 254, 264, 292, 299, 307, 332, 351, 370, 372, 380, 388, 396, 415, 422, 445, 447, 458, 460, 467, 475, 490, 512, 528, 542, 573, 585, 628, 644, 664, 674, 682, 688, 694, 707, 709, 717, 752, 781, 850, 925, 933, 943, 948, 952, 954, 978, 980, 992, 997, 1003, 1005, 1018, 1029, 1031, 1034, 1070, 1074, 1082, 1091, 1144, 1170, 1175, 1179, 1186, 1197, 1229, 1231, 1243, 1253, 1255, 1270, 1291, 1293, 1300, 1334, 1345, 1361, ...], 'IY': [62, 68, 119, 177, 208, 236, 261, 288, 295, 339, 349, 405, 410, 431, 473, 488, 531, 540, 558, 576, 620, 624, 635, 662, 740, 795, 841, 915, 937, 1024, 1038, 1054, 1059, 1089, 1135, 1138, 1147, 1155, 1159, 1213, 1217, 1242, 1248, 1275, 1319, 1364, 1386, 1392, 1407, 1425, 1427, 1472, 1482, 1487, 1516, 1526, 1540, 1551, 1552, 1593, 1599, 1617, 1636, 1707, 1731, 1759, 1763, 1777, 1788, 1855, 1873, 1879, 1889, 1918, 1982, 2002, 2016, 2033, 2071, 2108, 2130, 2171, 2223, 2232, 2283, 2332, 2401, 2414, 2437, 2453, 2464, 2476, 2489, 2513, 2529, 2544, 2547, 2571, 2633, 2667, ...], 'JH': [54, 103, 753, 1276, 1571, 2215, 2369, 2386, 2483, 3060, 3220, 4146, 5152, 5465, 6084, 6855, 7259, 7618, 7672, 7766, 8207, 9524, 10036, 10339, 10651, 11175, 11292, 11512, 11855, 12203, 12317, 12400, 12718, 13455, 13941, 14329, 14427, 14449, 14491, 14605, 14712, 14875, 14964, 15263, 15479, 15598, 15614, 15930, 15949, 16008, 16026, 16132, 16217, 16500, 16609, 16671, 17008, 17156, 17295, 17588, 17946, 17991, 18543, 18548, 18820, 19095, 19113, 19614, 19709, 19813, 20005, 20308, 20646, 20972, 21088, 21370, 21468, 21503, 22227, 22287, 22667, 22698, 23225, 23517, 23618, 24261, 24547, 24553, 24684, 24752, 24998, 25052, 25414, 25653, 25745, 25877, 25911, 26776, 26974, 27439, ...], 'K': [144, 165, 181, 216, 228, 238, 259, 262, 275, 278, 313, 322, 327, 357, 359, 416, 435, 472, 506, 649, 657, 692, 731, 738, 746, 759, 779, 818, 854, 875, 991, 1007, 1016, 1035, 1058, 1088, 1113, 1288, 1363, 1408, 1431, 1522, 1587, 1623, 1644, 1650, 1662, 1741, 1831, 1910, 1927, 1961, 2085, 2162, 2243, 2264, 2337, 2342, 2465, 2468, 2565, 2631, 2676, 2700, 2708, 2730, 2822, 2826, 2896, 2963, 2985, 3066, 3187, 3346, 3372, 3418, 3441, 3483, 3571, 3653, 3698, 3786, 3833, 3883, 3915, 3951, 4029, 4086, 4115, 4126, 4132, 4259, 4300, 4430, 4477, 4481, 4544, 4565, 4571, 4573, ...], 'L': [19, 20, 44, 45, 50, 67, 89, 93, 96, 109, 116, 179, 188, 222, 235, 271, 298, 305, 321, 331, 335, 378, 379, 430, 453, 513, 553, 574, 616, 627, 634, 658, 661, 690, 715, 716, 737, 806, 823, 835, 856, 861, 877, 934, 946, 960, 1019, 1053, 1073, 1122, 1145, 1198, 1223, 1237, 1240, 1274, 1330, 1335, 1353, 1355, 1369, 1400, 1409, 1413, 1424, 1430, 1433, 1439, 1440, 1463, 1480, 1483, 1508, 1538, 1567, 1574, 1685, 1718, 1719, 1782, 1787, 1802, 1813, 1832, 1844, 1872, 1899, 1937, 2015, 2027, 2032, 2107, 2153, 2186, 2225, 2266, 2322, 2381, 2385, 2407, ...], 'M': [10, 35, 69, 291, 340, 369, 420, 444, 502, 706, 749, 924, 951, 976, 1044, 1103, 1228, 1290, 1308, 1371, 1375, 1383, 1397, 1406, 1414, 1419, 1499, 1535, 1543, 1570, 1590, 1600, 1647, 1657, 1695, 1736, 1900, 1956, 2006, 2018, 2055, 2097, 2115, 2118, 2125, 2133, 2167, 2182, 2207, 2233, 2245, 2290, 2313, 2333, 2340, 2371, 2426, 2427, 2456, 2502, 2578, 2588, 2592, 2625, 2630, 2660, 2671, 2703, 2745, 2786, 2797, 2835, 2847, 2874, 2891, 2935, 2968, 2976, 3026, 3110, 3113, 3166, 3308, 3316, 3354, 3369, 3374, 3408, 3440, 3524, 3538, 3676, 3679, 3720, 3780, 3844, 3867, 3890, 3905, 3983, ...], 'N': [8, 22, 47, 66, 71, 83, 85, 102, 114, 129, 167, 210, 212, 230, 273, 300, 324, 346, 352, 364, 381, 408, 412, 437, 468, 484, 509, 517, 523, 532, 539, 562, 571, 595, 618, 629, 633, 638, 651, 655, 668, 676, 683, 687, 700, 718, 725, 748, 751, 758, 761, 764, 767, 782, 792, 800, 829, 831, 838, 844, 866, 871, 879, 917, 923, 928, 963, 969, 972, 995, 998, 1002, 1011, 1028, 1039, 1052, 1067, 1075, 1086, 1100, 1105, 1126, 1130, 1149, 1154, 1164, 1176, 1204, 1211, 1215, 1218, 1221, 1262, 1267, 1269, 1271, 1278, 1284, 1294, 1301, ...], 'NG': [224, 461, 476, 491, 543, 695, 851, 890, 1006, 1092, 1244, 1256, 1292, 1362, 1459, 1556, 1710, 1794, 1862, 1925, 1971, 1986, 2038, 2136, 2142, 2164, 2209, 2276, 2293, 2347, 2591, 2735, 2790, 2870, 2998, 3122, 3195, 3211, 3228, 3255, 3340, 3500, 3511, 3514, 3869, 4047, 4117, 4229, 4277, 4371, 4484, 4681, 4751, 4792, 4833, 4998, 5187, 5193, 5349, 5373, 5411, 5470, 5590, 5637, 5699, 5807, 5928, 5979, 6023, 6149, 6197, 6227, 6240, 6293, 6324, 6366, 6369, 6474, 6514, 6581, 6804, 6865, 6912, 7154, 7201, 7286, 7302, 7351, 7424, 7433, 7583, 7616, 7648, 7691, 7699, 7712, 7722, 7749, 7757, 7759, ...], 'OW': [73, 97, 178, 246, 306, 470, 533, 659, 699, 729, 757, 770, 778, 801, 849, 1000, 1066, 1107, 1123, 1190, 1200, 1207, 1303, 1331, 1336, 1377, 1457, 1582, 1607, 1679, 1717, 1795, 1803, 1833, 1860, 1909, 1923, 1969, 1984, 2083, 2103, 2117, 2205, 2394, 2491, 2575, 2654, 2658, 2691, 2775, 2843, 2856, 2975, 3025, 3117, 3149, 3151, 3290, 3302, 3325, 3381, 3386, 3464, 3659, 3704, 3804, 3861, 3947, 4021, 4082, 4145, 4251, 4269, 4432, 4460, 4492, 4540, 4576, 4801, 4824, 5026, 5136, 5221, 5330, 5371, 5448, 5474, 5517, 5519, 5534, 5618, 5623, 5835, 5848, 5951, 5956, 6085, 6259, 6472, 6500, ...], 'OY': [1080, 2370, 2380, 5598, 5886, 5930, 6108, 6153, 6568, 6755, 6871, 7217, 7953, 8075, 8956, 9022, 10340, 11689, 12177, 12359, 12844, 13259, 14946, 16133, 17157, 17296, 21007, 22107, 24534, 25551, 26777, 27573, 27687, 27799, 27888, 28337, 30150, 30775, 30979, 32245, 32342, 32463, 33924, 34724, 35196, 35632, 36131, 44002, 44365, 51174, 52021, 52057, 52629, 52649, 53077, 53441, 56112, 56345, 56424, 56701, 56884, 57484, 57728, 57754, 58174, 58376, 58674, 58771, 59194, 59269, 59959, 60277, 60499, 61161, 61733, 62053, 62411, 63444, 63985, 64057, 64444, 64480, 64570, 66948, 67198, 67408, 67719, 68759, 68768, 68849, 69573, 69797, 69919, 69934, 69937, 70100, 71677, 71769, 72265, 73212, ...], 'P': [3, 29, 78, 126, 187, 199, 269, 365, 424, 474, 481, 495, 519, 552, 615, 623, 625, 733, 862, 895, 898, 1015, 1060, 1090, 1097, 1133, 1139, 1187, 1332, 1360, 1426, 1428, 1470, 1539, 1615, 1635, 1753, 1781, 1808, 1843, 1847, 2034, 2067, 2137, 2224, 2256, 2305, 2324, 2379, 2393, 2542, 2559, 2601, 2635, 2666, 2839, 2956, 3202, 3250, 3260, 3375, 3421, 3423, 3463, 3551, 3606, 3646, 3673, 3753, 3771, 3795, 3820, 3872, 3881, 3902, 3930, 3979, 4022, 4053, 4069, 4184, 4401, 4450, 4479, 4549, 4552, 4585, 4594, 4609, 4621, 4870, 4934, 4942, 4946, 5059, 5093, 5140, 5234, 5283, 5394, ...], 'R': [15, 30, 40, 60, 72, 100, 122, 124, 132, 142, 158, 197, 214, 226, 240, 243, 258, 263, 294, 338, 345, 355, 362, 374, 386, 395, 399, 402, 418, 425, 449, 480, 487, 504, 515, 547, 566, 582, 599, 602, 606, 612, 614, 667, 698, 711, 739, 756, 789, 842, 864, 888, 896, 921, 956, 985, 1014, 1096, 1106, 1114, 1140, 1174, 1199, 1209, 1233, 1259, 1307, 1313, 1321, 1349, 1385, 1435, 1495, 1504, 1545, 1561, 1576, 1581, 1589, 1652, 1655, 1690, 1732, 1758, 1790, 1848, 1897, 1902, 1952, 1989, 2023, 2068, 2104, 2106, 2138, 2212, 2230, 2251, 2272, 2318, ...], 'S': [12, 27, 37, 56, 127, 136, 155, 156, 159, 190, 233, 241, 260, 266, 277, 336, 367, 371, 406, 409, 440, 446, 457, 497, 507, 536, 555, 568, 660, 678, 708, 762, 780, 809, 848, 852, 869, 874, 886, 893, 909, 911, 949, 953, 979, 1021, 1033, 1036, 1057, 1081, 1116, 1136, 1189, 1206, 1216, 1230, 1241, 1252, 1282, 1329, 1341, 1399, 1456, 1471, 1501, 1547, 1578, 1606, 1616, 1624, 1643, 1653, 1755, 1784, 1824, 1826, 1895, 1930, 1940, 1944, 2020, 2041, 2077, 2088, 2102, 2127, 2131, 2140, 2180, 2210, 2227, 2253, 2288, 2315, 2378, 2388, 2390, 2499, 2523, 2543, ...], 'SH': [438, 478, 530, 557, 575, 794, 840, 926, 1023, 1094, 1247, 1357, 1525, 1697, 2177, 2331, 2679, 2761, 2862, 2910, 2986, 3152, 3238, 3245, 3294, 3431, 3523, 3761, 3815, 4311, 4348, 4359, 4420, 4514, 4527, 4868, 5025, 5116, 5158, 5166, 5415, 5442, 5556, 5624, 5746, 5750, 5872, 5957, 6038, 6059, 6089, 6104, 6207, 6260, 6274, 6461, 6466, 7109, 7146, 7417, 7519, 7539, 7591, 7709, 7831, 8251, 8582, 8989, 9098, 9106, 9139, 9269, 9336, 9385, 9391, 9547, 9894, 9957, 10359, 10703, 10950, 11036, 11192, 11214, 11218, 11300, 11349, 11493, 11537, 11554, 11594, 11615, 11635, 11643, 11701, 11755, 11768, 12024, 12060, 12095, ...], 'T': [4, 57, 79, 86, 91, 131, 137, 149, 154, 186, 193, 202, 205, 213, 218, 232, 265, 284, 289, 293, 297, 308, 317, 328, 333, 337, 348, 368, 391, 423, 443, 459, 463, 494, 498, 527, 534, 537, 549, 569, 572, 584, 588, 619, 641, 645, 653, 663, 684, 693, 705, 783, 802, 863, 887, 894, 914, 941, 973, 974, 977, 981, 988, 1004, 1009, 1020, 1030, 1037, 1068, 1069, 1071, 1112, 1117, 1137, 1165, 1167, 1171, 1177, 1180, 1185, 1195, 1222, 1225, 1254, 1265, 1296, 1315, 1367, 1395, 1411, 1465, 1466, 1514, 1518, 1536, 1541, 1579, 1586, 1597, 1603, ...], 'TH': [107, 183, 242, 255, 489, 541, 1659, 1664, 1708, 1738, 1743, 1757, 1958, 1963, 2084, 2099, 2134, 2247, 2291, 2345, 2589, 2705, 2710, 2893, 2898, 3055, 3310, 3326, 3414, 3498, 3641, 3788, 4045, 4100, 4302, 4447, 4496, 4499, 4639, 4831, 4913, 4986, 4996, 5084, 5110, 5191, 5202, 5340, 5358, 5462, 5565, 5672, 6091, 6125, 6130, 6225, 6238, 6250, 6364, 6521, 6557, 6572, 6802, 6849, 7441, 7460, 7689, 7710, 7720, 7805, 8182, 8192, 8283, 8326, 8379, 8398, 8477, 9189, 9502, 9636, 9656, 9735, 9786, 9902, 9992, 9997, 10014, 10019, 10117, 10147, 10208, 10334, 10491, 10619, 10876, 11061, 11241, 11285, 11315, 11333, ...], 'UH': [143, 171, 227, 249, 356, 360, 505, 560, 2035, 2338, 2455, 2549, 2863, 2881, 2964, 3006, 3293, 3417, 3432, 3731, 3834, 3992, 4085, 4114, 4258, 4599, 4745, 4990, 5119, 5127, 5488, 5508, 5726, 6210, 6252, 6788, 7248, 7338, 7694, 7743, 7752, 7949, 8094, 8349, 8793, 8971, 9101, 9142, 9168, 9236, 9242, 9318, 9394, 9865, 9876, 9956, 10139, 10641, 10716, 10775, 10799, 11123, 11138, 11145, 11425, 11644, 11702, 11910, 12494, 12737, 12874, 12950, 13109, 13362, 13385, 13450, 13481, 13563, 13614, 13645, 13828, 13899, 13962, 14059, 14324, 14379, 14571, 15033, 15272, 15275, 15565, 15799, 15855, 15906, 16648, 16666, 17020, 17068, 17457, 17928, ...], 'UW': [87, 201, 244, 270, 394, 648, 745, 784, 876, 1161, 1178, 1268, 1277, 1370, 1418, 1511, 1631, 1661, 1682, 1740, 1769, 1827, 1849, 1960, 2101, 2149, 2220, 2249, 2364, 2470, 2707, 2895, 3160, 3312, 3413, 3470, 3474, 3490, 3494, 3945, 4066, 4102, 4147, 4174, 4192, 4501, 4641, 4701, 4805, 5086, 5112, 5274, 5322, 5342, 5464, 5493, 5567, 5674, 5702, 5856, 5970, 5972, 6127, 6266, 6290, 6351, 6523, 6574, 6591, 6661, 6733, 6764, 6769, 6771, 6786, 6851, 6992, 7079, 7279, 7284, 7348, 7462, 7527, 7636, 7656, 7680, 7697, 7706, 7732, 7774, 7792, 8030, 8077, 8114, 8141, 8150, 8228, 8238, 8292, 8328, ...], 'V': [52, 64, 134, 175, 268, 350, 486, 551, 564, 608, 622, 631, 643, 686, 727, 773, 900, 1041, 1050, 1079, 1169, 1191, 1227, 1359, 1378, 1390, 1421, 1553, 1583, 1649, 1673, 1683, 1772, 1792, 1796, 1830, 1867, 1869, 2012, 2060, 2063, 2188, 2201, 2238, 2274, 2349, 2395, 2504, 2516, 2518, 2537, 2598, 2670, 2717, 2719, 2814, 2833, 3062, 3101, 3136, 3193, 3209, 3338, 3358, 3405, 3503, 3556, 3577, 3589, 3735, 3756, 3767, 3805, 3838, 3862, 3875, 3885, 3996, 4039, 4049, 4060, 4141, 4187, 4270, 4282, 4283, 4344, 4520, 4557, 4570, 4636, 4748, 4789, 4844, 4938, 4954, 5013, 5107, 5132, 5185, ...], 'W': [6, 58, 105, 161, 170, 194, 248, 253, 309, 314, 319, 387, 432, 454, 466, 559, 591, 597, 720, 723, 796, 810, 816, 819, 824, 833, 881, 942, 996, 1012, 1017, 1063, 1065, 1128, 1162, 1249, 1260, 1285, 1299, 1305, 1342, 1365, 1453, 1565, 1733, 1837, 1840, 1856, 1903, 1919, 1950, 1953, 1976, 1978, 2086, 2109, 2151, 2154, 2157, 2172, 2228, 2257, 2261, 2285, 2375, 2433, 2445, 2450, 2454, 2548, 2645, 2653, 2692, 2805, 2817, 2827, 2950, 2979, 3005, 3010, 3042, 3084, 3123, 3146, 3234, 3282, 3285, 3303, 3342, 3392, 3531, 3612, 3633, 3639, 3656, 3670, 3706, 3730, 3763, 3793, ...], 'Y': [200, 393, 935, 939, 1510, 1568, 1660, 1726, 1739, 1959, 2100, 2148, 2248, 2505, 2583, 2706, 2894, 3311, 3469, 3489, 3572, 3618, 3774, 3800, 4065, 4127, 4173, 4500, 4614, 4627, 4640, 4700, 4804, 4820, 5273, 5321, 5341, 5463, 5507, 5548, 5566, 5673, 5712, 5855, 5899, 5969, 5994, 6126, 6267, 6522, 6573, 6586, 6590, 6660, 6768, 6787, 6850, 7278, 7300, 7461, 7655, 7679, 7693, 7731, 7742, 7751, 7775, 7791, 8076, 8113, 8140, 8291, 8327, 8380, 8428, 8768, 8828, 8970, 9190, 9311, 9527, 9616, 9637, 9787, 9812, 9993, 10015, 10327, 10335, 10432, 10459, 10477, 10492, 10668, 10907, 11062, 11334, 11524, 11674, 11860, ...], 'Z': [14, 26, 32, 39, 112, 120, 173, 196, 247, 251, 302, 311, 373, 383, 434, 448, 456, 593, 603, 672, 675, 710, 722, 730, 743, 765, 771, 798, 821, 826, 883, 929, 932, 955, 986, 1048, 1062, 1083, 1232, 1238, 1251, 1287, 1344, 1393, 1444, 1447, 1455, 1462, 1503, 1524, 1577, 1610, 1715, 1735, 1776, 1821, 1835, 1842, 1858, 1921, 1955, 1980, 2022, 2079, 2092, 2159, 2174, 2217, 2287, 2317, 2330, 2366, 2377, 2408, 2438, 2479, 2520, 2637, 2697, 2749, 2819, 2852, 2909, 2922, 2925, 2945, 2953, 2971, 3008, 3023, 3041, 3044, 3065, 3086, 3103, 3145, 3170, 3244, 3291, 3296, ...], 'ZH': [2150, 4702, 5971, 17892, 20241, 22254, 22784, 22955, 25565, 37830, 39934, 43183, 44892, 45180, 45372, 47446, 49571, 49644, 51151, 51246, 51501, 53876, 55021, 64022, 64137, 64390, 64883, 65058, 65776, 65926, 67071, 68341, 72714, 73769, 76125, 78328, 83049, 87184, 87695, 93689, 93746, 94290, 97684, 105319, 106676, 108956, 110561, 110604, 111168, 111203, 111861, 112045, 115341, 116098, 116809, 117098, 117463, 119346, 123107, 124677, 128462, 134520, 138142, 138657, 139178, 141413, 147775, 152400, 152491, 159410, 162114, 162896, 165570, 167273, 169933, 172066, 172933, 175468, 175665, 180701, 181576, 205131, 207710, 220522, 225657, 226967, 231098, 232149, 232194, 243605, 246555, 247037, 248258, 248419, 249028, 250000, 253868, 254362, 256205, 274063, ...], 'sil': [0, 146, 342, 521, 702, 858, 1046, 1152, 1317, 1498, 1634, 1815, 1991, 2169, 2353, 2525, 2582, 2777, 2937, 3095, 3275, 3435, 3623, 3828, 3988, 4168, 4352, 4441, 4626, 4813, 5172, 5385, 5562, 5749, 5909, 6113, 6242, 6412, 6516, 6701, 6892, 7059, 7261, 7455, 7659, 7864, 8047, 8203, 8365, 8568, 8747, 8950, 9156, 9350, 9567, 9720, 9906, 9981, 10151, 10331, 10533, 10710, 10873, 11058, 11254, 11438, 11634, 11783, 11988, 12163, 12333, 12503, 12666, 12818, 13005, 13192, 13317, 13359, 13489, 13671, 13869, 14091, 14304, 14373, 14506, 14700, 14904, 15097, 15239, 15415, 15590, 15809, 16043, 16227, 16448, 16595, 16800, 16990, 17150, 17362, ...], 'sp': [9, 24, 34, 49, 75, 80, 98, 145, 191, 252, 281, 318, 341, 358, 421, 471, 499, 520, 556, 609, 636, 646, 701, 793, 813, 839, 845, 857, 906, 938, 950, 965, 1001, 1022, 1045, 1076, 1084, 1109, 1124, 1151, 1172, 1181, 1202, 1208, 1246, 1272, 1279, 1304, 1316, 1372, 1394, 1404, 1452, 1485, 1497, 1519, 1564, 1594, 1633, 1704, 1722, 1729, 1747, 1780, 1814, 1836, 1863, 1874, 1885, 1945, 1948, 1967, 1972, 1990, 2017, 2054, 2093, 2119, 2168, 2244, 2284, 2312, 2323, 2336, 2352, 2383, 2447, 2474, 2508, 2524, 2581, 2628, 2648, 2683, 2728, 2738, 2760, 2776, 2783, 2811, ...], 'spn': [2810, 5790, 6505, 10135, 15727, 16494, 43103, 43206, 52032, 52371, 52570, 54283, 55081, 55194, 56827, 57524, 57609, 57890, 58194, 58332, 59860, 59865, 62192, 62382, 63171, 66478, 66482, 68864, 70127, 70133, 84184, 97279, 99015, 113497, 113560, 118146, 118500, 118535, 119265, 128052, 135300, 137588, 140107, 140342, 141770, 143220, 143856, 146612, 152278, 160292, 160674, 160678, 161392, 162583, 164432, 164783, 165547, 167262, 174507, 179181, 186683, 186890, 187104, 193512, 194474, 195040, 195242, 196030, 196148, 196263, 197312, 204532, 206271, 216624, 220883, 222223, 222867, 226161, 226272, 226811, 226887, 229048, 229846, 246947, 250554, 251147, 251459, 252394, 252413, 252528, 252730, 253013, 253103, 253319, 253519, 253601, 253602, 261282, 262258, 283250, ...]}"
      ]
     },
     "execution_count": 10,
     "metadata": {},
     "output_type": "execute_result"
    }
   ],
   "source": [
    "log.groupby('segment_nostress').groups"
   ]
  },
  {
   "cell_type": "code",
   "execution_count": 4,
   "metadata": {},
   "outputs": [],
   "source": [
    "import torch.nn.functional as F\n",
    "import torch"
   ]
  },
  {
   "cell_type": "code",
   "execution_count": 5,
   "metadata": {},
   "outputs": [],
   "source": [
    "output1 = torch.randn(2, 10)\n",
    "output2 = torch.randn(2, 10)"
   ]
  },
  {
   "cell_type": "code",
   "execution_count": 13,
   "metadata": {},
   "outputs": [],
   "source": [
    "euclidean_distance = F.pairwise_distance(output1, output2)"
   ]
  },
  {
   "cell_type": "code",
   "execution_count": 16,
   "metadata": {},
   "outputs": [
    {
     "data": {
      "text/plain": [
       "tensor([2.8290, 7.0970])"
      ]
     },
     "execution_count": 16,
     "metadata": {},
     "output_type": "execute_result"
    }
   ],
   "source": [
    "euclidean_distance"
   ]
  },
  {
   "cell_type": "code",
   "execution_count": 18,
   "metadata": {},
   "outputs": [
    {
     "data": {
      "image/png": "[encoded data removed]",
      "text/plain": [
       "<Figure size 640x480 with 1 Axes>"
      ]
     },
     "metadata": {},
     "output_type": "display_data"
    }
   ],
   "source": [
    "import numpy as np\n",
    "import matplotlib.pyplot as plt\n",
    "from scipy import stats\n",
    "\n",
    "# Assuming data1 and data2 are the data points for two groups at each time step\n",
    "# Assuming alpha is the confidence level (e.g., 0.95 for a 95% confidence interval)\n",
    "\n",
    "# Generate example data\n",
    "np.random.seed(42)\n",
    "data1 = np.random.normal(loc=0, scale=1, size=(10, 100))\n",
    "data2 = np.random.normal(loc=1, scale=1, size=(10, 100))\n",
    "\n",
    "# Calculate mean and confidence interval for each group at each time step\n",
    "mean1 = np.mean(data1, axis=1)\n",
    "ci1 = stats.t.interval(confidence=0.95, df=len(data1[0])-1, loc=np.mean(data1, axis=1), scale=stats.sem(data1, axis=1))\n",
    "\n",
    "mean2 = np.mean(data2, axis=1)\n",
    "ci2 = stats.t.interval(confidence=0.95, df=len(data2[0])-1, loc=np.mean(data2, axis=1), scale=stats.sem(data2, axis=1))\n",
    "\n",
    "# Plotting\n",
    "time_steps = np.arange(len(mean1))\n",
    "\n",
    "plt.errorbar(time_steps, mean1, yerr=(mean1 - ci1[0], ci1[1] - mean1), label='Group 1', fmt='o-', capsize=5)\n",
    "plt.errorbar(time_steps, mean2, yerr=(mean2 - ci2[0], ci2[1] - mean2), label='Group 2', fmt='o-', capsize=5)\n",
    "\n",
    "plt.xlabel('Time Step')\n",
    "plt.ylabel('Mean Value')\n",
    "plt.title('Change in Mean with Confidence Intervals Over Time')\n",
    "plt.legend()\n",
    "plt.show()\n"
   ]
  },
  {
   "cell_type": "code",
   "execution_count": 31,
   "metadata": {},
   "outputs": [
    {
     "name": "stdout",
     "output_type": "stream",
     "text": [
      "({'mean': 0.6000607, 'ci_upper': 0.6809280932976769, 'ci_lower': 0.5191933094428016}, {'mean': 0.44099528, 'ci_upper': 0.540381095256038, 'ci_lower': 0.34160945669250947})\n"
     ]
    }
   ],
   "source": [
    "import torch\n",
    "import numpy as np\n",
    "from scipy import stats\n",
    "\n",
    "def calculate_mean_ci(dissimilarities, labels, alpha=0.95):\n",
    "    \"\"\"\n",
    "    Calculate mean, upper confidence interval, and lower confidence interval of dissimilarities for each label category.\n",
    "\n",
    "    Args:\n",
    "    - dissimilarities (torch.Tensor): Tensor of dissimilarities.\n",
    "    - labels (torch.Tensor): Tensor of binary labels (0 for \"same\" and 1 for \"different\").\n",
    "    - alpha (float): Confidence level for calculating the confidence interval.\n",
    "\n",
    "    Returns:\n",
    "    - dict: Dictionary containing mean, upper confidence interval, and lower confidence interval for each label category.\n",
    "    \"\"\"\n",
    "\n",
    "    # Convert PyTorch tensors to NumPy arrays\n",
    "    dissimilarities_np = dissimilarities.cpu().numpy()\n",
    "    labels_np = labels.cpu().numpy()\n",
    "\n",
    "    # Calculate mean, upper confidence interval, and lower confidence interval for \"same\" label\n",
    "    indices_same = labels_np == 0\n",
    "    dissimilarities_same = dissimilarities_np[indices_same]\n",
    "\n",
    "    mean_same = np.mean(dissimilarities_same)\n",
    "    ci_same = stats.t.interval(confidence=alpha, df=len(dissimilarities_same)-1, loc=mean_same, scale=stats.sem(dissimilarities_same))\n",
    "    mean_same, ci_upper_same, ci_lower_same = mean_same, ci_same[1], ci_same[0]\n",
    "\n",
    "    # Calculate mean, upper confidence interval, and lower confidence interval for \"different\" label\n",
    "    indices_diff = labels_np == 1\n",
    "    dissimilarities_diff = dissimilarities_np[indices_diff]\n",
    "\n",
    "    mean_diff = np.mean(dissimilarities_diff)\n",
    "    ci_diff = stats.t.interval(confidence=alpha, df=len(dissimilarities_diff)-1, loc=mean_diff, scale=stats.sem(dissimilarities_diff))\n",
    "    mean_diff, ci_upper_diff, ci_lower_diff = mean_diff, ci_diff[1], ci_diff[0]\n",
    "\n",
    "    same_res = {'mean': mean_same, 'ci_upper': ci_upper_same, 'ci_lower': ci_lower_same}\n",
    "    diff_res = {'mean': mean_diff, 'ci_upper': ci_upper_diff, 'ci_lower': ci_lower_diff}\n",
    "\n",
    "    return same_res, diff_res\n",
    "\n",
    "# Example usage:\n",
    "dissimilarities = torch.rand(100)  # Replace with your dissimilarity tensor\n",
    "labels = torch.randint(0, 2, (100,))  # Replace with your label tensor\n",
    "\n",
    "result = calculate_mean_ci(dissimilarities, labels)\n",
    "print(result)\n"
   ]
  },
  {
   "cell_type": "code",
   "execution_count": 38,
   "metadata": {},
   "outputs": [
    {
     "data": {
      "text/html": [
       "<div>\n",
       "<style scoped>\n",
       "    .dataframe tbody tr th:only-of-type {\n",
       "        vertical-align: middle;\n",
       "    }\n",
       "\n",
       "    .dataframe tbody tr th {\n",
       "        vertical-align: top;\n",
       "    }\n",
       "\n",
       "    .dataframe thead th {\n",
       "        text-align: right;\n",
       "    }\n",
       "</style>\n",
       "<table border=\"1\" class=\"dataframe\">\n",
       "  <thead>\n",
       "    <tr style=\"text-align: right;\">\n",
       "      <th></th>\n",
       "      <th>Name</th>\n",
       "      <th>Age</th>\n",
       "      <th>Gender</th>\n",
       "    </tr>\n",
       "  </thead>\n",
       "  <tbody>\n",
       "    <tr>\n",
       "      <th>0</th>\n",
       "      <td>John</td>\n",
       "      <td>25</td>\n",
       "      <td>M</td>\n",
       "    </tr>\n",
       "  </tbody>\n",
       "</table>\n",
       "</div>"
      ],
      "text/plain": [
       "   Name  Age Gender\n",
       "0  John   25      M"
      ]
     },
     "execution_count": 38,
     "metadata": {},
     "output_type": "execute_result"
    }
   ],
   "source": []
  },
  {
   "cell_type": "code",
   "execution_count": 40,
   "metadata": {},
   "outputs": [
    {
     "data": {
      "text/html": [
       "<div>\n",
       "<style scoped>\n",
       "    .dataframe tbody tr th:only-of-type {\n",
       "        vertical-align: middle;\n",
       "    }\n",
       "\n",
       "    .dataframe tbody tr th {\n",
       "        vertical-align: top;\n",
       "    }\n",
       "\n",
       "    .dataframe thead th {\n",
       "        text-align: right;\n",
       "    }\n",
       "</style>\n",
       "<table border=\"1\" class=\"dataframe\">\n",
       "  <thead>\n",
       "    <tr style=\"text-align: right;\">\n",
       "      <th></th>\n",
       "      <th>Name</th>\n",
       "      <th>Age</th>\n",
       "      <th>Gender</th>\n",
       "      <th>haha</th>\n",
       "    </tr>\n",
       "  </thead>\n",
       "  <tbody>\n",
       "    <tr>\n",
       "      <th>0</th>\n",
       "      <td>John</td>\n",
       "      <td>25.0</td>\n",
       "      <td>M</td>\n",
       "      <td>NaN</td>\n",
       "    </tr>\n",
       "    <tr>\n",
       "      <th>1</th>\n",
       "      <td>NaN</td>\n",
       "      <td>NaN</td>\n",
       "      <td>NaN</td>\n",
       "      <td>hahaha</td>\n",
       "    </tr>\n",
       "  </tbody>\n",
       "</table>\n",
       "</div>"
      ],
      "text/plain": [
       "   Name   Age Gender    haha\n",
       "0  John  25.0      M     NaN\n",
       "1   NaN   NaN    NaN  hahaha"
      ]
     },
     "execution_count": 40,
     "metadata": {},
     "output_type": "execute_result"
    }
   ],
   "source": [
    "import pandas as pd\n",
    "\n",
    "# Step 1: Create an empty DataFrame\n",
    "df = pd.DataFrame()\n",
    "\n",
    "# Step 2: Create a dictionary with data\n",
    "data = {'Name': 'John', 'Age': 25, 'Gender': 'M'}\n",
    "\n",
    "data2 = {\"haha\": \"hahaha\"}\n",
    "\n",
    "# Step 3: Append the dictionary to the DataFrame\n",
    "# df.loc[df.index.max()+1] = data\n",
    "df = pd.concat([df, pd.DataFrame([data])], ignore_index=True)\n",
    "\n",
    "df = pd.concat([df, pd.DataFrame([data2])], ignore_index=True)\n",
    "\n",
    "# Step 4: Print the DataFrame\n",
    "df\n"
   ]
  },
  {
   "cell_type": "code",
   "execution_count": 43,
   "metadata": {},
   "outputs": [
    {
     "data": {
      "text/plain": [
       "{'Name': ['John', 'Alice', 'Bob'],\n",
       " 'Age': [25, 30, 35],\n",
       " 'Gender': ['M', 'F', 'M']}"
      ]
     },
     "execution_count": 43,
     "metadata": {},
     "output_type": "execute_result"
    }
   ],
   "source": [
    "test_data = {'Name': ['John', 'Alice', 'Bob'], 'Age': [25, 30, 35], 'Gender': ['M', 'F', 'M']}\n",
    "test_df = pd.DataFrame(test_data)\n",
    "\n",
    "test_dict = test_df.to_dict('list')\n",
    "\n",
    "test_dict"
   ]
  },
  {
   "cell_type": "code",
   "execution_count": 47,
   "metadata": {},
   "outputs": [
    {
     "data": {
      "text/plain": [
       "{'Name': array(['John', 25, 'M'], dtype=object),\n",
       " 'Age': array(['Alice', 30, 'F'], dtype=object),\n",
       " 'Gender': array(['Bob', 35, 'M'], dtype=object)}"
      ]
     },
     "execution_count": 47,
     "metadata": {},
     "output_type": "execute_result"
    }
   ],
   "source": [
    "dict(zip(test_df.columns, test_df.values))"
   ]
  },
  {
   "cell_type": "code",
   "execution_count": 48,
   "metadata": {},
   "outputs": [],
   "source": [
    "df = pd.DataFrame()"
   ]
  },
  {
   "cell_type": "code",
   "execution_count": 49,
   "metadata": {},
   "outputs": [],
   "source": [
    "data = {'mean': 0.6369300327025789, 'ci_upper': 0.6495752969052292, 'ci_lower': 0.6242847684999285}"
   ]
  },
  {
   "cell_type": "code",
   "execution_count": 50,
   "metadata": {},
   "outputs": [],
   "source": [
    "df = pd.concat([df, pd.DataFrame([data])], ignore_index=True)"
   ]
  },
  {
   "cell_type": "code",
   "execution_count": 52,
   "metadata": {},
   "outputs": [],
   "source": [
    "data2 = {'mean': 0.6391466805641031, 'ci_upper': 0.6519536001655934, 'ci_lower': 0.6263397609626127}"
   ]
  },
  {
   "cell_type": "code",
   "execution_count": 53,
   "metadata": {},
   "outputs": [],
   "source": [
    "df = pd.concat([df, pd.DataFrame([data2])], ignore_index=True)"
   ]
  },
  {
   "cell_type": "code",
   "execution_count": 57,
   "metadata": {},
   "outputs": [
    {
     "data": {
      "text/plain": [
       "{'mean': [0.6369300327025789, 0.6391466805641031],\n",
       " 'ci_upper': [0.6495752969052292, 0.6519536001655934],\n",
       " 'ci_lower': [0.6242847684999285, 0.6263397609626127]}"
      ]
     },
     "execution_count": 57,
     "metadata": {},
     "output_type": "execute_result"
    }
   ],
   "source": [
    "df.to_dict('list')"
   ]
  },
  {
   "cell_type": "code",
   "execution_count": 58,
   "metadata": {},
   "outputs": [],
   "source": [
    "def __convert_lists_to_arrays(input_dict):\n",
    "    \"\"\"\n",
    "    Convert all lists in a dictionary to NumPy arrays.\n",
    "\n",
    "    Args:\n",
    "    - input_dict (dict): Dictionary with lists as values.\n",
    "\n",
    "    Returns:\n",
    "    - dict: Dictionary with lists converted to NumPy arrays.\n",
    "    \"\"\"\n",
    "    output_dict = {}\n",
    "    for key, value in input_dict.items():\n",
    "        if isinstance(value, list):\n",
    "            output_dict[key] = np.array(value)\n",
    "        elif isinstance(value, dict):\n",
    "            output_dict[key] = __convert_lists_to_arrays(value)\n",
    "        else:\n",
    "            output_dict[key] = value\n",
    "    return output_dict"
   ]
  },
  {
   "cell_type": "code",
   "execution_count": 59,
   "metadata": {},
   "outputs": [
    {
     "data": {
      "text/plain": [
       "{'mean': array([0.63693003, 0.63914668]),\n",
       " 'ci_upper': array([0.6495753, 0.6519536]),\n",
       " 'ci_lower': array([0.62428477, 0.62633976])}"
      ]
     },
     "execution_count": 59,
     "metadata": {},
     "output_type": "execute_result"
    }
   ],
   "source": [
    "__convert_lists_to_arrays(df.to_dict('list'))"
   ]
  },
  {
   "cell_type": "code",
   "execution_count": 68,
   "metadata": {},
   "outputs": [],
   "source": [
    "x = np.arange(0, 10)"
   ]
  },
  {
   "cell_type": "code",
   "execution_count": 69,
   "metadata": {},
   "outputs": [],
   "source": [
    "time_steps = np.arange(1, 5)"
   ]
  },
  {
   "cell_type": "code",
   "execution_count": 71,
   "metadata": {},
   "outputs": [
    {
     "data": {
      "text/plain": [
       "(array([1, 2, 3, 4]), array([1, 2, 3, 4]))"
      ]
     },
     "execution_count": 71,
     "metadata": {},
     "output_type": "execute_result"
    }
   ],
   "source": [
    "x[1:5], time_steps"
   ]
  },
  {
   "cell_type": "code",
   "execution_count": 91,
   "metadata": {},
   "outputs": [],
   "source": [
    "class ContrastiveLoss(torch.nn.Module):\n",
    "    def __init__(self, margin=2.0):\n",
    "        super(ContrastiveLoss, self).__init__()\n",
    "        self.margin = margin\n",
    "\n",
    "    def forward(self, output1, output2, label):\n",
    "      # Calculate the euclidian distance and calculate the contrastive loss\n",
    "      euclidean_distance = F.pairwise_distance(output1, output2, keepdim = False)\n",
    "\n",
    "      loss_contrastive = torch.mean((1-label) * torch.pow(euclidean_distance, 2) +\n",
    "                                    (label) * torch.pow(torch.clamp(self.margin - euclidean_distance, min=0.0), 2))\n",
    "\n",
    "\n",
    "      return loss_contrastive"
   ]
  },
  {
   "cell_type": "code",
   "execution_count": 107,
   "metadata": {},
   "outputs": [],
   "source": [
    "ls = []\n",
    "ds = []\n",
    "l = ContrastiveLoss(1.5)"
   ]
  },
  {
   "cell_type": "code",
   "execution_count": 108,
   "metadata": {},
   "outputs": [],
   "source": [
    "for i in range(10000):\n",
    "    a = torch.randn(20, 16)\n",
    "    b = torch.randn(20, 16)\n",
    "    lab = torch.randint(0, 2, (20, ))\n",
    "    ls.append(l(a, b, lab).item())\n",
    "    ds.append((a.mean() - b.mean()).abs().item())"
   ]
  },
  {
   "cell_type": "code",
   "execution_count": 110,
   "metadata": {},
   "outputs": [
    {
     "data": {
      "text/plain": [
       "0.012055441496248896"
      ]
     },
     "execution_count": 110,
     "metadata": {},
     "output_type": "execute_result"
    }
   ],
   "source": [
    "from scipy.stats import pearsonr\n",
    "\n",
    "correlation, p_value = pearsonr(ls, ds)\n",
    "correlation\n"
   ]
  }
 ],
 "metadata": {
  "kernelspec": {
   "display_name": "lffl",
   "language": "python",
   "name": "python3"
  },
  "language_info": {
   "codemirror_mode": {
    "name": "ipython",
    "version": 3
   },
   "file_extension": ".py",
   "mimetype": "text/x-python",
   "name": "python",
   "nbconvert_exporter": "python",
   "pygments_lexer": "ipython3",
   "version": "3.11.5"
  }
 },
 "nbformat": 4,
 "nbformat_minor": 2
}

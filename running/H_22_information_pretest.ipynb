{
 "cells": [
  {
   "cell_type": "code",
   "execution_count": 23,
   "metadata": {},
   "outputs": [],
   "source": [
    "import torch\n",
    "from torch import nn\n",
    "from torch import optim\n",
    "from torch.utils.data import DataLoader, random_split\n",
    "import torchaudio\n",
    "import pandas as pd\n",
    "import numpy as np\n",
    "import matplotlib.pyplot as plt\n",
    "import random\n",
    "from torchinfo import summary\n",
    "import torch.nn.functional as F\n",
    "from torch.nn import init\n",
    "from H_10_models import SmallNetwork, MediumNetwork, LargeNetwork, ResLinearNetwork, LSTMNetwork\n",
    "from model_configs import ModelDimConfigs, TrainingConfigs\n",
    "from misc_tools import get_timestamp, ARPABET\n",
    "from model_dataset import DS_Tools, Padder, TokenMap, NormalizerKeepShape\n",
    "from model_dataset import SingleRecSelectBalanceDatasetPrecombine as ThisDataset\n",
    "from model_filter import XpassFilter\n",
    "from paths import *\n",
    "from ssd_paths import *\n",
    "from misc_progress_bar import draw_progress_bar\n",
    "from misc_recorder import *\n",
    "from H_11_drawer import draw_learning_curve_and_accuracy\n",
    "import argparse\n",
    "from H_21_stage import load_data"
   ]
  },
  {
   "cell_type": "code",
   "execution_count": 24,
   "metadata": {},
   "outputs": [],
   "source": [
    "model_save_dir = os.path.join(model_save_, \"H21-0324233831-1\")"
   ]
  },
  {
   "cell_type": "code",
   "execution_count": 25,
   "metadata": {},
   "outputs": [],
   "source": [
    "def load_data(type=\"f\", sel=\"full\", load=\"train\"):\n",
    "    if type == \"l\":\n",
    "        mytrans = nn.Sequential(\n",
    "            Padder(sample_rate=TrainingConfigs.REC_SAMPLE_RATE, pad_len_ms=250, noise_level=1e-4), \n",
    "            XpassFilter(cut_off_upper=500),\n",
    "            torchaudio.transforms.MelSpectrogram(TrainingConfigs.REC_SAMPLE_RATE, \n",
    "                                                n_mels=TrainingConfigs.N_MELS, \n",
    "                                                n_fft=TrainingConfigs.N_FFT, \n",
    "                                                power=2), \n",
    "            torchaudio.transforms.AmplitudeToDB(stype=\"power\", top_db=80), \n",
    "            NormalizerKeepShape(NormalizerKeepShape.norm_mvn)\n",
    "        )\n",
    "    elif type == \"h\": \n",
    "        mytrans = nn.Sequential(\n",
    "            Padder(sample_rate=TrainingConfigs.REC_SAMPLE_RATE, pad_len_ms=250, noise_level=1e-4), \n",
    "            XpassFilter(cut_off_upper=10000, cut_off_lower=4000),\n",
    "            torchaudio.transforms.MelSpectrogram(TrainingConfigs.REC_SAMPLE_RATE, \n",
    "                                                n_mels=TrainingConfigs.N_MELS, \n",
    "                                                n_fft=TrainingConfigs.N_FFT, \n",
    "                                                power=2), \n",
    "            torchaudio.transforms.AmplitudeToDB(stype=\"power\", top_db=80), \n",
    "            NormalizerKeepShape(NormalizerKeepShape.norm_mvn)\n",
    "        )\n",
    "    elif type == \"h2\": \n",
    "        mytrans = nn.Sequential(\n",
    "            Padder(sample_rate=TrainingConfigs.REC_SAMPLE_RATE, pad_len_ms=250, noise_level=1e-4), \n",
    "            XpassFilter(cut_off_upper=10000, cut_off_lower=3500),\n",
    "            torchaudio.transforms.MelSpectrogram(TrainingConfigs.REC_SAMPLE_RATE, \n",
    "                                                n_mels=TrainingConfigs.N_MELS, \n",
    "                                                n_fft=TrainingConfigs.N_FFT, \n",
    "                                                power=2), \n",
    "            torchaudio.transforms.AmplitudeToDB(stype=\"power\", top_db=80), \n",
    "            NormalizerKeepShape(NormalizerKeepShape.norm_mvn)\n",
    "        )\n",
    "    else: \n",
    "        mytrans = nn.Sequential(\n",
    "            Padder(sample_rate=TrainingConfigs.REC_SAMPLE_RATE, pad_len_ms=250, noise_level=1e-4), \n",
    "            torchaudio.transforms.MelSpectrogram(TrainingConfigs.REC_SAMPLE_RATE, \n",
    "                                                n_mels=TrainingConfigs.N_MELS, \n",
    "                                                n_fft=TrainingConfigs.N_FFT, \n",
    "                                                power=2), \n",
    "            torchaudio.transforms.AmplitudeToDB(stype=\"power\", top_db=80), \n",
    "            NormalizerKeepShape(NormalizerKeepShape.norm_mvn)\n",
    "        )\n",
    "    with open(os.path.join(src_, \"no-stress-seg.dict\"), \"rb\") as file:\n",
    "        # Load the object from the file\n",
    "        mylist = pickle.load(file)\n",
    "        mylist.remove('AH') # we don't include this, it is too mixed. \n",
    "\n",
    "    if sel == \"c\": \n",
    "        select = ARPABET.intersect_lists(mylist, ARPABET.list_consonants())\n",
    "    elif sel == \"v\":\n",
    "        select = ARPABET.intersect_lists(mylist, ARPABET.list_vowels())\n",
    "    else:\n",
    "        select = mylist\n",
    "    # Now you can use the loaded object\n",
    "    mymap = TokenMap(mylist)\n",
    "    if load == \"train\": \n",
    "        train_ds = ThisDataset(strain_cut_audio_, \n",
    "                            os.path.join(suse_, \"guide_train.csv\"), \n",
    "                            select=select, \n",
    "                            mapper=mymap, \n",
    "                            transform=mytrans)\n",
    "        \n",
    "        train_ds_indices = DS_Tools.read_indices(os.path.join(model_save_dir, f\"train_{sel}.use\"))\n",
    "        use_train_ds = torch.utils.data.Subset(train_ds, train_ds_indices)\n",
    "        train_loader = DataLoader(use_train_ds, batch_size=TrainingConfigs.BATCH_SIZE, \n",
    "                                shuffle=True, \n",
    "                                num_workers=TrainingConfigs.LOADER_WORKER)\n",
    "        \n",
    "        return train_loader\n",
    "    elif load == \"valid\":\n",
    "        valid_ds = ThisDataset(strain_cut_audio_, \n",
    "                            os.path.join(suse_, \"guide_validation.csv\"), \n",
    "                            select=select, \n",
    "                            mapper=mymap,\n",
    "                            transform=mytrans)\n",
    "        valid_ds_indices = DS_Tools.read_indices(os.path.join(model_save_dir, f\"valid_{sel}.use\"))\n",
    "        use_valid_ds = torch.utils.data.Subset(valid_ds, valid_ds_indices)\n",
    "        valid_loader = DataLoader(use_valid_ds, batch_size=TrainingConfigs.BATCH_SIZE, \n",
    "                                shuffle=False, \n",
    "                                num_workers=TrainingConfigs.LOADER_WORKER)\n",
    "        return valid_loader"
   ]
  },
  {
   "cell_type": "code",
   "execution_count": 26,
   "metadata": {},
   "outputs": [],
   "source": [
    "low_valid_loader = load_data(type=\"l\", sel=\"full\", load=\"valid\") # target \n",
    "high_valid_loader = load_data(type=\"h\", sel=\"full\", load=\"valid\")\n",
    "high2_valid_loader = load_data(type=\"h2\", sel=\"full\", load=\"valid\")"
   ]
  },
  {
   "cell_type": "code",
   "execution_count": 27,
   "metadata": {},
   "outputs": [],
   "source": [
    "low_data = np.empty((0, 21, 64))\n",
    "low_label = np.empty((0,))\n",
    "for idx, (x, y) in enumerate(low_valid_loader):\n",
    "    x = x.squeeze(1).permute(0, 2, 1)\n",
    "    x = x.numpy()\n",
    "    y = y.numpy()\n",
    "    low_data = np.concatenate((low_data, x), axis=0)\n",
    "    low_label = np.concatenate((low_label, y), axis=0)\n",
    "\n",
    "high_data = np.empty((0, 21, 64))\n",
    "high_label = np.empty((0,))\n",
    "for idx, (x, y) in enumerate(high_valid_loader):\n",
    "    x = x.squeeze(1).permute(0, 2, 1)\n",
    "    x = x.numpy()\n",
    "    y = y.numpy()\n",
    "    high_data = np.concatenate((high_data, x), axis=0)\n",
    "    high_label = np.concatenate((high_label, y), axis=0)\n",
    "\n",
    "high2_data = np.empty((0, 21, 64))\n",
    "high2_label = np.empty((0,))\n",
    "for idx, (x, y) in enumerate(high2_valid_loader):\n",
    "    x = x.squeeze(1).permute(0, 2, 1)\n",
    "    x = x.numpy()\n",
    "    y = y.numpy()\n",
    "    high2_data = np.concatenate((high2_data, x), axis=0)\n",
    "    high2_label = np.concatenate((high2_label, y), axis=0)"
   ]
  },
  {
   "cell_type": "markdown",
   "metadata": {},
   "source": [
    "# PCA test"
   ]
  },
  {
   "cell_type": "code",
   "execution_count": 28,
   "metadata": {},
   "outputs": [],
   "source": [
    "import os\n",
    "import time\n",
    "from sklearn.cluster import KMeans\n",
    "from sklearn.decomposition import PCA\n",
    "from sklearn.metrics import silhouette_score, adjusted_rand_score\n",
    "from sklearn.pipeline import Pipeline\n",
    "from sklearn.preprocessing import LabelEncoder\n",
    "import numpy as np\n",
    "import matplotlib.pyplot as plt"
   ]
  },
  {
   "cell_type": "code",
   "execution_count": 29,
   "metadata": {},
   "outputs": [],
   "source": [
    "low_data_in = low_data.reshape(-1, low_data.shape[-1])\n",
    "high_data_in = high_data.reshape(-1, high_data.shape[-1])\n",
    "high2_data_in = high2_data.reshape(-1, high2_data.shape[-1])"
   ]
  },
  {
   "cell_type": "code",
   "execution_count": 30,
   "metadata": {},
   "outputs": [],
   "source": [
    "def cluster_(data: np.ndarray, n_dim):\n",
    "    pca = PCA(n_components=n_dim, random_state=42)\n",
    "    pca.fit(data)\n",
    "    # Calculate cumulative explained variance\n",
    "    cev = np.cumsum(pca.explained_variance_ratio_)\n",
    "    return cev\n",
    "\n",
    "def analyze_variance_explained(cev):\n",
    "    \"\"\"\n",
    "    Analyzes the cumulative explained variance and plots it.\n",
    "\n",
    "    Args:\n",
    "        cev (numpy.ndarray): Array of cumulative explained variance ratios.\n",
    "\n",
    "    Returns:\n",
    "        record (dict): min, max cev values and max component that cover 0.8,0.9,0.95,0.99 0f the variance\n",
    "    \"\"\"\n",
    "    num_components = len(cev)\n",
    "\n",
    "    # Plotting the cumulative explained variance\n",
    "    plt.plot(range(1, num_components + 1), cev, marker='o')\n",
    "    plt.xlabel('Number of Principal Components')\n",
    "    plt.ylabel('Cumulative Explained Variance')\n",
    "    plt.title('Cumulative Explained Variance vs. Number of Principal Components')\n",
    "    plt.grid(True)\n",
    "    plt.show()\n",
    "\n",
    "    # Threshold analysis\n",
    "    thresholds = [0.8, 0.9, 0.95, 0.99]  # Set desired threshold values\n",
    "    thresholds_cev = []\n",
    "    print(f\"Min CEV: {np.min(cev)}\\nMax CEV: {np.max(cev)}\")\n",
    "    for threshold in thresholds:\n",
    "        num_components_threshold = np.argmax(cev >= threshold)\n",
    "        num_components_threshold = num_components_threshold + 1 if num_components_threshold > 0 else None\n",
    "        thresholds_cev.append(num_components_threshold)\n",
    "        print(f\"Number of components to explain {threshold * 100}% of variance: {num_components_threshold}\")\n",
    "    record = dict(zip(thresholds, thresholds_cev))\n",
    "    record['min'] = np.min(cev)\n",
    "    record['max'] = np.max(cev)\n",
    "    return record"
   ]
  },
  {
   "cell_type": "code",
   "execution_count": 31,
   "metadata": {},
   "outputs": [],
   "source": [
    "low_cev = cluster_(low_data_in, 64)\n",
    "high_cev = cluster_(high_data_in, 64)\n",
    "high2_cev = cluster_(high2_data_in, 64)"
   ]
  },
  {
   "cell_type": "code",
   "execution_count": 34,
   "metadata": {},
   "outputs": [
    {
     "data": {
      "image/png": "[encoded data removed]",
      "text/plain": [
       "<Figure size 640x480 with 1 Axes>"
      ]
     },
     "metadata": {},
     "output_type": "display_data"
    }
   ],
   "source": [
    "num_components = len(low_cev)\n",
    "until = 20\n",
    "# Plotting the cumulative explained variance\n",
    "plt.plot(range(1, until + 1), low_cev[:until], marker='o')\n",
    "plt.plot(range(1, until + 1), high_cev[:until], marker='x')\n",
    "plt.plot(range(1, until + 1), high2_cev[:until], marker='s')\n",
    "# plt.legend()\n",
    "plt.xlabel('Number of Principal Components')\n",
    "plt.ylabel('Cumulative Explained Variance')\n",
    "plt.title('Cumulative Explained Variance vs. Number of Principal Components')\n",
    "plt.grid(True)\n",
    "plt.show()"
   ]
  },
  {
   "cell_type": "markdown",
   "metadata": {},
   "source": [
    "# Clustering"
   ]
  },
  {
   "cell_type": "code",
   "execution_count": 35,
   "metadata": {},
   "outputs": [],
   "source": [
    "def cluster_cluster(data: np.ndarray, labels:list, n_clusters, n_init=\"auto\", max_iter=100):\n",
    "    '''\n",
    "    This will perform pca+k-menas clustering, return predicted labels and evaluations.\n",
    "    :param data: Preprocessed data\n",
    "    :param labels: true labels\n",
    "    :param n_dim: for pca\n",
    "    :param n_clusters: for k-means\n",
    "    :param n_init: \"auto\" or 10-30\n",
    "    :param max_iter: 100-300\n",
    "    :return: predicted_labels, evaluations\n",
    "    '''\n",
    "    st = time.time()\n",
    "    # if data have >2 dimensions, reshape data. This is necessary for PCA.\n",
    "    if data[0].ndim > 1:\n",
    "        data = data.reshape(data.shape[0], -1)\n",
    "\n",
    "    # convert label to integers\n",
    "    label_encoder = LabelEncoder()\n",
    "    true_labels = label_encoder.fit_transform(labels)\n",
    "    n_clusters = len(label_encoder.classes_)\n",
    "\n",
    "    # k-means clustering pipeline\n",
    "    pipe = Pipeline(\n",
    "        [\n",
    "            (\n",
    "                \"kmeans\",\n",
    "                KMeans(\n",
    "                    n_clusters=n_clusters,\n",
    "                    # \"random\" is default, \"k-means++\" is advanced\n",
    "                    init=\"k-means++\",\n",
    "                    # commonly 10-20\n",
    "                    n_init=n_init,\n",
    "                    # commonly ~300\n",
    "                    max_iter=max_iter,\n",
    "                    # always initialize centroid in the same way\n",
    "                    random_state=37,\n",
    "                ),\n",
    "            ),\n",
    "        ]\n",
    "    )\n",
    "\n",
    "    pipe.fit(data)\n",
    "    # evaluate video data performance with silhouette coefficient\n",
    "    predicted_data_labels = pipe[\"kmeans\"].labels_\n",
    "    data_silhouettesc = silhouette_score(data, predicted_data_labels)\n",
    "\n",
    "    # evaluate video performance with ari\n",
    "    data_adjustrandsc = adjusted_rand_score(true_labels, predicted_data_labels)\n",
    "    # Use inverse_transform to convert the predicted labels back to the original labels\n",
    "    predicted_original_labels = label_encoder.inverse_transform(predicted_data_labels)\n",
    "    et = time.time()\n",
    "    elapsed_time = et - st\n",
    "\n",
    "    return predicted_original_labels, {\n",
    "                                       \"silhouette_score\": data_silhouettesc,\n",
    "                                       \"adjusted_rand_score\": data_adjustrandsc,\n",
    "                                       \"elapsed_time\": elapsed_time}"
   ]
  },
  {
   "cell_type": "code",
   "execution_count": 36,
   "metadata": {},
   "outputs": [],
   "source": [
    "low_pol, low_resdict = cluster_cluster(low_data, low_label, 37)\n",
    "high_pol, high_resdict = cluster_cluster(high_data, high_label, 37)\n",
    "high2_pol, high2_resdict = cluster_cluster(high2_data, high2_label, 37)"
   ]
  },
  {
   "cell_type": "code",
   "execution_count": 37,
   "metadata": {},
   "outputs": [
    {
     "data": {
      "text/plain": [
       "({'silhouette_score': 0.12031570239753375,\n",
       "  'adjusted_rand_score': 0.009117523428570801,\n",
       "  'elapsed_time': 0.40820956230163574},\n",
       " {'silhouette_score': 0.07332958578144944,\n",
       "  'adjusted_rand_score': 0.013937118160022374,\n",
       "  'elapsed_time': 0.28058409690856934},\n",
       " {'silhouette_score': 0.06972149970684542,\n",
       "  'adjusted_rand_score': 0.015759717044189846,\n",
       "  'elapsed_time': 0.28670501708984375})"
      ]
     },
     "execution_count": 37,
     "metadata": {},
     "output_type": "execute_result"
    }
   ],
   "source": [
    "low_resdict, high_resdict, high2_resdict"
   ]
  },
  {
   "cell_type": "markdown",
   "metadata": {},
   "source": [
    "## MI"
   ]
  },
  {
   "cell_type": "code",
   "execution_count": 40,
   "metadata": {},
   "outputs": [],
   "source": [
    "import numpy as np \n",
    "from sklearn.decomposition import PCA \n",
    "from sklearn.feature_selection import mutual_info_classif \n",
    "from sklearn.preprocessing import StandardScaler \n",
    "\n",
    "def mi_eval(X, y, pca_dim=None): \n",
    "    # Flatten spectrograms \n",
    "    num_samples, length, freq_bins = X.shape \n",
    "    X_flat = X.reshape(num_samples, length * freq_bins)\n",
    "\n",
    "    # Standardize features \n",
    "    scaler = StandardScaler() \n",
    "    X_scaled = scaler.fit_transform(X_flat)\n",
    "\n",
    "    # Dimensionality Reduction with PCA \n",
    "    if pca_dim: \n",
    "        pca = PCA(n_components=pca_dim, random_state=42)\n",
    "        X_reduced = pca.fit_transform(X_scaled)\n",
    "    else: \n",
    "        X_reduced = X_scaled\n",
    "\n",
    "    # Mutual Information Estimation \n",
    "    mi = mutual_info_classif(X_reduced, y, discrete_features=False, random_state=42) \n",
    "    total_mi = np.sum(mi)\n",
    "\n",
    "    # Optional: Normalize MI by number of features\n",
    "    normalized_mi = total_mi / X_reduced.shape[1]\n",
    "\n",
    "    return normalized_mi"
   ]
  },
  {
   "cell_type": "code",
   "execution_count": 39,
   "metadata": {},
   "outputs": [
    {
     "data": {
      "text/plain": [
       "(0.10619495196372851, 0.1702494188030854, 0.17275761651002006)"
      ]
     },
     "execution_count": 39,
     "metadata": {},
     "output_type": "execute_result"
    }
   ],
   "source": [
    "mi_eval(low_data, low_label), mi_eval(high_data, high_label), mi_eval(high2_data, high2_label)"
   ]
  },
  {
   "cell_type": "code",
   "execution_count": 44,
   "metadata": {},
   "outputs": [
    {
     "data": {
      "text/plain": [
       "(0.05620600575135999, 0.053463135853673016, 0.0761268630216243)"
      ]
     },
     "execution_count": 44,
     "metadata": {},
     "output_type": "execute_result"
    }
   ],
   "source": [
    "# PCA 20\n",
    "pca_dim = 10\n",
    "mi_eval(low_data, low_label, pca_dim=pca_dim), mi_eval(high_data, high_label, pca_dim=pca_dim), mi_eval(high2_data, high2_label, pca_dim=pca_dim)"
   ]
  },
  {
   "cell_type": "markdown",
   "metadata": {},
   "source": [
    "# Conclusion\n",
    "From CEV plot, I think the variation between the two datasets are not very different. We may not worry about this. "
   ]
  }
 ],
 "metadata": {
  "kernelspec": {
   "display_name": "lffl",
   "language": "python",
   "name": "python3"
  },
  "language_info": {
   "codemirror_mode": {
    "name": "ipython",
    "version": 3
   },
   "file_extension": ".py",
   "mimetype": "text/x-python",
   "name": "python",
   "nbconvert_exporter": "python",
   "pygments_lexer": "ipython3",
   "version": "3.11.5"
  }
 },
 "nbformat": 4,
 "nbformat_minor": 2
}

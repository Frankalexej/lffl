{
 "cells": [
  {
   "cell_type": "code",
   "execution_count": 1,
   "metadata": {},
   "outputs": [],
   "source": [
    "import torch"
   ]
  },
  {
   "cell_type": "code",
   "execution_count": 5,
   "metadata": {},
   "outputs": [
    {
     "data": {
      "text/plain": [
       "tensor([[-1.0834, -1.1974, -0.3869, -0.8628],\n",
       "        [ 0.9845, -0.6917,  0.6662, -0.9250],\n",
       "        [ 0.1491,  0.8020,  0.5209,  0.4918]])"
      ]
     },
     "execution_count": 5,
     "metadata": {},
     "output_type": "execute_result"
    }
   ],
   "source": [
    "mel_spec = torch.randn(3, 4)\n",
    "mel_spec"
   ]
  },
  {
   "cell_type": "code",
   "execution_count": 12,
   "metadata": {},
   "outputs": [
    {
     "data": {
      "text/plain": [
       "tensor([[0.0000, 0.0000, 0.0000, 0.0440],\n",
       "        [1.0000, 0.2529, 1.0000, 0.0000],\n",
       "        [0.5960, 1.0000, 0.8620, 1.0000]])"
      ]
     },
     "execution_count": 12,
     "metadata": {},
     "output_type": "execute_result"
    }
   ],
   "source": [
    "min_val = mel_spec.min(0, keepdim=True)[0]\n",
    "max_val = mel_spec.max(0, keepdim=True)[0]\n",
    "norm_spec = (mel_spec - min_val) / (max_val - min_val)\n",
    "norm_spec"
   ]
  }
 ],
 "metadata": {
  "kernelspec": {
   "display_name": "lffl",
   "language": "python",
   "name": "python3"
  },
  "language_info": {
   "codemirror_mode": {
    "name": "ipython",
    "version": 3
   },
   "file_extension": ".py",
   "mimetype": "text/x-python",
   "name": "python",
   "nbconvert_exporter": "python",
   "pygments_lexer": "ipython3",
   "version": "3.11.5"
  }
 },
 "nbformat": 4,
 "nbformat_minor": 2
}

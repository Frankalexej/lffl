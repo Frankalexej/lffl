{
 "cells": [
  {
   "cell_type": "markdown",
   "metadata": {},
   "source": [
    "# Model Run\n",
    "Version 1: linear  \n",
    "Version 2: CNN (Sound directly)  \n",
    "Version 3: CNN (Mel)"
   ]
  },
  {
   "cell_type": "markdown",
   "metadata": {},
   "source": [
    "## Import Libs"
   ]
  },
  {
   "cell_type": "code",
   "execution_count": 1,
   "metadata": {},
   "outputs": [],
   "source": [
    "import torch\n",
    "from torch import nn\n",
    "from torch import optim\n",
    "from torch.utils.data import DataLoader, random_split\n",
    "import torchaudio\n",
    "import pandas as pd\n",
    "import numpy as np\n",
    "import matplotlib.pyplot as plt\n",
    "import random\n",
    "from torchinfo import summary\n",
    "import torch.nn.functional as F\n",
    "from torch.nn import init\n",
    "\n",
    "\n",
    "from model_model import SelfPackLSTM\n",
    "from model_configs import ModelDimConfigs, TrainingConfigs\n",
    "from misc_tools import get_timestamp\n",
    "from model_dataset import DS_Tools\n",
    "from model_dataset import SingleRecDataset as ThisDataset\n",
    "from model_filter import XpassFilter\n",
    "from paths import *\n",
    "from ssd_paths import *\n",
    "from misc_progress_bar import draw_progress_bar\n",
    "from misc_recorder import *"
   ]
  },
  {
   "cell_type": "markdown",
   "metadata": {},
   "source": [
    "## Configure READ"
   ]
  },
  {
   "cell_type": "code",
   "execution_count": 2,
   "metadata": {},
   "outputs": [],
   "source": [
    "READ = False"
   ]
  },
  {
   "cell_type": "markdown",
   "metadata": {},
   "source": [
    "## Get Timestamp"
   ]
  },
  {
   "cell_type": "code",
   "execution_count": 3,
   "metadata": {},
   "outputs": [
    {
     "name": "stdout",
     "output_type": "stream",
     "text": [
      "judge-original-1127184507\n"
     ]
    }
   ],
   "source": [
    "if READ: \n",
    "    ts = \"\"\n",
    "else: \n",
    "    ts = str(get_timestamp())\n",
    "    # ts = \"1127150643\"\n",
    "\n",
    "train_name = \"judge-original\"\n",
    "model_save_dir = os.path.join(model_save_, f\"{train_name}-{ts}\")\n",
    "print(f\"{train_name}-{ts}\")\n",
    "mk(model_save_dir)"
   ]
  },
  {
   "cell_type": "code",
   "execution_count": 4,
   "metadata": {},
   "outputs": [],
   "source": [
    "stop_epoch = \"149\"\n",
    "save_trainhist_name = \"train.hst\"\n",
    "save_valhist_name = \"val.hst\"\n",
    "save_valacc_name = \"valacc.hst\"\n",
    "save_trainacc_name = \"trainacc.hst\""
   ]
  },
  {
   "cell_type": "markdown",
   "metadata": {},
   "source": [
    "## Prepare Loss Recording"
   ]
  },
  {
   "cell_type": "code",
   "execution_count": 5,
   "metadata": {},
   "outputs": [],
   "source": [
    "train_losses = ListRecorder(os.path.join(model_save_dir, save_trainhist_name))\n",
    "valid_losses = ListRecorder(os.path.join(model_save_dir, save_valhist_name))\n",
    "\n",
    "valid_accs = ListRecorder(os.path.join(model_save_dir, save_valacc_name))\n",
    "train_accs = ListRecorder(os.path.join(model_save_dir, save_trainacc_name))"
   ]
  },
  {
   "cell_type": "markdown",
   "metadata": {},
   "source": [
    "## Prepare Dataset"
   ]
  },
  {
   "cell_type": "code",
   "execution_count": 6,
   "metadata": {},
   "outputs": [],
   "source": [
    "def pad_trunc(aud, max_ms):\n",
    "    sig, sr = aud\n",
    "    num_rows, sig_len = sig.shape\n",
    "    max_len = sr//1000 * max_ms\n",
    "\n",
    "    if (sig_len > max_len):\n",
    "        # Truncate the signal to the given length\n",
    "        sig = sig[:,:max_len]\n",
    "\n",
    "    elif (sig_len < max_len):\n",
    "        # Length of padding to add at the beginning and end of the signal\n",
    "        pad_begin_len = random.randint(0, max_len - sig_len)\n",
    "        pad_end_len = max_len - sig_len - pad_begin_len\n",
    "\n",
    "        # Pad with 0s\n",
    "        pad_begin = torch.zeros((num_rows, pad_begin_len))\n",
    "        pad_end = torch.zeros((num_rows, pad_end_len))\n",
    "\n",
    "        sig = torch.cat((pad_begin, sig, pad_end), 1)\n",
    "        \n",
    "    return (sig, sr)"
   ]
  },
  {
   "cell_type": "code",
   "execution_count": 7,
   "metadata": {},
   "outputs": [],
   "source": [
    "class MelSpecTransform(nn.Module): \n",
    "    def __init__(self, sample_rate, n_fft=400, n_mels=64, filter=None, norm=None, padder=None, padded_length_ms=250): \n",
    "        super().__init__()\n",
    "        self.sample_rate = sample_rate\n",
    "        n_stft = int((n_fft//2) + 1)\n",
    "        self.filter = filter\n",
    "        self.transform = torchaudio.transforms.MelSpectrogram(sample_rate, n_mels=n_mels, n_fft=n_fft, power=2)\n",
    "        self.amp_to_db = torchaudio.transforms.AmplitudeToDB(stype=\"power\", top_db=80)\n",
    "        # self.inverse_mel = torchaudio.transforms.InverseMelScale(sample_rate=sample_rate, n_mels=n_mels, n_stft=n_stft)\n",
    "        # self.grifflim = torchaudio.transforms.GriffinLim(n_fft=n_fft)\n",
    "        self.norm = norm\n",
    "        self.padder = padder\n",
    "        self.padded_length_ms = padded_length_ms\n",
    "    \n",
    "    def forward(self, waveform):\n",
    "        # transform to mel_spectrogram\n",
    "        if self.filter: \n",
    "            waveform = self.filter(waveform, self.sample_rate)\n",
    "        \n",
    "        if self.padder:\n",
    "            waveform, sr = self.padder((waveform, self.sample_rate), self.padded_length_ms)\n",
    "\n",
    "        mel_spec = self.transform(waveform)  # (channel, n_mels, time)\n",
    "        # mel_spec = mel_spec.squeeze()\n",
    "        # mel_spec = mel_spec.permute(1, 0) # (F, L) -> (L, F)\n",
    "\n",
    "        # mel_spec = torch.log(mel_spec + 1e-9)   # 20231121 newly added log\n",
    "        mel_spec = self.amp_to_db(mel_spec)\n",
    "        if self.norm: \n",
    "            mel_spec = self.norm(mel_spec)\n",
    "\n",
    "        return mel_spec\n",
    "\n",
    "class Normalizer: \n",
    "    @staticmethod\n",
    "    def norm_strip_mvn(mel_spec):\n",
    "        eps = 1e-9\n",
    "        mean = mel_spec.mean(1, keepdim=True)\n",
    "        std = mel_spec.std(1, keepdim=True, unbiased=False)\n",
    "        norm_spec = (mel_spec - mean) / (std + eps)\n",
    "        return norm_spec\n",
    "\n",
    "    @staticmethod\n",
    "    def norm_mvn(mel_spec):\n",
    "        eps = 1e-9\n",
    "        mean = mel_spec.mean()\n",
    "        std = mel_spec.std(unbiased=False)\n",
    "        norm_spec = (mel_spec - mean) / (std + eps)\n",
    "        return norm_spec\n",
    "    \n",
    "    @staticmethod\n",
    "    def norm_time_mvn(mel_spec):\n",
    "        eps = 1e-9\n",
    "        mean = mel_spec.mean(2, keepdim=True)\n",
    "        std = mel_spec.std(2, keepdim=True, unbiased=False)\n",
    "        norm_spec = (mel_spec - mean) / (std + eps)\n",
    "        return norm_spec\n",
    "\n",
    "    @staticmethod\n",
    "    def norm_minmax(mel_spec):\n",
    "        min_val = mel_spec.min()\n",
    "        max_val = mel_spec.max()\n",
    "        norm_spec = (mel_spec - min_val) / (max_val - min_val)\n",
    "        return norm_spec\n",
    "    \n",
    "    @staticmethod\n",
    "    def norm_strip_minmax(mel_spec):\n",
    "        min_val = mel_spec.min(1, keepdim=True)[0]\n",
    "        max_val = mel_spec.max(1, keepdim=True)[0]\n",
    "        norm_spec = (mel_spec - min_val) / (max_val - min_val)\n",
    "        return norm_spec\n",
    "    \n",
    "    @staticmethod\n",
    "    def norm_pcen(mel_spec):\n",
    "        return mel_spec"
   ]
  },
  {
   "cell_type": "code",
   "execution_count": 8,
   "metadata": {},
   "outputs": [],
   "source": [
    "mytrans = MelSpecTransform(sample_rate=TrainingConfigs.REC_SAMPLE_RATE, \n",
    "                            n_fft=TrainingConfigs.N_FFT, \n",
    "                            n_mels=TrainingConfigs.N_MELS, \n",
    "                            norm=Normalizer.norm_minmax, \n",
    "                            padder=pad_trunc, padded_length_ms=250)\n",
    "# mytrans = MFCCTransform(sample_rate=TrainingConfigs.REC_SAMPLE_RATE, n_mfcc=TrainingConfigs.N_MFCC, normalizer=Normalizer.norm_strip_mvn)\n",
    "# mytrans = OnlyPadTransform(sample_rate=TrainingConfigs.REC_SAMPLE_RATE, padder=pad_trunc, padded_length_ms=250)\n",
    "ds = ThisDataset(strain_cut_audio_, os.path.join(ssrc_, \"guide_mod.csv\"), transform=mytrans)\n",
    "\n",
    "if not READ: \n",
    "    use_len = int(0.1 * len(ds))\n",
    "    remain_len = len(ds) - use_len\n",
    "    use_ds, remain_ds = random_split(ds, [use_len, remain_len])\n",
    "\n",
    "    train_len = int(0.8 * len(use_ds))\n",
    "    valid_len = len(use_ds) - train_len\n",
    "\n",
    "    # Randomly split the dataset into train and validation sets\n",
    "    train_ds, valid_ds = random_split(use_ds, [train_len, valid_len])\n",
    "\n",
    "    # NOTE: we don't need to save the cut-small subset, because after cutting-small, \n",
    "    # the saved train and valid separations will reflect this\n",
    "    DS_Tools.save_indices(os.path.join(model_save_dir, \"train.data\"), train_ds.indices)\n",
    "    DS_Tools.save_indices(os.path.join(model_save_dir, \"valid.data\"), valid_ds.indices)\n",
    "else: \n",
    "    train_ds_indices = DS_Tools.read_indices(os.path.join(model_save_dir, \"train.data\"))\n",
    "    valid_ds_indices = DS_Tools.read_indices(os.path.join(model_save_dir, \"valid.data\"))\n",
    "\n",
    "    train_ds = torch.utils.data.Subset(ds, train_ds_indices)\n",
    "    valid_ds = torch.utils.data.Subset(ds, valid_ds_indices)\n",
    "\n",
    "train_loader = DataLoader(train_ds, batch_size=TrainingConfigs.BATCH_SIZE, \n",
    "                          shuffle=True, \n",
    "                          num_workers=TrainingConfigs.LOADER_WORKER)\n",
    "train_num = len(train_loader.dataset)\n",
    "\n",
    "valid_loader = DataLoader(valid_ds, batch_size=TrainingConfigs.BATCH_SIZE, \n",
    "                          shuffle=False, \n",
    "                          num_workers=TrainingConfigs.LOADER_WORKER)\n",
    "valid_num = len(valid_loader.dataset)"
   ]
  },
  {
   "cell_type": "code",
   "execution_count": 9,
   "metadata": {},
   "outputs": [
    {
     "data": {
      "text/plain": [
       "(279544, 69886, 39)"
      ]
     },
     "execution_count": 9,
     "metadata": {},
     "output_type": "execute_result"
    }
   ],
   "source": [
    "train_num, valid_num, ds.mapper.token_num()"
   ]
  },
  {
   "cell_type": "code",
   "execution_count": 10,
   "metadata": {},
   "outputs": [],
   "source": [
    "# Load sample data from train_loader\n",
    "sample_data = next(iter(valid_loader))\n",
    "xx_pad, seg = sample_data"
   ]
  },
  {
   "cell_type": "code",
   "execution_count": 12,
   "metadata": {},
   "outputs": [
    {
     "data": {
      "image/png": "[encoded data removed]",
      "text/plain": [
       "<Figure size 1200x800 with 7 Axes>"
      ]
     },
     "metadata": {},
     "output_type": "display_data"
    }
   ],
   "source": [
    "# Set the random seed for reproducibility\n",
    "# random.seed(101)\n",
    "# Generate six random indices\n",
    "random_indices = random.sample(range(len(xx_pad)), 6)\n",
    "\n",
    "# Plot the spectrograms and mark the corresponding seg\n",
    "fig, axes = plt.subplots(2, 3, figsize=(12, 8))\n",
    "axes = axes.flatten()\n",
    "\n",
    "for i, idx in enumerate(random_indices):\n",
    "    spectrogram = xx_pad[idx]\n",
    "    segment = seg[idx]\n",
    "    \n",
    "    ax = axes[i]\n",
    "    img = ax.imshow(spectrogram[0], aspect='auto', origin=\"lower\")\n",
    "    # ax.axvline(x=segment, color='red', linestyle='--')\n",
    "    # ax.axvline(x=segment[1], color='red', linestyle='--')\n",
    "    ax.set_title(f'Spectrogram {segment}')\n",
    "    ax.set_xlabel('Time')\n",
    "    ax.set_ylabel('Frequency')\n",
    "plt.tight_layout()\n",
    "plt.colorbar(img,ax=axes)\n",
    "plt.show()"
   ]
  },
  {
   "cell_type": "markdown",
   "metadata": {},
   "source": [
    "## Init Model"
   ]
  },
  {
   "cell_type": "code",
   "execution_count": 83,
   "metadata": {},
   "outputs": [],
   "source": [
    "# class JudgeNetwork(nn.Module):\n",
    "#     def __init__(self, dimconf:ModelDimConfigs):\n",
    "#         super().__init__()\n",
    "#         conv_layers = []\n",
    "\n",
    "#         self.conv1 = nn.Conv2d(1, 8, kernel_size=(5, 5), stride=(2, 2), padding=(2, 2))\n",
    "#         self.relu1 = nn.ReLU()\n",
    "#         self.bn1 = nn.BatchNorm2d(8)\n",
    "#         init.kaiming_normal_(self.conv1.weight, a=0.1)\n",
    "#         self.conv1.bias.data.zero_()\n",
    "#         conv_layers += [self.conv1, self.relu1, self.bn1]\n",
    "\n",
    "#         # Adjust the other convolutional blocks accordingly\n",
    "\n",
    "#         self.conv2 = nn.Conv2d(8, 16, kernel_size=(3, 3), stride=(2, 2), padding=(1, 1))\n",
    "#         self.relu2 = nn.ReLU()\n",
    "#         self.bn2 = nn.BatchNorm2d(16)\n",
    "#         init.kaiming_normal_(self.conv2.weight, a=0.1)\n",
    "#         self.conv2.bias.data.zero_()\n",
    "#         conv_layers += [self.conv2, self.relu2, self.bn2]\n",
    "\n",
    "#         # Adjust the other convolutional blocks accordingly\n",
    "\n",
    "#         self.conv3 = nn.Conv2d(16, 32, kernel_size=(3, 3), stride=(2, 2), padding=(1, 1))\n",
    "#         self.relu3 = nn.ReLU()\n",
    "#         self.bn3 = nn.BatchNorm2d(32)\n",
    "#         init.kaiming_normal_(self.conv3.weight, a=0.1)\n",
    "#         self.conv3.bias.data.zero_()\n",
    "#         conv_layers += [self.conv3, self.relu3, self.bn3]\n",
    "\n",
    "#         self.conv4 = nn.Conv2d(32, 64, kernel_size=(3, 3), stride=(2, 2), padding=(1, 1))\n",
    "#         self.relu4 = nn.ReLU()\n",
    "#         self.bn4 = nn.BatchNorm2d(64)\n",
    "#         init.kaiming_normal_(self.conv4.weight, a=0.1)\n",
    "#         self.conv4.bias.data.zero_()\n",
    "#         conv_layers += [self.conv4, self.relu4, self.bn4]\n",
    "\n",
    "#         self.ap = nn.AdaptiveAvgPool2d(output_size=1)\n",
    "#         self.lin = nn.Linear(in_features=64, out_features=39)\n",
    "\n",
    "#         self.conv = nn.Sequential(*conv_layers)\n",
    "\n",
    "#     def forward(self, x):\n",
    "#         x = self.conv(x)\n",
    "#         x = self.ap(x)\n",
    "#         x = x.view(x.shape[0], -1)\n",
    "#         x = self.lin(x)\n",
    "#         return x\n",
    "\n",
    "#     def predict_on_output(self, output): \n",
    "#         output = nn.Softmax(dim=1)(output)\n",
    "#         preds = torch.argmax(output, dim=1)\n",
    "#         return preds"
   ]
  },
  {
   "cell_type": "code",
   "execution_count": 108,
   "metadata": {},
   "outputs": [],
   "source": [
    "# ti = torch.rand((16, 1, 64, 21))\n",
    "#             nn.Conv2d(64, 256, kernel_size=(3, 3), stride=1), \n",
    "#             nn.ReLU(), \n",
    "#             nn.BatchNorm2d(256), \n",
    "#             nn.MaxPool2d(kernel_size=2),  "
   ]
  },
  {
   "cell_type": "code",
   "execution_count": 115,
   "metadata": {},
   "outputs": [
    {
     "data": {
      "text/plain": [
       "torch.Size([16, 256, 8, 2])"
      ]
     },
     "execution_count": 115,
     "metadata": {},
     "output_type": "execute_result"
    }
   ],
   "source": [
    "# nn.Sequential(\n",
    "#             nn.Conv2d(1, 16, kernel_size=7, stride=1, padding=3), \n",
    "#             nn.ReLU(), \n",
    "#             nn.BatchNorm2d(16), \n",
    "#             nn.MaxPool2d(kernel_size=2, stride=2), \n",
    "#             nn.Conv2d(16, 64, kernel_size=5, stride=1, padding=2), \n",
    "#             nn.ReLU(), \n",
    "#             nn.BatchNorm2d(64), \n",
    "#             nn.MaxPool2d(kernel_size=2, stride=2), \n",
    "#             nn.Conv2d(64, 256, kernel_size=3, stride=1, padding=1), \n",
    "#             nn.ReLU(), \n",
    "#             nn.BatchNorm2d(256), \n",
    "#             nn.MaxPool2d(kernel_size=2, stride=2)\n",
    "#         )(ti).shape"
   ]
  },
  {
   "cell_type": "code",
   "execution_count": 13,
   "metadata": {},
   "outputs": [],
   "source": [
    "class JudgeNetwork(nn.Module):\n",
    "    def __init__(self, dimconf:ModelDimConfigs):\n",
    "        super().__init__()\n",
    "        self.conv = nn.Sequential(\n",
    "            nn.Conv2d(1, 16, kernel_size=7, stride=1, padding=3), \n",
    "            nn.ReLU(), \n",
    "            nn.BatchNorm2d(16), \n",
    "            nn.MaxPool2d(kernel_size=2, stride=2), \n",
    "            nn.Conv2d(16, 64, kernel_size=5, stride=1, padding=2), \n",
    "            nn.ReLU(), \n",
    "            nn.BatchNorm2d(64), \n",
    "            nn.MaxPool2d(kernel_size=2, stride=2), \n",
    "            nn.Conv2d(64, 256, kernel_size=3, stride=1, padding=1), \n",
    "            nn.ReLU(), \n",
    "            nn.BatchNorm2d(256), \n",
    "            nn.MaxPool2d(kernel_size=2, stride=2)\n",
    "        )\n",
    "        self.ap = nn.AdaptiveAvgPool2d(output_size=1)\n",
    "        self.lin = nn.Linear(in_features=256, out_features=39)\n",
    "    def forward(self, x):\n",
    "        x = self.conv(x)\n",
    "        x = self.ap(x)\n",
    "        x = x.view(x.shape[0], -1)\n",
    "        x = self.lin(x)\n",
    "        return x\n",
    "\n",
    "    def predict_on_output(self, output): \n",
    "        output = nn.Softmax(dim=1)(output)\n",
    "        preds = torch.argmax(output, dim=1)\n",
    "        return preds"
   ]
  },
  {
   "cell_type": "code",
   "execution_count": 14,
   "metadata": {},
   "outputs": [],
   "source": [
    "device = torch.device('cuda' if torch.cuda.is_available() else 'cpu')\n",
    "criterion = nn.CrossEntropyLoss()\n",
    "# NOTE: no need to mask the loss, because we don't do reconstruction. \n",
    "\n",
    "dimconf = ModelDimConfigs(\n",
    "        rnn_in_size=TrainingConfigs.N_MELS, \n",
    "        lin_in_size_1=256, \n",
    "        lin_in_size_2=ds.mapper.token_num(), \n",
    "        lin_out_size_2=ds.mapper.token_num()\n",
    "    )\n",
    "\n",
    "model = JudgeNetwork(\n",
    "    dimconf=dimconf\n",
    ")\n",
    "model.to(device)\n",
    "optimizer = optim.Adam(model.parameters(), lr=1e-3)\n",
    "\n",
    "model_str = str(model)\n",
    "model_txt_path = os.path.join(model_save_dir, \"model.txt\")\n",
    "\n",
    "with open(model_txt_path, \"w\") as f:\n",
    "    f.write(model_str)"
   ]
  },
  {
   "cell_type": "code",
   "execution_count": 15,
   "metadata": {},
   "outputs": [
    {
     "name": "stdout",
     "output_type": "stream",
     "text": [
      "==========================================================================================\n",
      "Layer (type:depth-idx)                   Output Shape              Param #\n",
      "==========================================================================================\n",
      "JudgeNetwork                             [128, 39]                 --\n",
      "├─Sequential: 1-1                        [128, 256, 8, 2]          --\n",
      "│    └─Conv2d: 2-1                       [128, 16, 64, 21]         800\n",
      "│    └─ReLU: 2-2                         [128, 16, 64, 21]         --\n",
      "│    └─BatchNorm2d: 2-3                  [128, 16, 64, 21]         32\n",
      "│    └─MaxPool2d: 2-4                    [128, 16, 32, 10]         --\n",
      "│    └─Conv2d: 2-5                       [128, 64, 32, 10]         25,664\n",
      "│    └─ReLU: 2-6                         [128, 64, 32, 10]         --\n",
      "│    └─BatchNorm2d: 2-7                  [128, 64, 32, 10]         128\n",
      "│    └─MaxPool2d: 2-8                    [128, 64, 16, 5]          --\n",
      "│    └─Conv2d: 2-9                       [128, 256, 16, 5]         147,712\n",
      "│    └─ReLU: 2-10                        [128, 256, 16, 5]         --\n",
      "│    └─BatchNorm2d: 2-11                 [128, 256, 16, 5]         512\n",
      "│    └─MaxPool2d: 2-12                   [128, 256, 8, 2]          --\n",
      "├─AdaptiveAvgPool2d: 1-2                 [128, 256, 1, 1]          --\n",
      "├─Linear: 1-3                            [128, 39]                 10,023\n",
      "==========================================================================================\n",
      "Total params: 184,871\n",
      "Trainable params: 184,871\n",
      "Non-trainable params: 0\n",
      "Total mult-adds (Units.GIGABYTES): 2.70\n",
      "==========================================================================================\n",
      "Input size (MB): 0.69\n",
      "Forward/backward pass size (MB): 127.97\n",
      "Params size (MB): 0.74\n",
      "Estimated Total Size (MB): 129.39\n",
      "==========================================================================================\n"
     ]
    }
   ],
   "source": [
    "print(str(summary(model, input_size=(128, 1, 64, 21))))"
   ]
  },
  {
   "cell_type": "code",
   "execution_count": 16,
   "metadata": {},
   "outputs": [
    {
     "data": {
      "text/plain": [
       "JudgeNetwork(\n",
       "  (conv): Sequential(\n",
       "    (0): Conv2d(1, 16, kernel_size=(7, 7), stride=(1, 1), padding=(3, 3))\n",
       "    (1): ReLU()\n",
       "    (2): BatchNorm2d(16, eps=1e-05, momentum=0.1, affine=True, track_running_stats=True)\n",
       "    (3): MaxPool2d(kernel_size=2, stride=2, padding=0, dilation=1, ceil_mode=False)\n",
       "    (4): Conv2d(16, 64, kernel_size=(5, 5), stride=(1, 1), padding=(2, 2))\n",
       "    (5): ReLU()\n",
       "    (6): BatchNorm2d(64, eps=1e-05, momentum=0.1, affine=True, track_running_stats=True)\n",
       "    (7): MaxPool2d(kernel_size=2, stride=2, padding=0, dilation=1, ceil_mode=False)\n",
       "    (8): Conv2d(64, 256, kernel_size=(3, 3), stride=(1, 1), padding=(1, 1))\n",
       "    (9): ReLU()\n",
       "    (10): BatchNorm2d(256, eps=1e-05, momentum=0.1, affine=True, track_running_stats=True)\n",
       "    (11): MaxPool2d(kernel_size=2, stride=2, padding=0, dilation=1, ceil_mode=False)\n",
       "  )\n",
       "  (ap): AdaptiveAvgPool2d(output_size=1)\n",
       "  (lin): Linear(in_features=256, out_features=39, bias=True)\n",
       ")"
      ]
     },
     "execution_count": 16,
     "metadata": {},
     "output_type": "execute_result"
    }
   ],
   "source": [
    "model"
   ]
  },
  {
   "cell_type": "markdown",
   "metadata": {},
   "source": [
    "## Load Model if READ"
   ]
  },
  {
   "cell_type": "code",
   "execution_count": 17,
   "metadata": {},
   "outputs": [],
   "source": [
    "def draw_learning_curve_and_accuracy(losses, accs, epoch=\"\", best_val=None, save=False, save_name=\"\"): \n",
    "    plt.clf()\n",
    "    fig, (ax1, ax2) = plt.subplots(1, 2, figsize=(12, 4))\n",
    "    train_losses, valid_losses, best_val_loss = losses\n",
    "    train_accs, valid_accs = accs\n",
    "\n",
    "    # Plot Loss on the left subplot\n",
    "    ax1.plot(train_losses, label='Train')\n",
    "    ax1.plot(valid_losses, label='Valid')\n",
    "    ax1.axvline(x=best_val_loss, color='r', linestyle='--', label=f'Best: {best_val_loss}')\n",
    "    ax1.set_title(\"Learning Curve Loss\" + f\" {epoch}\")\n",
    "    ax1.legend(loc=\"upper right\")\n",
    "\n",
    "    # Plot Accuracy on the right subplot\n",
    "    ax2.plot(train_accs, label='Train')\n",
    "    ax2.plot(valid_accs, label='Valid')\n",
    "    if best_val: \n",
    "        ax2.axhline(y=best_val, color='r', linestyle='--', label=f'Best: {best_val:.3f}')\n",
    "    ax2.set_title('Learning Curve Accuracy' + f\" {epoch}\")\n",
    "    ax2.legend(loc=\"lower right\")\n",
    "\n",
    "    # Display the plots\n",
    "    plt.tight_layout()\n",
    "    plt.xlabel(\"Epoch\")\n",
    "    display.clear_output(wait=True)\n",
    "    display.display(plt.gcf())\n",
    "    if save: \n",
    "        plt.savefig(save_name)"
   ]
  },
  {
   "cell_type": "code",
   "execution_count": 18,
   "metadata": {},
   "outputs": [],
   "source": [
    "if READ: \n",
    "    valid_losses.read()\n",
    "    train_losses.read()\n",
    "\n",
    "    model_raw_name = f\"{stop_epoch}\"\n",
    "    model_name = model_raw_name + \".pt\"\n",
    "    model_path = os.path.join(model_save_dir, model_name)\n",
    "    state = torch.load(model_path)\n",
    "\n",
    "    model.load_state_dict(state)\n",
    "    model.to(device)"
   ]
  },
  {
   "cell_type": "code",
   "execution_count": 19,
   "metadata": {},
   "outputs": [],
   "source": [
    "best_valid_loss = 1e9\n",
    "best_valid_loss_epoch = 0"
   ]
  },
  {
   "cell_type": "code",
   "execution_count": 20,
   "metadata": {},
   "outputs": [],
   "source": [
    "EPOCHS = 200\n",
    "BASE = 0"
   ]
  },
  {
   "cell_type": "code",
   "execution_count": 21,
   "metadata": {},
   "outputs": [],
   "source": [
    "def train(best_valid_loss, best_valid_loss_epoch): \n",
    "    for epoch in range(BASE, BASE + EPOCHS):\n",
    "        model.train()\n",
    "        train_loss = 0.\n",
    "        train_num = len(train_loader)    # train_loader\n",
    "        train_correct = 0\n",
    "        train_total = 0\n",
    "        for idx, (x, y) in enumerate(train_loader):\n",
    "            optimizer.zero_grad()\n",
    "            \n",
    "            x = x.to(device)\n",
    "            y = torch.tensor(y, device=device)\n",
    "\n",
    "            y_hat = model(x)\n",
    "            loss = criterion(y_hat, y)\n",
    "            train_loss += loss.item()\n",
    "\n",
    "            loss.backward()\n",
    "            \n",
    "            # torch.nn.utils.clip_grad_norm_(model.parameters(), clip_value)\n",
    "            # 这个函数计算的是全局梯度范数\n",
    "            # torch.nn.utils.clip_grad_norm(parameters=model.parameters(), max_norm=5, norm_type=2)\n",
    "            torch.nn.utils.clip_grad_norm_(parameters=model.parameters(), max_norm=5, norm_type=2)\n",
    "            # parameters: an iterable of Variables that will have gradients normalized\n",
    "            # max_norm: max norm of the gradients(阈值设定)\n",
    "            # norm_type: type of the used p-norm. Can be'inf'for infinity norm(定义范数类型)\n",
    "\n",
    "            optimizer.step()\n",
    "            pred = model.predict_on_output(y_hat)\n",
    "\n",
    "            train_total += y_hat.size(0)\n",
    "            train_correct += (pred == y).sum().item()\n",
    "\n",
    "            draw_progress_bar(idx, train_num, title=\"Train\")\n",
    "\n",
    "        train_losses.append(train_loss / train_num)\n",
    "        train_accs.append(train_correct / train_total)\n",
    "\n",
    "        last_model_name = f\"{epoch}.pt\"\n",
    "        torch.save(model.state_dict(), os.path.join(model_save_dir, last_model_name))\n",
    "\n",
    "        model.eval()\n",
    "        valid_loss = 0.\n",
    "        valid_num = len(valid_loader)\n",
    "        valid_correct = 0\n",
    "        valid_total = 0\n",
    "        for idx, (x, y) in enumerate(valid_loader):\n",
    "            x = x.to(device)\n",
    "            y = torch.tensor(y, device=device)\n",
    "\n",
    "            y_hat = model(x)\n",
    "            loss = criterion(y_hat, y)\n",
    "            valid_loss += loss.item()\n",
    "\n",
    "            pred = model.predict_on_output(y_hat)\n",
    "\n",
    "            valid_total += y_hat.size(0)\n",
    "            valid_correct += (pred == y).sum().item()\n",
    "\n",
    "            # draw_progress_bar(idx, valid_num, title=\"Valid\")\n",
    "\n",
    "        avg_valid_loss = valid_loss / valid_num\n",
    "        valid_losses.append(avg_valid_loss)\n",
    "        valid_accs.append(valid_correct / valid_total)\n",
    "        if avg_valid_loss < best_valid_loss: \n",
    "            best_valid_loss = avg_valid_loss\n",
    "            best_valid_loss_epoch = epoch\n",
    "\n",
    "        draw_learning_curve_and_accuracy(losses=(train_losses.get(), valid_losses.get(), best_valid_loss_epoch), \n",
    "                                         accs=(train_accs.get(), valid_accs.get()), \n",
    "                                         epoch=str(epoch))\n",
    "        train_losses.save()\n",
    "        valid_losses.save()\n",
    "        train_accs.save()\n",
    "        valid_accs.save()\n",
    "\n",
    "    return best_valid_loss, best_valid_loss_epoch"
   ]
  },
  {
   "cell_type": "code",
   "execution_count": 22,
   "metadata": {},
   "outputs": [
    {
     "data": {
      "image/png": "[encoded data removed]",
      "text/plain": [
       "<Figure size 1200x400 with 2 Axes>"
      ]
     },
     "metadata": {},
     "output_type": "display_data"
    },
    {
     "name": "stdout",
     "output_type": "stream",
     "text": [
      "Train [==================================================] 99%"
     ]
    },
    {
     "ename": "",
     "evalue": "",
     "output_type": "error",
     "traceback": [
      "\u001b[1;31mThe Kernel crashed while executing code in the the current cell or a previous cell. Please review the code in the cell(s) to identify a possible cause of the failure. Click <a href='https://aka.ms/vscodeJupyterKernelCrash'>here</a> for more info. View Jupyter <a href='command:jupyter.viewOutput'>log</a> for further details."
     ]
    }
   ],
   "source": [
    "if __name__ == \"__main__\": \n",
    "    best_valid_loss, best_valid_loss_epoch = train(best_valid_loss, best_valid_loss_epoch)\n",
    "    draw_learning_curve_and_accuracy(losses=(train_losses.get(), valid_losses.get(), best_valid_loss_epoch), \n",
    "                                    accs=(train_accs.get(), valid_accs.get()), \n",
    "                                    epoch=str(BASE + EPOCHS - 1), \n",
    "                                    best_val=valid_accs.get()[best_valid_loss_epoch], \n",
    "                                    save=True, \n",
    "                                    save_name=f\"{model_save_dir}/vis.png\")"
   ]
  },
  {
   "cell_type": "code",
   "execution_count": null,
   "metadata": {},
   "outputs": [],
   "source": []
  }
 ],
 "metadata": {
  "kernelspec": {
   "display_name": "lffl",
   "language": "python",
   "name": "python3"
  },
  "language_info": {
   "codemirror_mode": {
    "name": "ipython",
    "version": 3
   },
   "file_extension": ".py",
   "mimetype": "text/x-python",
   "name": "python",
   "nbconvert_exporter": "python",
   "pygments_lexer": "ipython3",
   "version": "3.11.5"
  }
 },
 "nbformat": 4,
 "nbformat_minor": 2
}

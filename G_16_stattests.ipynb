{
 "cells": [
  {
   "cell_type": "code",
   "execution_count": 8,
   "metadata": {},
   "outputs": [],
   "source": [
    "import matplotlib.pyplot as plt\n",
    "import numpy as np\n",
    "from scipy import stats\n",
    "import os\n",
    "from itertools import product, combinations\n",
    "\n",
    "from paths import *\n",
    "from ssd_paths import *\n",
    "from misc_recorder import *"
   ]
  },
  {
   "cell_type": "code",
   "execution_count": 2,
   "metadata": {},
   "outputs": [],
   "source": [
    "hyper_dir = model_save_\n",
    "ts = \"0121212817\""
   ]
  },
  {
   "cell_type": "code",
   "execution_count": 3,
   "metadata": {},
   "outputs": [],
   "source": [
    "class ResReader: \n",
    "    def __init__(self, dir, runtype=\"ff\", cv=\"full\"):\n",
    "        self.dir = dir\n",
    "        self.runtype = runtype\n",
    "        self.cv = cv\n",
    "    \n",
    "    def read(self):\n",
    "        read_dir = os.path.join(self.dir, self.cv, self.runtype)\n",
    "        train = ListRecorder(os.path.join(read_dir, 'train.acc'))\n",
    "        valid = ListRecorder(os.path.join(read_dir, f'valid.acc'))\n",
    "        fullvalid = ListRecorder(os.path.join(read_dir, f'full_valid.acc'))\n",
    "        train.read()\n",
    "        valid.read()\n",
    "        fullvalid.read()\n",
    "        return train.get(), valid.get(), fullvalid.get()"
   ]
  },
  {
   "cell_type": "code",
   "execution_count": 5,
   "metadata": {},
   "outputs": [],
   "source": [
    "reses = {}\n",
    "for run_case in range(1, 6): \n",
    "    dir = os.path.join(hyper_dir, f\"H12-{ts}-{run_case}\", \"large\")\n",
    "    for runtype, cv in list(product([\"lf\", \"hf\"], [\"c\", \"v\"])):\n",
    "        res = ResReader(dir, runtype=runtype, cv=cv).read()\n",
    "        val = np.mean([x - y for x, y in zip(res[1], res[2])][15:20])\n",
    "        # val = np.mean(res[2][35:40])\n",
    "        if f\"{runtype}-{cv}\" in reses.keys(): \n",
    "            reses[f\"{runtype}-{cv}\"].append(val)\n",
    "        else: \n",
    "            reses[f\"{runtype}-{cv}\"] = [val]"
   ]
  },
  {
   "cell_type": "code",
   "execution_count": 6,
   "metadata": {},
   "outputs": [
    {
     "data": {
      "text/plain": [
       "{'lf-c': [0.15747814081914405,\n",
       "  0.188403129314312,\n",
       "  0.14763000460193282,\n",
       "  0.1404509894155545,\n",
       "  0.16079153244362634],\n",
       " 'lf-v': [0.09464114832535883,\n",
       "  0.09961722488038276,\n",
       "  0.09808612440191389,\n",
       "  0.11253588516746411,\n",
       "  0.07655502392344496],\n",
       " 'hf-c': [0.16474919466175794,\n",
       "  0.22788771283939252,\n",
       "  0.18242061665899678,\n",
       "  0.20368154624942472,\n",
       "  0.18232857800276114],\n",
       " 'hf-v': [0.18401913875598083,\n",
       "  0.11110047846889952,\n",
       "  0.1168421052631579,\n",
       "  0.1600956937799043,\n",
       "  0.2103349282296651]}"
      ]
     },
     "execution_count": 6,
     "metadata": {},
     "output_type": "execute_result"
    }
   ],
   "source": [
    "reses"
   ]
  },
  {
   "cell_type": "code",
   "execution_count": 7,
   "metadata": {},
   "outputs": [
    {
     "data": {
      "image/png": "[encoded data removed]",
      "text/plain": [
       "<Figure size 640x480 with 1 Axes>"
      ]
     },
     "metadata": {},
     "output_type": "display_data"
    }
   ],
   "source": [
    "data = list(reses.values())\n",
    "\n",
    "# Function to calculate mean and 95% CI\n",
    "def mean_confidence_interval(data, confidence=0.95):\n",
    "    n = len(data)\n",
    "    mean = np.mean(data)\n",
    "    sem = stats.sem(data)\n",
    "    margin = sem * stats.t.ppf((1 + confidence) / 2., n-1)\n",
    "    return mean, margin\n",
    "\n",
    "# Calculate means and CIs\n",
    "means = [mean_confidence_interval(group)[0] for group in data]\n",
    "cis = [mean_confidence_interval(group)[1] for group in data]\n",
    "\n",
    "# Plotting\n",
    "fig, ax = plt.subplots()\n",
    "x_pos = np.arange(len(data))\n",
    "ax.bar(x_pos, means, yerr=cis, align='center', alpha=0.7, ecolor='black', capsize=10)\n",
    "ax.set_ylabel('Value')\n",
    "ax.set_xticks(x_pos)\n",
    "ax.set_xticklabels(reses.keys())\n",
    "ax.set_title('Bar chart with 95% CI')\n",
    "ax.yaxis.grid(True)\n",
    "\n",
    "# Show the plot\n",
    "plt.tight_layout()\n",
    "plt.show()"
   ]
  },
  {
   "cell_type": "code",
   "execution_count": 9,
   "metadata": {},
   "outputs": [
    {
     "name": "stdout",
     "output_type": "stream",
     "text": [
      "lf-c lf-v TtestResult(statistic=6.244839374236373, pvalue=0.00024708789809278086, df=8.0)\n",
      "lf-c hf-c TtestResult(statistic=-2.4470272792645433, pvalue=0.040122319306627505, df=8.0)\n",
      "lf-c hf-v TtestResult(statistic=0.11890894923267921, pvalue=0.9082791504408734, df=8.0)\n",
      "lf-v hf-c TtestResult(statistic=-7.803181539832211, pvalue=5.222100245994996e-05, df=8.0)\n",
      "lf-v hf-v TtestResult(statistic=-3.0147162018483797, pvalue=0.016693222403766344, df=8.0)\n",
      "hf-c hf-v TtestResult(statistic=1.626476427370204, pvalue=0.1425005439288532, df=8.0)\n"
     ]
    }
   ],
   "source": [
    "for a, b in list(combinations(reses.keys(), 2)): \n",
    "    print(a, b, stats.ttest_ind(reses[a], reses[b]))"
   ]
  }
 ],
 "metadata": {
  "kernelspec": {
   "display_name": "lffl",
   "language": "python",
   "name": "python3"
  },
  "language_info": {
   "codemirror_mode": {
    "name": "ipython",
    "version": 3
   },
   "file_extension": ".py",
   "mimetype": "text/x-python",
   "name": "python",
   "nbconvert_exporter": "python",
   "pygments_lexer": "ipython3",
   "version": "3.1.undefined"
  }
 },
 "nbformat": 4,
 "nbformat_minor": 2
}

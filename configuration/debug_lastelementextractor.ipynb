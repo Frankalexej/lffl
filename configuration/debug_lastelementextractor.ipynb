{
 "cells": [
  {
   "cell_type": "code",
   "execution_count": 1,
   "metadata": {},
   "outputs": [],
   "source": [
    "import torch\n",
    "import torch.nn as nn\n",
    "import unittest"
   ]
  },
  {
   "cell_type": "code",
   "execution_count": 2,
   "metadata": {},
   "outputs": [],
   "source": [
    "class LastElementExtractor(nn.Module): \n",
    "    def __init__(self): \n",
    "        super(LastElementExtractor, self).__init__()\n",
    "        self.device = torch.device('cuda' if torch.cuda.is_available() else 'cpu')\n",
    "        self.cpu = torch.device('cpu')\n",
    "    \n",
    "    def forward(self, packed, lengths): \n",
    "        lengths = torch.tensor(lengths, device=self.device)\n",
    "        sum_batch_sizes = torch.cat((\n",
    "            torch.zeros(2, dtype=torch.int64, device=self.device),\n",
    "            torch.cumsum(packed.batch_sizes, 0).to(self.device)\n",
    "        ))\n",
    "        sorted_lengths = lengths[packed.sorted_indices]\n",
    "        last_seq_idxs = sum_batch_sizes[sorted_lengths] + torch.arange(lengths.size(0), device=self.device)\n",
    "        last_seq_items = packed.data[last_seq_idxs]\n",
    "        last_seq_items = last_seq_items[packed.unsorted_indices]\n",
    "        return last_seq_items\n"
   ]
  },
  {
   "cell_type": "code",
   "execution_count": 3,
   "metadata": {},
   "outputs": [],
   "source": [
    "extractor = LastElementExtractor()"
   ]
  },
  {
   "cell_type": "code",
   "execution_count": 4,
   "metadata": {},
   "outputs": [],
   "source": [
    "tensor1 = torch.rand((15, 3)).cuda()\n",
    "tensor2 = torch.rand((5, 3)).cuda()\n",
    "tensor3 = torch.rand((7, 3)).cuda()"
   ]
  },
  {
   "cell_type": "code",
   "execution_count": 5,
   "metadata": {},
   "outputs": [],
   "source": [
    "x_lens = [len(x) for x in [tensor1, tensor2, tensor3]]"
   ]
  },
  {
   "cell_type": "code",
   "execution_count": 7,
   "metadata": {},
   "outputs": [],
   "source": [
    "padded = torch.nn.utils.rnn.pad_sequence([tensor1, tensor2, tensor3], batch_first=True, padding_value=0).cuda()\n",
    "lengths = x_lens"
   ]
  },
  {
   "cell_type": "code",
   "execution_count": 9,
   "metadata": {},
   "outputs": [],
   "source": [
    "# Example input data (replace this with your actual data)\n",
    "# Assuming you have a batch with sequences of varying lengths\n",
    "packed_data = torch.nn.utils.rnn.pack_padded_sequence(\n",
    "    input=padded, \n",
    "    lengths=x_lens,\n",
    "    batch_first=True, \n",
    "    enforce_sorted=False\n",
    ")"
   ]
  },
  {
   "cell_type": "code",
   "execution_count": 10,
   "metadata": {},
   "outputs": [
    {
     "data": {
      "text/plain": [
       "PackedSequence(data=tensor([[0.3184, 0.2381, 0.4290],\n",
       "        [0.1733, 0.7734, 0.2084],\n",
       "        [0.8003, 0.6720, 0.9785],\n",
       "        [0.1066, 0.5522, 0.3547],\n",
       "        [0.8433, 0.2275, 0.9411],\n",
       "        [0.4051, 0.9581, 0.3979],\n",
       "        [0.7188, 0.9364, 0.6651],\n",
       "        [0.4706, 0.4933, 0.1621],\n",
       "        [0.2045, 0.0809, 0.8412],\n",
       "        [0.4068, 0.3141, 0.4388],\n",
       "        [0.9332, 0.2752, 0.3174],\n",
       "        [0.1401, 0.6576, 0.2207],\n",
       "        [0.9246, 0.0241, 0.4466],\n",
       "        [0.2646, 0.1211, 0.1426],\n",
       "        [0.9581, 0.1979, 0.9731],\n",
       "        [0.6771, 0.6680, 0.4588],\n",
       "        [0.8474, 0.4225, 0.5481],\n",
       "        [0.0614, 0.9151, 0.1420],\n",
       "        [0.6538, 0.7743, 0.3885],\n",
       "        [0.9349, 0.2641, 0.5217],\n",
       "        [0.4619, 0.1913, 0.5321],\n",
       "        [0.4055, 0.4580, 0.7845],\n",
       "        [0.5721, 0.8156, 0.7532],\n",
       "        [0.1942, 0.5352, 0.5089],\n",
       "        [0.2887, 0.1266, 0.5590],\n",
       "        [0.1021, 0.9943, 0.8693],\n",
       "        [0.5918, 0.6741, 0.4941]], device='cuda:0'), batch_sizes=tensor([3, 3, 3, 3, 3, 2, 2, 1, 1, 1, 1, 1, 1, 1, 1]), sorted_indices=tensor([0, 2, 1], device='cuda:0'), unsorted_indices=tensor([0, 2, 1], device='cuda:0'))"
      ]
     },
     "execution_count": 10,
     "metadata": {},
     "output_type": "execute_result"
    }
   ],
   "source": [
    "packed_data.to(extractor.device)"
   ]
  },
  {
   "cell_type": "code",
   "execution_count": 11,
   "metadata": {},
   "outputs": [],
   "source": [
    "last_elements = extractor(packed_data, lengths)"
   ]
  },
  {
   "cell_type": "code",
   "execution_count": 16,
   "metadata": {},
   "outputs": [
    {
     "data": {
      "text/plain": [
       "torch.Size([3, 3])"
      ]
     },
     "execution_count": 16,
     "metadata": {},
     "output_type": "execute_result"
    }
   ],
   "source": [
    "last_elements.shape"
   ]
  },
  {
   "cell_type": "markdown",
   "metadata": {},
   "source": [
    "# Conclusion: this last element extractor is correct. "
   ]
  }
 ],
 "metadata": {
  "kernelspec": {
   "display_name": "lffl",
   "language": "python",
   "name": "python3"
  },
  "language_info": {
   "codemirror_mode": {
    "name": "ipython",
    "version": 3
   },
   "file_extension": ".py",
   "mimetype": "text/x-python",
   "name": "python",
   "nbconvert_exporter": "python",
   "pygments_lexer": "ipython3",
   "version": "3.11.5"
  }
 },
 "nbformat": 4,
 "nbformat_minor": 2
}

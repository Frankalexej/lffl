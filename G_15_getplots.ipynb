{
 "cells": [
  {
   "cell_type": "code",
   "execution_count": 1,
   "metadata": {},
   "outputs": [],
   "source": [
    "import matplotlib.pyplot as plt\n",
    "import numpy as np\n",
    "from scipy import stats\n",
    "import os\n",
    "from itertools import product, combinations\n",
    "\n",
    "from paths import *\n",
    "from ssd_paths import *\n",
    "from misc_recorder import *\n",
    "\n",
    "import shutil"
   ]
  },
  {
   "cell_type": "code",
   "execution_count": 3,
   "metadata": {},
   "outputs": [],
   "source": [
    "hyper_dir = model_save_\n",
    "ts = \"0206170859\"\n",
    "plot_save_place = \"../plots/\"\n",
    "mk(plot_save_place)"
   ]
  },
  {
   "cell_type": "code",
   "execution_count": 4,
   "metadata": {},
   "outputs": [],
   "source": [
    "for run_case in range(1, 11): \n",
    "    dir = os.path.join(hyper_dir, f\"H18-{ts}-{run_case}\", \"large\")\n",
    "    for runtype, cv in list(product([\"lf\", \"hf\", \"ff\"], [\"c\", \"v\"])):\n",
    "        shutil.copy(os.path.join(dir, cv, runtype, \"vis.png\"), os.path.join(plot_save_place, f\"{run_case}-{cv}-{runtype}-vis.png\"))"
   ]
  },
  {
   "cell_type": "code",
   "execution_count": 3,
   "metadata": {},
   "outputs": [],
   "source": [
    "class ResReader: \n",
    "    def __init__(self, dir, runtype=\"ff\", cv=\"full\"):\n",
    "        self.dir = dir\n",
    "        self.runtype = runtype\n",
    "        self.cv = cv\n",
    "    \n",
    "    def read(self):\n",
    "        read_dir = os.path.join(self.dir, self.cv, self.runtype)\n",
    "        train = ListRecorder(os.path.join(read_dir, 'train.acc'))\n",
    "        valid = ListRecorder(os.path.join(read_dir, f'valid.acc'))\n",
    "        fullvalid = ListRecorder(os.path.join(read_dir, f'full_valid.acc'))\n",
    "        trainlikevalid = ListRecorder(os.path.join(read_dir, f'trainlikevalid.acc'))\n",
    "        train.read()\n",
    "        valid.read()\n",
    "        fullvalid.read()\n",
    "        trainlikevalid.read()\n",
    "        return train.get(), valid.get(), fullvalid.get(), trainlikevalid.get()"
   ]
  },
  {
   "cell_type": "code",
   "execution_count": 4,
   "metadata": {},
   "outputs": [],
   "source": [
    "def draw(reses, y_label=\"Accuracy\", title=\"\"): \n",
    "    data = list(reses.values())\n",
    "\n",
    "    # Function to calculate mean and 95% CI\n",
    "    def mean_confidence_interval(data, confidence=0.95):\n",
    "        n = len(data)\n",
    "        mean = np.mean(data)\n",
    "        sem = stats.sem(data)\n",
    "        margin = sem * stats.t.ppf((1 + confidence) / 2., n-1)\n",
    "        return mean, margin\n",
    "\n",
    "    # Calculate means and CIs\n",
    "    means = [mean_confidence_interval(group)[0] for group in data]\n",
    "    cis = [mean_confidence_interval(group)[1] for group in data]\n",
    "\n",
    "    # Plotting\n",
    "    fig, ax = plt.subplots()\n",
    "    x_pos = np.arange(len(data))\n",
    "    ax.bar(x_pos, means, yerr=cis, align='center', alpha=0.7, ecolor='black', capsize=10)\n",
    "    ax.set_ylabel(y_label)\n",
    "    ax.set_xticks(x_pos)\n",
    "    ax.set_xticklabels(reses.keys())\n",
    "    ax.set_title(title)\n",
    "    ax.yaxis.grid(True)\n",
    "\n",
    "    # Show the plot\n",
    "    plt.tight_layout()\n",
    "    # plt.show()\n",
    "    plt.savefig(os.path.join(plot_save_place, f\"{ts}-{title}.png\"))"
   ]
  }
 ],
 "metadata": {
  "kernelspec": {
   "display_name": "lffl",
   "language": "python",
   "name": "python3"
  },
  "language_info": {
   "codemirror_mode": {
    "name": "ipython",
    "version": 3
   },
   "file_extension": ".py",
   "mimetype": "text/x-python",
   "name": "python",
   "nbconvert_exporter": "python",
   "pygments_lexer": "ipython3",
   "version": "3.11.5"
  }
 },
 "nbformat": 4,
 "nbformat_minor": 2
}

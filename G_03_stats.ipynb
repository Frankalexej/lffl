{
 "cells": [
  {
   "cell_type": "code",
   "execution_count": 1,
   "metadata": {},
   "outputs": [],
   "source": [
    "import matplotlib.pyplot as plt\n",
    "import numpy as np\n",
    "from scipy import stats\n",
    "\n",
    "from paths import *\n",
    "from ssd_paths import *\n",
    "from misc_recorder import *"
   ]
  },
  {
   "cell_type": "code",
   "execution_count": 2,
   "metadata": {},
   "outputs": [],
   "source": [
    "hyper_dir = model_save_"
   ]
  },
  {
   "cell_type": "code",
   "execution_count": 3,
   "metadata": {},
   "outputs": [],
   "source": [
    "res = {\"ff\": [], \"lf\": [], \"hf\": []}"
   ]
  },
  {
   "cell_type": "code",
   "execution_count": 4,
   "metadata": {},
   "outputs": [],
   "source": [
    "for subdir in sorted(os.listdir(hyper_dir)): \n",
    "    if subdir.startswith(\"H02\"):\n",
    "        for subsubdir in [\"ff\", \"lf\", \"hf\"]:\n",
    "            this_dir = os.path.join(hyper_dir, subdir, subsubdir)\n",
    "            val_accs = ListRecorder(os.path.join(this_dir, \"valacc.hst\"))\n",
    "            val_accs.read()\n",
    "            res[subsubdir].append(np.mean(val_accs.record[39:50]))"
   ]
  },
  {
   "cell_type": "code",
   "execution_count": 5,
   "metadata": {},
   "outputs": [
    {
     "data": {
      "image/png": "[encoded data removed]",
      "text/plain": [
       "<Figure size 640x480 with 1 Axes>"
      ]
     },
     "metadata": {},
     "output_type": "display_data"
    }
   ],
   "source": [
    "# Sample data for three sets\n",
    "data_set1 = res[\"ff\"]\n",
    "data_set2 = res[\"lf\"]\n",
    "data_set3 = res[\"hf\"]\n",
    "\n",
    "# Calculate the mean and standard error for each data set\n",
    "mean_set1 = np.mean(data_set1)\n",
    "mean_set2 = np.mean(data_set2)\n",
    "mean_set3 = np.mean(data_set3)\n",
    "\n",
    "n_set1 = len(data_set1)\n",
    "n_set2 = len(data_set2)\n",
    "n_set3 = len(data_set3)\n",
    "\n",
    "std_err_set1 = stats.sem(data_set1)\n",
    "std_err_set2 = stats.sem(data_set2)\n",
    "std_err_set3 = stats.sem(data_set3)\n",
    "\n",
    "# Calculate the confidence intervals (95% CI)\n",
    "ci_set1 = stats.t.interval(0.95, df=n_set1 - 1, loc=mean_set1, scale=std_err_set1)\n",
    "ci_set2 = stats.t.interval(0.95, df=n_set2 - 1, loc=mean_set2, scale=std_err_set2)\n",
    "ci_set3 = stats.t.interval(0.95, df=n_set3 - 1, loc=mean_set3, scale=std_err_set3)\n",
    "\n",
    "# X-axis values (assuming you have categories or labels for each data point)\n",
    "x_labels = ['FF', 'LF', 'HF']\n",
    "\n",
    "# Create an array of x values for each set\n",
    "x = range(len(x_labels))\n",
    "\n",
    "# Create the bar graph with error barsimport numpy as np\n",
    "from scipy import stats\n",
    "\n",
    "plt.bar(x, [mean_set1, mean_set2, mean_set3], yerr=[(ci_set1[1] - mean_set1, ci_set2[1] - mean_set2, ci_set3[1] - mean_set3), \n",
    "                                                    (mean_set1 - ci_set1[0], mean_set2 - ci_set2[0], mean_set3 - ci_set3[0])],\n",
    "        label='Data', capsize=5, width=0.2, align='center')\n",
    "\n",
    "# Set the x-axis ticks and labels\n",
    "plt.xticks(x, x_labels)\n",
    "\n",
    "# Add labels and a legend\n",
    "plt.xlabel('Categories')\n",
    "plt.ylabel('Values')\n",
    "plt.title('Bar Graph with 95% CI Error Bars')\n",
    "plt.legend()\n",
    "\n",
    "# Show the plot\n",
    "plt.show()\n"
   ]
  },
  {
   "cell_type": "code",
   "execution_count": 6,
   "metadata": {},
   "outputs": [
    {
     "name": "stdout",
     "output_type": "stream",
     "text": [
      "T-test for ff and lf: t = 3.8489315147789385, p = 0.001771274200309006\n",
      "T-test for ff and hf: t = 4.757097360652206, p = 0.00030632495704896137\n",
      "T-test for lf and hf: t = 0.4747111206513117, p = 0.6423128418370496\n"
     ]
    }
   ],
   "source": [
    "for pair in [(\"ff\", \"lf\"), (\"ff\", \"hf\"), (\"lf\", \"hf\")]:\n",
    "    data_set1 = res[pair[0]]\n",
    "    data_set2 = res[pair[1]]\n",
    "    t_test_statistic, p_value = stats.ttest_ind(data_set1, data_set2)\n",
    "    print(\"T-test for {} and {}: t = {}, p = {}\".format(pair[0], pair[1], t_test_statistic, p_value))"
   ]
  },
  {
   "cell_type": "code",
   "execution_count": null,
   "metadata": {},
   "outputs": [],
   "source": []
  }
 ],
 "metadata": {
  "kernelspec": {
   "display_name": "nlffl",
   "language": "python",
   "name": "python3"
  },
  "language_info": {
   "codemirror_mode": {
    "name": "ipython",
    "version": 3
   },
   "file_extension": ".py",
   "mimetype": "text/x-python",
   "name": "python",
   "nbconvert_exporter": "python",
   "pygments_lexer": "ipython3",
   "version": "3.11.5"
  }
 },
 "nbformat": 4,
 "nbformat_minor": 2
}
